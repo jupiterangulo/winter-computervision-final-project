{
 "cells": [
  {
   "cell_type": "markdown",
   "metadata": {
    "id": "4j7xeBaa_Qgg"
   },
   "source": [
    "# **FINE TUNING FASTER RCNN USING PYTORCH**\n",
    "\n",
    "Hello Everyone!\n",
    "\n",
    "In this Notebook I will show you how we can fine tune a Faster RCNN on the fruits images dataset. If you want to brush up about what is Faster RCNN, [here's](https://medium.com/@whatdhack/a-deeper-look-at-how-faster-rcnn-works-84081284e1cd) an awesome medium article on the same.\n",
    "\n",
    "The code is inspired by the Pytorch docs tutorial [here](https://pytorch.org/tutorials/intermediate/torchvision_tutorial.html)\n"
   ]
  },
  {
   "cell_type": "markdown",
   "metadata": {
    "id": "6gPQuv1D_Qgh"
   },
   "source": [
    "## Installs and Imports"
   ]
  },
  {
   "cell_type": "markdown",
   "metadata": {
    "id": "ILFrn05x_Qgh"
   },
   "source": [
    "Since a lot of code for object detection is same and has to be rewritten by everyone, torchvision contributers have provided us with helper codes for training, evaluation and transformations.\n",
    "\n",
    "Let's clone the repo and copy the libraries into working directory"
   ]
  },
  {
   "cell_type": "code",
   "execution_count": 2,
   "metadata": {
    "colab": {
     "base_uri": "https://localhost:8080/"
    },
    "id": "9M1gQsY-_Qgh",
    "outputId": "24cbc4f3-1afc-4869-e83c-54088618c219",
    "tags": []
   },
   "outputs": [
    {
     "name": "stdout",
     "output_type": "stream",
     "text": [
      "Cloning into 'vision'...\n",
      "remote: Enumerating objects: 469869, done.\u001b[K\n",
      "remote: Counting objects: 100% (50327/50327), done.\u001b[K\n",
      "remote: Compressing objects: 100% (2345/2345), done.\u001b[K\n",
      "remote: Total 469869 (delta 48053), reused 50124 (delta 47906), pack-reused 419542\u001b[K\n",
      "Receiving objects: 100% (469869/469869), 923.23 MiB | 46.38 MiB/s, done.\n",
      "Resolving deltas: 100% (437156/437156), done.\n",
      "error: pathspec 'v0.3.0' did not match any file(s) known to git\n"
     ]
    }
   ],
   "source": [
    "# Download TorchVision repo to use some files from\n",
    "# references/detection\n",
    "!pip install pycocotools --quiet\n",
    "!git clone https://github.com/pytorch/vision.git\n",
    "!git checkout v0.3.0\n",
    "\n",
    "!cp vision/references/detection/utils.py ./\n",
    "!cp vision/references/detection/transforms.py ./\n",
    "!cp vision/references/detection/coco_eval.py ./\n",
    "!cp vision/references/detection/engine.py ./\n",
    "!cp vision/references/detection/coco_utils.py ./"
   ]
  },
  {
   "cell_type": "code",
   "execution_count": null,
   "metadata": {
    "tags": []
   },
   "outputs": [],
   "source": []
  },
  {
   "cell_type": "markdown",
   "metadata": {
    "id": "Zaywp09f_Qgh"
   },
   "source": [
    "Lets import the libraries"
   ]
  },
  {
   "cell_type": "code",
   "execution_count": 1,
   "metadata": {
    "id": "TYB2dxVr_Qgh",
    "tags": []
   },
   "outputs": [],
   "source": [
    "# Basic python and ML Libraries\n",
    "import os\n",
    "import random\n",
    "import numpy as np\n",
    "import pandas as pd\n",
    "# for ignoring warnings\n",
    "import warnings\n",
    "warnings.filterwarnings('ignore')\n",
    "\n",
    "# We will be reading images using OpenCV\n",
    "import cv2\n",
    "\n",
    "# xml library for parsing xml files\n",
    "from xml.etree import ElementTree as et\n",
    "\n",
    "# matplotlib for visualization\n",
    "import matplotlib.pyplot as plt\n",
    "import matplotlib.patches as patches\n",
    "\n",
    "# torchvision libraries\n",
    "import torch\n",
    "import torchvision\n",
    "from torchvision import transforms as torchtrans\n",
    "from torchvision.models.detection.faster_rcnn import FastRCNNPredictor\n",
    "\n",
    "# these are the helper libraries imported.\n",
    "from engine import train_one_epoch, evaluate\n",
    "import utils\n",
    "import transforms as T\n",
    "\n",
    "# for image augmentations\n",
    "import albumentations as A\n",
    "from albumentations.pytorch.transforms import ToTensorV2\n",
    "\n",
    "import pickle\n",
    "\n",
    "from pycocotools.coco import COCO\n",
    "from pycocotools.cocoeval import COCOeval\n"
   ]
  },
  {
   "cell_type": "code",
   "execution_count": 2,
   "metadata": {
    "colab": {
     "base_uri": "https://localhost:8080/"
    },
    "id": "QLlsNmSFOfcq",
    "outputId": "cc021b77-31be-4338-ca82-bf7171cb6776",
    "tags": []
   },
   "outputs": [],
   "source": [
    "classes = [_, 'A10','A400M','AG600', 'B1','B2',\n",
    "                        'B52','Be200','C130','C17','C5','E2','EF2000','F117','F14',\n",
    "                        'F15','F16','F18','F22','F35','F4','J20','JAS39',\n",
    "                        'MQ9','Mig31','Mirage2000','RQ4','Rafale','SR71',\n",
    "                        'Su57','Tu160','Tu95','U2','US2','V22','Vulcan','XB70','YF23']"
   ]
  },
  {
   "cell_type": "code",
   "execution_count": 3,
   "metadata": {
    "tags": []
   },
   "outputs": [
    {
     "data": {
      "text/plain": [
       "38"
      ]
     },
     "execution_count": 3,
     "metadata": {},
     "output_type": "execute_result"
    }
   ],
   "source": [
    "len(classes)"
   ]
  },
  {
   "cell_type": "markdown",
   "metadata": {
    "id": "vcw92GKU_Qgh"
   },
   "source": [
    "## Dataset"
   ]
  },
  {
   "cell_type": "markdown",
   "metadata": {
    "id": "szINC8JS_Qgh"
   },
   "source": [
    "Lets build the Aircrafts images dataset!"
   ]
  },
  {
   "cell_type": "code",
   "execution_count": 5,
   "metadata": {
    "id": "QLEeyXxyB7L9",
    "tags": []
   },
   "outputs": [
    {
     "name": "stdout",
     "output_type": "stream",
     "text": [
      "length of dataset =  3717 \n",
      "\n",
      "(640, 640, 3) \n",
      " {'boxes': tensor([[138.6667, 130.5632, 534.4000, 495.0188]]), 'labels': tensor([15]), 'area': tensor([144227.2188]), 'iscrowd': tensor([0]), 'image_id': 3}\n"
     ]
    }
   ],
   "source": [
    "### New Attempt w/ pickle\n",
    "\n",
    "# defining the files directory and testing directory\n",
    "files_dir = '/home/jupyter/images_gcs/det_modify/train'\n",
    "test_dir = '/home/jupyter/images_gcs/det_modify/test'\n",
    "val_dir = '/home/jupyter/images_gcs/det_modify/val'\n",
    "\n",
    "\n",
    "train_pickle = '/home/jupyter/images_gcs/det_modify/label_train_df.pkl'\n",
    "test_pickle = '/home/jupyter/images_gcs/det_modify/label_test_df.pkl'\n",
    "val_pickle = '/home/jupyter/images_gcs/det_modify/label_val_df.pkl'\n",
    "\n",
    "class AircraftsDataset(torch.utils.data.Dataset):\n",
    "\n",
    "    def __init__(self, files_dir, width, height, transforms=None, pickle_file='/home/jupyter/images_gcs/det_modify/label_train_df.pkl'):\n",
    "        self.transforms = transforms\n",
    "        self.files_dir = files_dir\n",
    "        self.height = height\n",
    "        self.width = width\n",
    "        self.pickle_file = pickle_file\n",
    "\n",
    "        self.imgs = [image for image in sorted(os.listdir(files_dir)) if image[-4:]=='.jpg']\n",
    "\n",
    "        self.classes = [_, 'A10','A400M','AG600', 'B1','B2',\n",
    "                        'B52','Be200','C130','C17','C5','E2','EF2000','F117','F14',\n",
    "                        'F15','F16','F18','F22','F35','F4','J20','JAS39',\n",
    "                        'MQ9','Mig31','Mirage2000','RQ4','Rafale','SR71',\n",
    "                        'Su57','Tu160','Tu95','U2','US2','V22','Vulcan','XB70','YF23']\n",
    "\n",
    "        # Load the pickle file (assuming it contains a Pandas DataFrame)\n",
    "        with open(self.pickle_file, 'rb') as f:\n",
    "            self.df = pickle.load(f)\n",
    "\n",
    "    def __getitem__(self, idx):\n",
    "        img_name = self.imgs[idx]\n",
    "        image_path = os.path.join(self.files_dir, img_name)\n",
    "\n",
    "        img = cv2.imread(image_path)\n",
    "        img_rgb = cv2.cvtColor(img, cv2.COLOR_BGR2RGB).astype(np.float32)\n",
    "        img_res = cv2.resize(img_rgb, (self.width, self.height), cv2.INTER_AREA)\n",
    "        img_res /= 255.0\n",
    "\n",
    "        wt = img.shape[1]\n",
    "        ht = img.shape[0]\n",
    "\n",
    "        boxes = []\n",
    "        labels = []\n",
    "        areas = []\n",
    "\n",
    "        # Filter for the current image and extract bounding boxes\n",
    "        img_df = self.df[self.df['filename'] == img_name[:-4]]\n",
    "        #print(img_df)\n",
    "        for _, row in img_df.iterrows():\n",
    "            labels.append(self.classes.index(row['class']))\n",
    "            xmin = row['xmin_r'] * self.width\n",
    "            xmax = row['xmax_r'] * self.width\n",
    "            ymin = row['ymin_r'] * self.height\n",
    "            ymax = row['ymax_r'] * self.height\n",
    "\n",
    "            #f_wt = row['width']\n",
    "            #f_ht = row['height']\n",
    "\n",
    "            #xmin_corr = (xmin / f_wt) * self.width\n",
    "            #xmax_corr = (xmax / f_wt) * self.width\n",
    "            #ymin_corr = (ymin / f_ht) * self.height\n",
    "            #ymax_corr = (ymax / f_ht) * self.height\n",
    "\n",
    "            boxes.append([xmin, ymin, xmax, ymax])\n",
    "\n",
    "            # Calculate the area\n",
    "            area = (xmax - xmin) * (ymax - ymin)\n",
    "            areas.append(area)  # Store the area\n",
    "\n",
    "       # convert boxes into a torch.Tensor\n",
    "        boxes = torch.as_tensor(boxes, dtype=torch.float32)\n",
    "        areas = torch.as_tensor(areas)\n",
    "\n",
    "\n",
    "\n",
    "        # suppose all instances are not crowd\n",
    "        iscrowd = torch.zeros((boxes.shape[0],), dtype=torch.int64)\n",
    "\n",
    "        labels = torch.as_tensor(labels, dtype=torch.int64)\n",
    "\n",
    "\n",
    "        target = {}\n",
    "        target[\"boxes\"] = boxes\n",
    "        target[\"labels\"] = labels\n",
    "        target[\"area\"] = areas\n",
    "        target[\"iscrowd\"] = iscrowd\n",
    "        # image_id\n",
    "        image_id = idx\n",
    "        target[\"image_id\"] = image_id\n",
    "\n",
    "\n",
    "        if self.transforms:\n",
    "\n",
    "            sample = self.transforms(image = img_res,\n",
    "                                     bboxes = target['boxes'],\n",
    "                                     labels = labels)\n",
    "\n",
    "            img_res = sample['image']\n",
    "            target['boxes'] = torch.Tensor(sample['bboxes'])\n",
    "\n",
    "\n",
    "\n",
    "        return img_res, target\n",
    "\n",
    "    def __len__(self):\n",
    "        return len(self.imgs)\n",
    "\n",
    "\n",
    "# check dataset\n",
    "dataset = AircraftsDataset(files_dir, 640, 640)\n",
    "print('length of dataset = ', len(dataset), '\\n')\n",
    "\n",
    "# getting the image and target for a test index.  Feel free to change the index.\n",
    "img, target = dataset[3]\n",
    "print(img.shape, '\\n',target)"
   ]
  },
  {
   "cell_type": "code",
   "execution_count": 14,
   "metadata": {
    "tags": []
   },
   "outputs": [],
   "source": [
    "import pickle\n",
    "import pandas as pd\n",
    "import json\n",
    "\n",
    "# **1. Load the pickle file**\n",
    "with open(val_pickle, 'rb') as f:\n",
    "    df = pd.read_pickle(f)\n",
    "\n",
    "# **2. Data Preparation**\n",
    "def process_row(row, image_id, class_mapping):\n",
    "    category_id = class_mapping.get(row['class'], None) \n",
    "    if category_id is None:\n",
    "        # Handle classes not present in the mapping\n",
    "        return None  \n",
    "\n",
    "    return {\n",
    "        \"id\": image_id,  # Example annotation ID generation\n",
    "        \"image_id\": image_id,\n",
    "        \"category_id\": category_id,\n",
    "        \"bbox\": [\n",
    "            row['xmin_r']*640,\n",
    "            row['ymin_r']*640,\n",
    "            row['xmax_r']*640 - row['xmin_r']*640,  # Calculate width\n",
    "            row['ymax_r']*640 - row['ymin_r']*640   # Calculate height\n",
    "        ]\n",
    "    }\n",
    "\n",
    "# **3. Create Mapping for Classes (if you don't have one)**\n",
    "class_mapping = {\n",
    "'A10':1,'A400M':2,'AG600':3, 'B1':4,'B2':5,\n",
    "                        'B52':6,'Be200':7,'C130':8,'C17':9,'C5':10,'E2':11,'EF2000':12,'F117':13,'F14':14,\n",
    "                        'F15':15,'F16':16,'F18':17,'F22':18,'F35':19,'F4':20,'J20':21,'JAS39':22,\n",
    "                        'MQ9':23,'Mig31':24,'Mirage2000':25,'RQ4':26,'Rafale':27,'SR71':28,\n",
    "                        'Su57':29,'Tu160':30,'Tu95':31,'U2':32,'US2':33,'V22':34,'Vulcan':35,'XB70':36,'YF23':37\n",
    "} \n",
    "\n",
    "# **4. Process Data**\n",
    "images = []\n",
    "categories = list(class_mapping.items())  # Get category ID and name pairs\n",
    "annotations = []\n",
    "\n",
    "for idx, row in df.iterrows():\n",
    "    image_id = idx  # Use index as image ID for simplicity\n",
    "    images.append({\"id\": image_id, \"file_name\": f\"{image_id}.jpg\"})\n",
    "\n",
    "    annotation = process_row(row, image_id, class_mapping)\n",
    "    if annotation:\n",
    "        annotations.append(annotation)\n",
    "\n",
    "# **5. Create JSON Structure**\n",
    "data = {\n",
    "    \"categories\": categories,\n",
    "    \"images\": images,\n",
    "    \"annotations\": annotations\n",
    "}\n",
    "\n",
    "# **6. Serialize to JSON**\n",
    "with open('output.json', 'w') as f:\n",
    "    json.dump(data, f, indent=4)"
   ]
  },
  {
   "cell_type": "markdown",
   "metadata": {
    "id": "fZ82DZh4_Qgi"
   },
   "source": [
    "# Visualization"
   ]
  },
  {
   "cell_type": "code",
   "execution_count": 5,
   "metadata": {
    "colab": {
     "base_uri": "https://localhost:8080/",
     "height": 537
    },
    "id": "EN9u3sLI_Qgi",
    "outputId": "93c2b360-05e1-4c79-f828-becf686f1e41",
    "tags": []
   },
   "outputs": [
    {
     "data": {
      "image/png": "[encoded data removed]",
      "text/plain": [
       "<Figure size 500x500 with 1 Axes>"
      ]
     },
     "metadata": {},
     "output_type": "display_data"
    }
   ],
   "source": [
    "# Function to visualize bounding boxes in the image\n",
    "\n",
    "def plot_img_bbox(img, target):\n",
    "    # plot the image and bboxes\n",
    "    # Bounding boxes are defined as follows: x-min y-min width height\n",
    "    fig, a = plt.subplots(1,1)\n",
    "    fig.set_size_inches(5,5)\n",
    "    a.imshow(img)\n",
    "    for box in (target['boxes']):\n",
    "        x, y, width, height  = box[0], box[1], box[2]-box[0], box[3]-box[1]\n",
    "        rect = patches.Rectangle((x, y),\n",
    "                                 width, height,\n",
    "                                 linewidth = 2,\n",
    "                                 edgecolor = 'r',\n",
    "                                 facecolor = 'none')\n",
    "\n",
    "        # Draw the bounding box on top of the image\n",
    "        a.add_patch(rect)\n",
    "    plt.show()\n",
    "\n",
    "# plotting the image with bboxes. Feel free to change the index\n",
    "img, target = dataset[3]\n",
    "plot_img_bbox(img, target)"
   ]
  },
  {
   "cell_type": "markdown",
   "metadata": {
    "id": "IcKLsi4T_Qgi"
   },
   "source": [
    "You can see that we are doing great till now, as the bbox is correctly placed.\n",
    "\n",
    "One thing to note is that, the dataset wants us to predict only the full apple as \"apple\" but not the half cut one. This will be a challenge to overcome.\n",
    "\n",
    "Lets build the model then!"
   ]
  },
  {
   "cell_type": "markdown",
   "metadata": {
    "id": "v7kl2HUe_Qgi"
   },
   "source": [
    "# Model"
   ]
  },
  {
   "cell_type": "code",
   "execution_count": 18,
   "metadata": {
    "tags": []
   },
   "outputs": [],
   "source": [
    "import torchvision\n",
    "from torchvision.models.detection.faster_rcnn import FastRCNNPredictor\n",
    "from torchvision.models.detection.mask_rcnn import MaskRCNNPredictor\n",
    "\n",
    "\n",
    "def get_model_instance_segmentation(num_classes):\n",
    "    # load an instance segmentation model pre-trained on COCO\n",
    "    model = torchvision.models.detection.fasterrcnn_resnet50_fpn(weights=\"DEFAULT\")\n",
    "\n",
    "    # get number of input features for the classifier\n",
    "    in_features = model.roi_heads.box_predictor.cls_score.in_features\n",
    "    # replace the pre-trained head with a new one\n",
    "    model.roi_heads.box_predictor = FastRCNNPredictor(in_features, num_classes)\n",
    "\n",
    "    return model"
   ]
  },
  {
   "cell_type": "markdown",
   "metadata": {
    "id": "iWP4Rn-S_Qgi"
   },
   "source": [
    "# Augmentations"
   ]
  },
  {
   "cell_type": "markdown",
   "metadata": {
    "id": "vJuA2ydY_Qgi"
   },
   "source": [
    "This is where we can apply augmentations to the image.\n",
    "\n",
    "The augmentations to object detection vary from normal augmentations becuase here we need to ensure that, bbox still aligns with the object correctly after transforming.\n",
    "\n",
    "Here I have added random flip transform, feel free to customize it as you feel\n",
    "\n"
   ]
  },
  {
   "cell_type": "code",
   "execution_count": 17,
   "metadata": {
    "id": "lHoODnT5_Qgi",
    "tags": []
   },
   "outputs": [],
   "source": [
    "# Send train=True fro training transforms and False for val/test transforms\n",
    "def get_transform(train):\n",
    "\n",
    "    if train:\n",
    "        return A.Compose([\n",
    "                            A.HorizontalFlip(0.5),\n",
    "                     # ToTensorV2 converts image to pytorch tensor without div by 255\n",
    "                            ToTensorV2(p=1.0)\n",
    "                        ], bbox_params={'format': 'pascal_voc', 'label_fields': ['labels']})\n",
    "    else:\n",
    "        return A.Compose([\n",
    "                            ToTensorV2(p=1.0)\n",
    "                        ], bbox_params={'format': 'pascal_voc', 'label_fields': ['labels']})"
   ]
  },
  {
   "cell_type": "markdown",
   "metadata": {
    "id": "AJUrmiQF_Qgi"
   },
   "source": [
    "# Training"
   ]
  },
  {
   "cell_type": "code",
   "execution_count": 22,
   "metadata": {
    "tags": []
   },
   "outputs": [],
   "source": [
    "device = torch.device('cuda') if torch.cuda.is_available() else torch.device('cpu')"
   ]
  },
  {
   "cell_type": "code",
   "execution_count": 10,
   "metadata": {
    "tags": []
   },
   "outputs": [
    {
     "name": "stdout",
     "output_type": "stream",
     "text": [
      "Epoch: [0]  [  0/372]  eta: 0:43:36  lr: 0.000018  loss: 3.6185 (3.6185)  loss_classifier: 3.3650 (3.3650)  loss_box_reg: 0.2146 (0.2146)  loss_objectness: 0.0329 (0.0329)  loss_rpn_box_reg: 0.0060 (0.0060)  time: 7.0333  data: 1.9436  max mem: 8228\n",
      "Epoch: [0]  [ 10/372]  eta: 0:07:10  lr: 0.000153  loss: 3.3556 (3.2971)  loss_classifier: 3.1531 (3.0083)  loss_box_reg: 0.2585 (0.2439)  loss_objectness: 0.0329 (0.0347)  loss_rpn_box_reg: 0.0079 (0.0102)  time: 1.1889  data: 0.2006  max mem: 8494\n",
      "Epoch: [0]  [ 20/372]  eta: 0:05:20  lr: 0.000288  loss: 2.2007 (2.2720)  loss_classifier: 1.9045 (2.0023)  loss_box_reg: 0.2493 (0.2357)  loss_objectness: 0.0117 (0.0260)  loss_rpn_box_reg: 0.0062 (0.0081)  time: 0.6052  data: 0.0263  max mem: 8494\n",
      "Epoch: [0]  [ 30/372]  eta: 0:04:38  lr: 0.000422  loss: 0.8509 (1.8166)  loss_classifier: 0.5775 (1.5512)  loss_box_reg: 0.2249 (0.2362)  loss_objectness: 0.0087 (0.0215)  loss_rpn_box_reg: 0.0062 (0.0077)  time: 0.6072  data: 0.0266  max mem: 8494\n",
      "Epoch: [0]  [ 40/372]  eta: 0:04:13  lr: 0.000557  loss: 0.7156 (1.5564)  loss_classifier: 0.4930 (1.2840)  loss_box_reg: 0.2300 (0.2412)  loss_objectness: 0.0101 (0.0234)  loss_rpn_box_reg: 0.0060 (0.0079)  time: 0.6062  data: 0.0267  max mem: 8494\n",
      "Epoch: [0]  [ 50/372]  eta: 0:03:55  lr: 0.000692  loss: 0.5963 (1.3564)  loss_classifier: 0.3486 (1.0935)  loss_box_reg: 0.2165 (0.2340)  loss_objectness: 0.0123 (0.0214)  loss_rpn_box_reg: 0.0057 (0.0075)  time: 0.6059  data: 0.0275  max mem: 8494\n",
      "Epoch: [0]  [ 60/372]  eta: 0:03:42  lr: 0.000826  loss: 0.5344 (1.2203)  loss_classifier: 0.3003 (0.9627)  loss_box_reg: 0.2110 (0.2311)  loss_objectness: 0.0077 (0.0194)  loss_rpn_box_reg: 0.0052 (0.0071)  time: 0.6075  data: 0.0283  max mem: 8494\n",
      "Epoch: [0]  [ 70/372]  eta: 0:03:30  lr: 0.000961  loss: 0.5614 (1.1334)  loss_classifier: 0.3087 (0.8736)  loss_box_reg: 0.2334 (0.2342)  loss_objectness: 0.0076 (0.0186)  loss_rpn_box_reg: 0.0048 (0.0070)  time: 0.6060  data: 0.0278  max mem: 8495\n",
      "Epoch: [0]  [ 80/372]  eta: 0:03:20  lr: 0.001096  loss: 0.5585 (1.0627)  loss_classifier: 0.3080 (0.8033)  loss_box_reg: 0.2345 (0.2351)  loss_objectness: 0.0083 (0.0175)  loss_rpn_box_reg: 0.0048 (0.0068)  time: 0.6054  data: 0.0282  max mem: 8495\n",
      "Epoch: [0]  [ 90/372]  eta: 0:03:10  lr: 0.001230  loss: 0.5390 (1.0049)  loss_classifier: 0.2940 (0.7470)  loss_box_reg: 0.2218 (0.2344)  loss_objectness: 0.0067 (0.0166)  loss_rpn_box_reg: 0.0058 (0.0070)  time: 0.6062  data: 0.0289  max mem: 8495\n",
      "Epoch: [0]  [100/372]  eta: 0:03:02  lr: 0.001365  loss: 0.5189 (0.9588)  loss_classifier: 0.2777 (0.7016)  loss_box_reg: 0.2369 (0.2344)  loss_objectness: 0.0067 (0.0161)  loss_rpn_box_reg: 0.0047 (0.0068)  time: 0.6051  data: 0.0281  max mem: 8495\n",
      "Epoch: [0]  [110/372]  eta: 0:02:53  lr: 0.001499  loss: 0.5189 (0.9174)  loss_classifier: 0.2877 (0.6624)  loss_box_reg: 0.2342 (0.2331)  loss_objectness: 0.0082 (0.0154)  loss_rpn_box_reg: 0.0038 (0.0066)  time: 0.6037  data: 0.0265  max mem: 8495\n",
      "Epoch: [0]  [120/372]  eta: 0:02:45  lr: 0.001634  loss: 0.5151 (0.8871)  loss_classifier: 0.2669 (0.6321)  loss_box_reg: 0.2119 (0.2331)  loss_objectness: 0.0060 (0.0154)  loss_rpn_box_reg: 0.0041 (0.0065)  time: 0.6042  data: 0.0261  max mem: 8495\n",
      "Epoch: [0]  [130/372]  eta: 0:02:38  lr: 0.001769  loss: 0.4757 (0.8570)  loss_classifier: 0.2552 (0.6038)  loss_box_reg: 0.2081 (0.2319)  loss_objectness: 0.0056 (0.0149)  loss_rpn_box_reg: 0.0050 (0.0064)  time: 0.6054  data: 0.0269  max mem: 8495\n",
      "Epoch: [0]  [140/372]  eta: 0:02:31  lr: 0.001903  loss: 0.4942 (0.8353)  loss_classifier: 0.2623 (0.5822)  loss_box_reg: 0.2127 (0.2324)  loss_objectness: 0.0056 (0.0143)  loss_rpn_box_reg: 0.0040 (0.0064)  time: 0.6061  data: 0.0274  max mem: 8495\n",
      "Epoch: [0]  [150/372]  eta: 0:02:23  lr: 0.002038  loss: 0.5134 (0.8166)  loss_classifier: 0.2740 (0.5631)  loss_box_reg: 0.2224 (0.2330)  loss_objectness: 0.0058 (0.0141)  loss_rpn_box_reg: 0.0050 (0.0064)  time: 0.6066  data: 0.0283  max mem: 8495\n",
      "Epoch: [0]  [160/372]  eta: 0:02:16  lr: 0.002173  loss: 0.4911 (0.7965)  loss_classifier: 0.2676 (0.5445)  loss_box_reg: 0.2176 (0.2321)  loss_objectness: 0.0045 (0.0136)  loss_rpn_box_reg: 0.0045 (0.0063)  time: 0.6070  data: 0.0280  max mem: 8495\n",
      "Epoch: [0]  [170/372]  eta: 0:02:09  lr: 0.002307  loss: 0.4903 (0.7816)  loss_classifier: 0.2669 (0.5296)  loss_box_reg: 0.2137 (0.2324)  loss_objectness: 0.0054 (0.0133)  loss_rpn_box_reg: 0.0044 (0.0063)  time: 0.6060  data: 0.0269  max mem: 8495\n",
      "Epoch: [0]  [180/372]  eta: 0:02:03  lr: 0.002442  loss: 0.5264 (0.7691)  loss_classifier: 0.2764 (0.5161)  loss_box_reg: 0.2163 (0.2325)  loss_objectness: 0.0068 (0.0143)  loss_rpn_box_reg: 0.0043 (0.0063)  time: 0.6046  data: 0.0273  max mem: 8495\n",
      "Epoch: [0]  [190/372]  eta: 0:01:56  lr: 0.002577  loss: 0.4917 (0.7545)  loss_classifier: 0.2610 (0.5029)  loss_box_reg: 0.2159 (0.2313)  loss_objectness: 0.0062 (0.0140)  loss_rpn_box_reg: 0.0045 (0.0063)  time: 0.6056  data: 0.0280  max mem: 8495\n",
      "Epoch: [0]  [200/372]  eta: 0:01:49  lr: 0.002711  loss: 0.4900 (0.7425)  loss_classifier: 0.2641 (0.4916)  loss_box_reg: 0.2148 (0.2307)  loss_objectness: 0.0084 (0.0139)  loss_rpn_box_reg: 0.0048 (0.0062)  time: 0.6060  data: 0.0284  max mem: 8495\n",
      "Epoch: [0]  [210/372]  eta: 0:01:43  lr: 0.002846  loss: 0.5116 (0.7327)  loss_classifier: 0.2800 (0.4819)  loss_box_reg: 0.2219 (0.2306)  loss_objectness: 0.0078 (0.0138)  loss_rpn_box_reg: 0.0048 (0.0065)  time: 0.6038  data: 0.0279  max mem: 8495\n",
      "Epoch: [0]  [220/372]  eta: 0:01:36  lr: 0.002980  loss: 0.5064 (0.7227)  loss_classifier: 0.2818 (0.4727)  loss_box_reg: 0.2219 (0.2299)  loss_objectness: 0.0056 (0.0137)  loss_rpn_box_reg: 0.0048 (0.0064)  time: 0.6037  data: 0.0276  max mem: 8495\n",
      "Epoch: [0]  [230/372]  eta: 0:01:29  lr: 0.003115  loss: 0.4779 (0.7150)  loss_classifier: 0.2704 (0.4653)  loss_box_reg: 0.2077 (0.2298)  loss_objectness: 0.0056 (0.0134)  loss_rpn_box_reg: 0.0053 (0.0065)  time: 0.6046  data: 0.0273  max mem: 8495\n",
      "Epoch: [0]  [240/372]  eta: 0:01:23  lr: 0.003250  loss: 0.4746 (0.7045)  loss_classifier: 0.2585 (0.4566)  loss_box_reg: 0.1944 (0.2283)  loss_objectness: 0.0037 (0.0132)  loss_rpn_box_reg: 0.0045 (0.0064)  time: 0.6052  data: 0.0267  max mem: 8495\n",
      "Epoch: [0]  [250/372]  eta: 0:01:16  lr: 0.003384  loss: 0.4723 (0.6957)  loss_classifier: 0.2602 (0.4491)  loss_box_reg: 0.1960 (0.2273)  loss_objectness: 0.0043 (0.0130)  loss_rpn_box_reg: 0.0039 (0.0063)  time: 0.6052  data: 0.0268  max mem: 8495\n",
      "Epoch: [0]  [260/372]  eta: 0:01:10  lr: 0.003519  loss: 0.4899 (0.6924)  loss_classifier: 0.2702 (0.4438)  loss_box_reg: 0.2024 (0.2273)  loss_objectness: 0.0048 (0.0149)  loss_rpn_box_reg: 0.0039 (0.0064)  time: 0.6055  data: 0.0274  max mem: 8495\n",
      "Epoch: [0]  [270/372]  eta: 0:01:04  lr: 0.003654  loss: 0.5043 (0.6853)  loss_classifier: 0.2749 (0.4379)  loss_box_reg: 0.2008 (0.2263)  loss_objectness: 0.0067 (0.0147)  loss_rpn_box_reg: 0.0056 (0.0064)  time: 0.6050  data: 0.0279  max mem: 8495\n",
      "Epoch: [0]  [280/372]  eta: 0:00:57  lr: 0.003788  loss: 0.4296 (0.6746)  loss_classifier: 0.2493 (0.4301)  loss_box_reg: 0.1674 (0.2235)  loss_objectness: 0.0079 (0.0146)  loss_rpn_box_reg: 0.0052 (0.0063)  time: 0.6054  data: 0.0283  max mem: 8495\n",
      "Epoch: [0]  [290/372]  eta: 0:00:51  lr: 0.003923  loss: 0.4066 (0.6675)  loss_classifier: 0.2325 (0.4246)  loss_box_reg: 0.1578 (0.2219)  loss_objectness: 0.0068 (0.0145)  loss_rpn_box_reg: 0.0052 (0.0065)  time: 0.6079  data: 0.0290  max mem: 8495\n",
      "Epoch: [0]  [300/372]  eta: 0:00:45  lr: 0.004058  loss: 0.4332 (0.6612)  loss_classifier: 0.2567 (0.4198)  loss_box_reg: 0.1656 (0.2205)  loss_objectness: 0.0065 (0.0145)  loss_rpn_box_reg: 0.0046 (0.0065)  time: 0.6072  data: 0.0290  max mem: 8495\n",
      "Epoch: [0]  [310/372]  eta: 0:00:38  lr: 0.004192  loss: 0.4332 (0.6542)  loss_classifier: 0.2568 (0.4148)  loss_box_reg: 0.1650 (0.2186)  loss_objectness: 0.0091 (0.0143)  loss_rpn_box_reg: 0.0053 (0.0065)  time: 0.6055  data: 0.0278  max mem: 8495\n",
      "Epoch: [0]  [320/372]  eta: 0:00:32  lr: 0.004327  loss: 0.4408 (0.6476)  loss_classifier: 0.2617 (0.4103)  loss_box_reg: 0.1650 (0.2167)  loss_objectness: 0.0072 (0.0141)  loss_rpn_box_reg: 0.0049 (0.0065)  time: 0.6049  data: 0.0267  max mem: 8495\n",
      "Epoch: [0]  [330/372]  eta: 0:00:26  lr: 0.004461  loss: 0.4547 (0.6428)  loss_classifier: 0.2836 (0.4070)  loss_box_reg: 0.1672 (0.2155)  loss_objectness: 0.0058 (0.0139)  loss_rpn_box_reg: 0.0050 (0.0065)  time: 0.6050  data: 0.0272  max mem: 8495\n",
      "Epoch: [0]  [340/372]  eta: 0:00:19  lr: 0.004596  loss: 0.4657 (0.6378)  loss_classifier: 0.2912 (0.4036)  loss_box_reg: 0.1697 (0.2140)  loss_objectness: 0.0043 (0.0137)  loss_rpn_box_reg: 0.0054 (0.0064)  time: 0.6047  data: 0.0273  max mem: 8495\n",
      "Epoch: [0]  [350/372]  eta: 0:00:13  lr: 0.004731  loss: 0.4177 (0.6320)  loss_classifier: 0.2580 (0.3999)  loss_box_reg: 0.1470 (0.2122)  loss_objectness: 0.0045 (0.0135)  loss_rpn_box_reg: 0.0038 (0.0064)  time: 0.6051  data: 0.0275  max mem: 8495\n",
      "Epoch: [0]  [360/372]  eta: 0:00:07  lr: 0.004865  loss: 0.4074 (0.6254)  loss_classifier: 0.2421 (0.3956)  loss_box_reg: 0.1338 (0.2099)  loss_objectness: 0.0045 (0.0135)  loss_rpn_box_reg: 0.0045 (0.0064)  time: 0.6053  data: 0.0278  max mem: 8495\n",
      "Epoch: [0]  [370/372]  eta: 0:00:01  lr: 0.005000  loss: 0.3828 (0.6192)  loss_classifier: 0.2403 (0.3918)  loss_box_reg: 0.1278 (0.2078)  loss_objectness: 0.0050 (0.0133)  loss_rpn_box_reg: 0.0042 (0.0063)  time: 0.6014  data: 0.0266  max mem: 8495\n",
      "Epoch: [0]  [371/372]  eta: 0:00:00  lr: 0.005000  loss: 0.3828 (0.6183)  loss_classifier: 0.2403 (0.3913)  loss_box_reg: 0.1231 (0.2075)  loss_objectness: 0.0051 (0.0133)  loss_rpn_box_reg: 0.0037 (0.0063)  time: 0.5924  data: 0.0257  max mem: 8495\n",
      "Epoch: [0] Total time: 0:03:51 (0.6223 s / it)\n",
      "creating index...\n",
      "index created!\n",
      "Test:  [ 0/80]  eta: 0:02:08  model_time: 0.2716 (0.2716)  evaluator_time: 0.0190 (0.0190)  time: 1.6040  data: 1.2984  max mem: 8495\n",
      "Test:  [79/80]  eta: 0:00:00  model_time: 0.2474 (0.2485)  evaluator_time: 0.0140 (0.0179)  time: 0.3029  data: 0.0310  max mem: 8495\n",
      "Test: Total time: 0:00:26 (0.3253 s / it)\n",
      "Averaged stats: model_time: 0.2474 (0.2485)  evaluator_time: 0.0140 (0.0179)\n",
      "Accumulating evaluation results...\n",
      "DONE (t=0.64s).\n",
      "IoU metric: bbox\n",
      " Average Precision  (AP) @[ IoU=0.50:0.95 | area=   all | maxDets=100 ] = 0.010\n",
      " Average Precision  (AP) @[ IoU=0.50      | area=   all | maxDets=100 ] = 0.017\n",
      " Average Precision  (AP) @[ IoU=0.75      | area=   all | maxDets=100 ] = 0.011\n",
      " Average Precision  (AP) @[ IoU=0.50:0.95 | area= small | maxDets=100 ] = 0.058\n",
      " Average Precision  (AP) @[ IoU=0.50:0.95 | area=medium | maxDets=100 ] = 0.018\n",
      " Average Precision  (AP) @[ IoU=0.50:0.95 | area= large | maxDets=100 ] = 0.011\n",
      " Average Recall     (AR) @[ IoU=0.50:0.95 | area=   all | maxDets=  1 ] = 0.095\n",
      " Average Recall     (AR) @[ IoU=0.50:0.95 | area=   all | maxDets= 10 ] = 0.134\n",
      " Average Recall     (AR) @[ IoU=0.50:0.95 | area=   all | maxDets=100 ] = 0.134\n",
      " Average Recall     (AR) @[ IoU=0.50:0.95 | area= small | maxDets=100 ] = 0.117\n",
      " Average Recall     (AR) @[ IoU=0.50:0.95 | area=medium | maxDets=100 ] = 0.141\n",
      " Average Recall     (AR) @[ IoU=0.50:0.95 | area= large | maxDets=100 ] = 0.135\n",
      "Epoch: [1]  [  0/372]  eta: 0:12:54  lr: 0.005000  loss: 0.3987 (0.3987)  loss_classifier: 0.2633 (0.2633)  loss_box_reg: 0.1282 (0.1282)  loss_objectness: 0.0034 (0.0034)  loss_rpn_box_reg: 0.0037 (0.0037)  time: 2.0816  data: 1.4897  max mem: 8495\n",
      "Epoch: [1]  [ 10/372]  eta: 0:04:25  lr: 0.005000  loss: 0.3987 (0.4225)  loss_classifier: 0.2633 (0.2715)  loss_box_reg: 0.1356 (0.1390)  loss_objectness: 0.0034 (0.0040)  loss_rpn_box_reg: 0.0037 (0.0080)  time: 0.7334  data: 0.1551  max mem: 8495\n",
      "Epoch: [1]  [ 20/372]  eta: 0:03:56  lr: 0.005000  loss: 0.4351 (0.4356)  loss_classifier: 0.2805 (0.2804)  loss_box_reg: 0.1399 (0.1408)  loss_objectness: 0.0034 (0.0077)  loss_rpn_box_reg: 0.0044 (0.0066)  time: 0.6006  data: 0.0239  max mem: 8495\n",
      "Epoch: [1]  [ 30/372]  eta: 0:03:41  lr: 0.005000  loss: 0.4351 (0.4442)  loss_classifier: 0.2873 (0.2886)  loss_box_reg: 0.1398 (0.1429)  loss_objectness: 0.0029 (0.0063)  loss_rpn_box_reg: 0.0044 (0.0063)  time: 0.6009  data: 0.0258  max mem: 8495\n",
      "Epoch: [1]  [ 40/372]  eta: 0:03:31  lr: 0.005000  loss: 0.3801 (0.4235)  loss_classifier: 0.2585 (0.2765)  loss_box_reg: 0.1185 (0.1349)  loss_objectness: 0.0029 (0.0061)  loss_rpn_box_reg: 0.0046 (0.0060)  time: 0.5995  data: 0.0256  max mem: 8495\n",
      "Epoch: [1]  [ 50/372]  eta: 0:03:22  lr: 0.005000  loss: 0.3922 (0.4253)  loss_classifier: 0.2640 (0.2787)  loss_box_reg: 0.1174 (0.1346)  loss_objectness: 0.0036 (0.0059)  loss_rpn_box_reg: 0.0046 (0.0061)  time: 0.6012  data: 0.0262  max mem: 8495\n",
      "Epoch: [1]  [ 60/372]  eta: 0:03:15  lr: 0.005000  loss: 0.3947 (0.4178)  loss_classifier: 0.2678 (0.2750)  loss_box_reg: 0.1245 (0.1311)  loss_objectness: 0.0031 (0.0054)  loss_rpn_box_reg: 0.0049 (0.0062)  time: 0.6029  data: 0.0275  max mem: 8495\n",
      "Epoch: [1]  [ 70/372]  eta: 0:03:07  lr: 0.005000  loss: 0.3881 (0.4177)  loss_classifier: 0.2622 (0.2766)  loss_box_reg: 0.1137 (0.1298)  loss_objectness: 0.0029 (0.0051)  loss_rpn_box_reg: 0.0049 (0.0062)  time: 0.6021  data: 0.0267  max mem: 8495\n",
      "Epoch: [1]  [ 80/372]  eta: 0:03:00  lr: 0.005000  loss: 0.3953 (0.4141)  loss_classifier: 0.2636 (0.2752)  loss_box_reg: 0.1126 (0.1278)  loss_objectness: 0.0029 (0.0049)  loss_rpn_box_reg: 0.0046 (0.0062)  time: 0.6008  data: 0.0253  max mem: 8495\n",
      "Epoch: [1]  [ 90/372]  eta: 0:02:53  lr: 0.005000  loss: 0.4139 (0.4187)  loss_classifier: 0.2839 (0.2792)  loss_box_reg: 0.1178 (0.1284)  loss_objectness: 0.0033 (0.0047)  loss_rpn_box_reg: 0.0046 (0.0064)  time: 0.5995  data: 0.0252  max mem: 8495\n",
      "Epoch: [1]  [100/372]  eta: 0:02:47  lr: 0.005000  loss: 0.3840 (0.4109)  loss_classifier: 0.2720 (0.2748)  loss_box_reg: 0.1075 (0.1254)  loss_objectness: 0.0028 (0.0045)  loss_rpn_box_reg: 0.0049 (0.0062)  time: 0.5996  data: 0.0251  max mem: 8495\n",
      "Epoch: [1]  [110/372]  eta: 0:02:40  lr: 0.005000  loss: 0.3437 (0.4052)  loss_classifier: 0.2308 (0.2722)  loss_box_reg: 0.0901 (0.1226)  loss_objectness: 0.0027 (0.0043)  loss_rpn_box_reg: 0.0040 (0.0061)  time: 0.6024  data: 0.0263  max mem: 8495\n",
      "Epoch: [1]  [120/372]  eta: 0:02:34  lr: 0.005000  loss: 0.3602 (0.4083)  loss_classifier: 0.2713 (0.2750)  loss_box_reg: 0.0940 (0.1229)  loss_objectness: 0.0025 (0.0043)  loss_rpn_box_reg: 0.0039 (0.0060)  time: 0.6040  data: 0.0275  max mem: 8495\n",
      "Epoch: [1]  [130/372]  eta: 0:02:28  lr: 0.005000  loss: 0.4132 (0.4096)  loss_classifier: 0.2855 (0.2762)  loss_box_reg: 0.1200 (0.1226)  loss_objectness: 0.0042 (0.0048)  loss_rpn_box_reg: 0.0040 (0.0059)  time: 0.6030  data: 0.0265  max mem: 8495\n",
      "Epoch: [1]  [140/372]  eta: 0:02:21  lr: 0.005000  loss: 0.4132 (0.4112)  loss_classifier: 0.2855 (0.2778)  loss_box_reg: 0.1171 (0.1226)  loss_objectness: 0.0049 (0.0049)  loss_rpn_box_reg: 0.0052 (0.0059)  time: 0.6027  data: 0.0269  max mem: 8495\n",
      "Epoch: [1]  [150/372]  eta: 0:02:15  lr: 0.005000  loss: 0.3493 (0.4080)  loss_classifier: 0.2539 (0.2764)  loss_box_reg: 0.0978 (0.1209)  loss_objectness: 0.0037 (0.0048)  loss_rpn_box_reg: 0.0051 (0.0058)  time: 0.6033  data: 0.0273  max mem: 8495\n",
      "Epoch: [1]  [160/372]  eta: 0:02:09  lr: 0.005000  loss: 0.3448 (0.4050)  loss_classifier: 0.2410 (0.2750)  loss_box_reg: 0.0905 (0.1195)  loss_objectness: 0.0023 (0.0048)  loss_rpn_box_reg: 0.0040 (0.0057)  time: 0.6036  data: 0.0268  max mem: 8495\n",
      "Epoch: [1]  [170/372]  eta: 0:02:03  lr: 0.005000  loss: 0.3819 (0.4062)  loss_classifier: 0.2679 (0.2765)  loss_box_reg: 0.0975 (0.1189)  loss_objectness: 0.0017 (0.0052)  loss_rpn_box_reg: 0.0035 (0.0057)  time: 0.6021  data: 0.0261  max mem: 8495\n",
      "Epoch: [1]  [180/372]  eta: 0:01:57  lr: 0.005000  loss: 0.3800 (0.4024)  loss_classifier: 0.2728 (0.2744)  loss_box_reg: 0.0969 (0.1173)  loss_objectness: 0.0025 (0.0051)  loss_rpn_box_reg: 0.0041 (0.0056)  time: 0.6002  data: 0.0251  max mem: 8495\n",
      "Epoch: [1]  [190/372]  eta: 0:01:50  lr: 0.005000  loss: 0.2931 (0.3983)  loss_classifier: 0.2141 (0.2717)  loss_box_reg: 0.0777 (0.1159)  loss_objectness: 0.0029 (0.0051)  loss_rpn_box_reg: 0.0041 (0.0056)  time: 0.6002  data: 0.0250  max mem: 8495\n",
      "Epoch: [1]  [200/372]  eta: 0:01:44  lr: 0.005000  loss: 0.3338 (0.3977)  loss_classifier: 0.2343 (0.2717)  loss_box_reg: 0.0884 (0.1154)  loss_objectness: 0.0029 (0.0051)  loss_rpn_box_reg: 0.0043 (0.0055)  time: 0.6006  data: 0.0253  max mem: 8495\n",
      "Epoch: [1]  [210/372]  eta: 0:01:38  lr: 0.005000  loss: 0.3445 (0.3947)  loss_classifier: 0.2428 (0.2701)  loss_box_reg: 0.0886 (0.1141)  loss_objectness: 0.0022 (0.0051)  loss_rpn_box_reg: 0.0039 (0.0054)  time: 0.6028  data: 0.0270  max mem: 8495\n",
      "Epoch: [1]  [220/372]  eta: 0:01:32  lr: 0.005000  loss: 0.3538 (0.3933)  loss_classifier: 0.2479 (0.2698)  loss_box_reg: 0.0898 (0.1131)  loss_objectness: 0.0023 (0.0050)  loss_rpn_box_reg: 0.0037 (0.0054)  time: 0.6024  data: 0.0273  max mem: 8495\n",
      "Epoch: [1]  [230/372]  eta: 0:01:26  lr: 0.005000  loss: 0.3534 (0.3911)  loss_classifier: 0.2479 (0.2688)  loss_box_reg: 0.0880 (0.1119)  loss_objectness: 0.0032 (0.0049)  loss_rpn_box_reg: 0.0037 (0.0054)  time: 0.5998  data: 0.0261  max mem: 8495\n",
      "Epoch: [1]  [240/372]  eta: 0:01:20  lr: 0.005000  loss: 0.2977 (0.3877)  loss_classifier: 0.2206 (0.2668)  loss_box_reg: 0.0717 (0.1104)  loss_objectness: 0.0037 (0.0051)  loss_rpn_box_reg: 0.0035 (0.0054)  time: 0.6000  data: 0.0261  max mem: 8495\n",
      "Epoch: [1]  [250/372]  eta: 0:01:14  lr: 0.005000  loss: 0.2780 (0.3852)  loss_classifier: 0.2124 (0.2654)  loss_box_reg: 0.0717 (0.1094)  loss_objectness: 0.0026 (0.0050)  loss_rpn_box_reg: 0.0034 (0.0054)  time: 0.6023  data: 0.0266  max mem: 8495\n",
      "Epoch: [1]  [260/372]  eta: 0:01:08  lr: 0.005000  loss: 0.3447 (0.3849)  loss_classifier: 0.2410 (0.2655)  loss_box_reg: 0.0936 (0.1091)  loss_objectness: 0.0035 (0.0050)  loss_rpn_box_reg: 0.0036 (0.0053)  time: 0.6029  data: 0.0268  max mem: 8495\n",
      "Epoch: [1]  [270/372]  eta: 0:01:01  lr: 0.005000  loss: 0.3584 (0.3837)  loss_classifier: 0.2646 (0.2649)  loss_box_reg: 0.0994 (0.1086)  loss_objectness: 0.0037 (0.0049)  loss_rpn_box_reg: 0.0036 (0.0053)  time: 0.6019  data: 0.0263  max mem: 8495\n",
      "Epoch: [1]  [280/372]  eta: 0:00:55  lr: 0.005000  loss: 0.3566 (0.3841)  loss_classifier: 0.2599 (0.2656)  loss_box_reg: 0.0878 (0.1082)  loss_objectness: 0.0027 (0.0050)  loss_rpn_box_reg: 0.0032 (0.0053)  time: 0.6019  data: 0.0258  max mem: 8495\n",
      "Epoch: [1]  [290/372]  eta: 0:00:49  lr: 0.005000  loss: 0.3721 (0.3837)  loss_classifier: 0.2665 (0.2657)  loss_box_reg: 0.0939 (0.1077)  loss_objectness: 0.0019 (0.0050)  loss_rpn_box_reg: 0.0037 (0.0054)  time: 0.6021  data: 0.0266  max mem: 8495\n",
      "Epoch: [1]  [300/372]  eta: 0:00:43  lr: 0.005000  loss: 0.3528 (0.3831)  loss_classifier: 0.2657 (0.2654)  loss_box_reg: 0.0883 (0.1073)  loss_objectness: 0.0037 (0.0050)  loss_rpn_box_reg: 0.0040 (0.0055)  time: 0.6018  data: 0.0267  max mem: 8495\n",
      "Epoch: [1]  [310/372]  eta: 0:00:37  lr: 0.005000  loss: 0.3771 (0.3834)  loss_classifier: 0.2620 (0.2657)  loss_box_reg: 0.0978 (0.1073)  loss_objectness: 0.0042 (0.0049)  loss_rpn_box_reg: 0.0041 (0.0054)  time: 0.6034  data: 0.0264  max mem: 8495\n",
      "Epoch: [1]  [320/372]  eta: 0:00:31  lr: 0.005000  loss: 0.3306 (0.3812)  loss_classifier: 0.2563 (0.2644)  loss_box_reg: 0.0940 (0.1065)  loss_objectness: 0.0032 (0.0049)  loss_rpn_box_reg: 0.0036 (0.0054)  time: 0.6031  data: 0.0271  max mem: 8495\n",
      "Epoch: [1]  [330/372]  eta: 0:00:25  lr: 0.005000  loss: 0.3306 (0.3810)  loss_classifier: 0.2301 (0.2646)  loss_box_reg: 0.0910 (0.1061)  loss_objectness: 0.0034 (0.0049)  loss_rpn_box_reg: 0.0035 (0.0054)  time: 0.6009  data: 0.0264  max mem: 8495\n",
      "Epoch: [1]  [340/372]  eta: 0:00:19  lr: 0.005000  loss: 0.3769 (0.3806)  loss_classifier: 0.2689 (0.2646)  loss_box_reg: 0.0913 (0.1056)  loss_objectness: 0.0032 (0.0050)  loss_rpn_box_reg: 0.0035 (0.0054)  time: 0.6001  data: 0.0253  max mem: 8495\n",
      "Epoch: [1]  [350/372]  eta: 0:00:13  lr: 0.005000  loss: 0.3808 (0.3814)  loss_classifier: 0.2736 (0.2652)  loss_box_reg: 0.0948 (0.1058)  loss_objectness: 0.0023 (0.0050)  loss_rpn_box_reg: 0.0039 (0.0053)  time: 0.5999  data: 0.0252  max mem: 8495\n",
      "Epoch: [1]  [360/372]  eta: 0:00:07  lr: 0.005000  loss: 0.3758 (0.3804)  loss_classifier: 0.2712 (0.2647)  loss_box_reg: 0.0977 (0.1054)  loss_objectness: 0.0034 (0.0050)  loss_rpn_box_reg: 0.0041 (0.0053)  time: 0.6008  data: 0.0256  max mem: 8495\n",
      "Epoch: [1]  [370/372]  eta: 0:00:01  lr: 0.005000  loss: 0.3100 (0.3799)  loss_classifier: 0.2239 (0.2648)  loss_box_reg: 0.0764 (0.1049)  loss_objectness: 0.0031 (0.0049)  loss_rpn_box_reg: 0.0035 (0.0053)  time: 0.5999  data: 0.0255  max mem: 8495\n",
      "Epoch: [1]  [371/372]  eta: 0:00:00  lr: 0.005000  loss: 0.3100 (0.3802)  loss_classifier: 0.2239 (0.2651)  loss_box_reg: 0.0764 (0.1049)  loss_objectness: 0.0030 (0.0049)  loss_rpn_box_reg: 0.0035 (0.0053)  time: 0.5916  data: 0.0253  max mem: 8495\n",
      "Epoch: [1] Total time: 0:03:45 (0.6052 s / it)\n",
      "creating index...\n",
      "index created!\n",
      "Test:  [ 0/80]  eta: 0:01:02  model_time: 0.2631 (0.2631)  evaluator_time: 0.0188 (0.0188)  time: 0.7800  data: 0.4823  max mem: 8495\n",
      "Test:  [79/80]  eta: 0:00:00  model_time: 0.2484 (0.2477)  evaluator_time: 0.0168 (0.0201)  time: 0.3007  data: 0.0242  max mem: 8495\n",
      "Test: Total time: 0:00:25 (0.3136 s / it)\n",
      "Averaged stats: model_time: 0.2484 (0.2477)  evaluator_time: 0.0168 (0.0201)\n",
      "Accumulating evaluation results...\n",
      "DONE (t=0.73s).\n",
      "IoU metric: bbox\n",
      " Average Precision  (AP) @[ IoU=0.50:0.95 | area=   all | maxDets=100 ] = 0.029\n",
      " Average Precision  (AP) @[ IoU=0.50      | area=   all | maxDets=100 ] = 0.045\n",
      " Average Precision  (AP) @[ IoU=0.75      | area=   all | maxDets=100 ] = 0.032\n",
      " Average Precision  (AP) @[ IoU=0.50:0.95 | area= small | maxDets=100 ] = 0.076\n",
      " Average Precision  (AP) @[ IoU=0.50:0.95 | area=medium | maxDets=100 ] = 0.035\n",
      " Average Precision  (AP) @[ IoU=0.50:0.95 | area= large | maxDets=100 ] = 0.031\n",
      " Average Recall     (AR) @[ IoU=0.50:0.95 | area=   all | maxDets=  1 ] = 0.161\n",
      " Average Recall     (AR) @[ IoU=0.50:0.95 | area=   all | maxDets= 10 ] = 0.230\n",
      " Average Recall     (AR) @[ IoU=0.50:0.95 | area=   all | maxDets=100 ] = 0.230\n",
      " Average Recall     (AR) @[ IoU=0.50:0.95 | area= small | maxDets=100 ] = 0.225\n",
      " Average Recall     (AR) @[ IoU=0.50:0.95 | area=medium | maxDets=100 ] = 0.246\n",
      " Average Recall     (AR) @[ IoU=0.50:0.95 | area= large | maxDets=100 ] = 0.231\n",
      "Epoch: [2]  [  0/372]  eta: 0:11:40  lr: 0.005000  loss: 0.2254 (0.2254)  loss_classifier: 0.1689 (0.1689)  loss_box_reg: 0.0509 (0.0509)  loss_objectness: 0.0034 (0.0034)  loss_rpn_box_reg: 0.0022 (0.0022)  time: 1.8826  data: 1.2919  max mem: 8495\n",
      "Epoch: [2]  [ 10/372]  eta: 0:04:20  lr: 0.005000  loss: 0.3311 (0.3248)  loss_classifier: 0.2447 (0.2391)  loss_box_reg: 0.0806 (0.0762)  loss_objectness: 0.0018 (0.0025)  loss_rpn_box_reg: 0.0033 (0.0070)  time: 0.7204  data: 0.1427  max mem: 8495\n",
      "Epoch: [2]  [ 20/372]  eta: 0:03:54  lr: 0.005000  loss: 0.3180 (0.3189)  loss_classifier: 0.2326 (0.2327)  loss_box_reg: 0.0807 (0.0777)  loss_objectness: 0.0018 (0.0026)  loss_rpn_box_reg: 0.0037 (0.0059)  time: 0.6042  data: 0.0273  max mem: 8495\n",
      "Epoch: [2]  [ 30/372]  eta: 0:03:40  lr: 0.005000  loss: 0.3257 (0.3222)  loss_classifier: 0.2349 (0.2380)  loss_box_reg: 0.0787 (0.0770)  loss_objectness: 0.0013 (0.0021)  loss_rpn_box_reg: 0.0037 (0.0051)  time: 0.6042  data: 0.0268  max mem: 8495\n",
      "Epoch: [2]  [ 40/372]  eta: 0:03:30  lr: 0.005000  loss: 0.3303 (0.3239)  loss_classifier: 0.2476 (0.2398)  loss_box_reg: 0.0787 (0.0777)  loss_objectness: 0.0008 (0.0018)  loss_rpn_box_reg: 0.0031 (0.0047)  time: 0.6030  data: 0.0263  max mem: 8495\n",
      "Epoch: [2]  [ 50/372]  eta: 0:03:22  lr: 0.005000  loss: 0.3257 (0.3296)  loss_classifier: 0.2430 (0.2442)  loss_box_reg: 0.0789 (0.0788)  loss_objectness: 0.0012 (0.0020)  loss_rpn_box_reg: 0.0033 (0.0047)  time: 0.6011  data: 0.0257  max mem: 8495\n",
      "Epoch: [2]  [ 60/372]  eta: 0:03:14  lr: 0.005000  loss: 0.3200 (0.3285)  loss_classifier: 0.2335 (0.2434)  loss_box_reg: 0.0735 (0.0785)  loss_objectness: 0.0017 (0.0019)  loss_rpn_box_reg: 0.0045 (0.0047)  time: 0.5996  data: 0.0254  max mem: 8495\n",
      "Epoch: [2]  [ 70/372]  eta: 0:03:07  lr: 0.005000  loss: 0.3279 (0.3344)  loss_classifier: 0.2349 (0.2482)  loss_box_reg: 0.0736 (0.0793)  loss_objectness: 0.0019 (0.0023)  loss_rpn_box_reg: 0.0037 (0.0047)  time: 0.6007  data: 0.0267  max mem: 8495\n",
      "Epoch: [2]  [ 80/372]  eta: 0:03:00  lr: 0.005000  loss: 0.3426 (0.3332)  loss_classifier: 0.2404 (0.2473)  loss_box_reg: 0.0832 (0.0793)  loss_objectness: 0.0016 (0.0022)  loss_rpn_box_reg: 0.0028 (0.0044)  time: 0.6022  data: 0.0275  max mem: 8495\n",
      "Epoch: [2]  [ 90/372]  eta: 0:02:53  lr: 0.005000  loss: 0.3222 (0.3331)  loss_classifier: 0.2370 (0.2472)  loss_box_reg: 0.0767 (0.0790)  loss_objectness: 0.0016 (0.0023)  loss_rpn_box_reg: 0.0028 (0.0046)  time: 0.6031  data: 0.0270  max mem: 8495\n",
      "Epoch: [2]  [100/372]  eta: 0:02:47  lr: 0.005000  loss: 0.3093 (0.3318)  loss_classifier: 0.2237 (0.2453)  loss_box_reg: 0.0814 (0.0796)  loss_objectness: 0.0016 (0.0023)  loss_rpn_box_reg: 0.0037 (0.0046)  time: 0.6031  data: 0.0265  max mem: 8495\n",
      "Epoch: [2]  [110/372]  eta: 0:02:40  lr: 0.005000  loss: 0.3023 (0.3321)  loss_classifier: 0.2176 (0.2454)  loss_box_reg: 0.0814 (0.0799)  loss_objectness: 0.0017 (0.0023)  loss_rpn_box_reg: 0.0032 (0.0045)  time: 0.6023  data: 0.0264  max mem: 8495\n",
      "Epoch: [2]  [120/372]  eta: 0:02:34  lr: 0.005000  loss: 0.3395 (0.3335)  loss_classifier: 0.2412 (0.2464)  loss_box_reg: 0.0796 (0.0804)  loss_objectness: 0.0017 (0.0023)  loss_rpn_box_reg: 0.0031 (0.0044)  time: 0.6025  data: 0.0265  max mem: 8495\n",
      "Epoch: [2]  [130/372]  eta: 0:02:28  lr: 0.005000  loss: 0.3192 (0.3312)  loss_classifier: 0.2293 (0.2447)  loss_box_reg: 0.0793 (0.0797)  loss_objectness: 0.0017 (0.0024)  loss_rpn_box_reg: 0.0033 (0.0044)  time: 0.6016  data: 0.0259  max mem: 8495\n",
      "Epoch: [2]  [140/372]  eta: 0:02:21  lr: 0.005000  loss: 0.3088 (0.3287)  loss_classifier: 0.2223 (0.2427)  loss_box_reg: 0.0744 (0.0793)  loss_objectness: 0.0020 (0.0024)  loss_rpn_box_reg: 0.0035 (0.0043)  time: 0.6017  data: 0.0260  max mem: 8495\n",
      "Epoch: [2]  [150/372]  eta: 0:02:15  lr: 0.005000  loss: 0.3088 (0.3284)  loss_classifier: 0.2254 (0.2425)  loss_box_reg: 0.0801 (0.0791)  loss_objectness: 0.0020 (0.0025)  loss_rpn_box_reg: 0.0035 (0.0043)  time: 0.6034  data: 0.0270  max mem: 8495\n",
      "Epoch: [2]  [160/372]  eta: 0:02:09  lr: 0.005000  loss: 0.3172 (0.3288)  loss_classifier: 0.2399 (0.2428)  loss_box_reg: 0.0801 (0.0792)  loss_objectness: 0.0023 (0.0025)  loss_rpn_box_reg: 0.0036 (0.0043)  time: 0.6035  data: 0.0268  max mem: 8495\n",
      "Epoch: [2]  [170/372]  eta: 0:02:03  lr: 0.005000  loss: 0.3117 (0.3272)  loss_classifier: 0.2343 (0.2415)  loss_box_reg: 0.0734 (0.0788)  loss_objectness: 0.0020 (0.0026)  loss_rpn_box_reg: 0.0036 (0.0043)  time: 0.6016  data: 0.0259  max mem: 8495\n",
      "Epoch: [2]  [180/372]  eta: 0:01:57  lr: 0.005000  loss: 0.2698 (0.3253)  loss_classifier: 0.1955 (0.2400)  loss_box_reg: 0.0643 (0.0785)  loss_objectness: 0.0017 (0.0025)  loss_rpn_box_reg: 0.0035 (0.0043)  time: 0.6012  data: 0.0258  max mem: 8495\n",
      "Epoch: [2]  [190/372]  eta: 0:01:50  lr: 0.005000  loss: 0.2855 (0.3258)  loss_classifier: 0.1976 (0.2400)  loss_box_reg: 0.0663 (0.0789)  loss_objectness: 0.0017 (0.0025)  loss_rpn_box_reg: 0.0040 (0.0044)  time: 0.6013  data: 0.0254  max mem: 8495\n",
      "Epoch: [2]  [200/372]  eta: 0:01:44  lr: 0.005000  loss: 0.2800 (0.3245)  loss_classifier: 0.2052 (0.2390)  loss_box_reg: 0.0683 (0.0786)  loss_objectness: 0.0012 (0.0025)  loss_rpn_box_reg: 0.0034 (0.0044)  time: 0.6026  data: 0.0266  max mem: 8495\n",
      "Epoch: [2]  [210/372]  eta: 0:01:38  lr: 0.005000  loss: 0.2800 (0.3244)  loss_classifier: 0.2086 (0.2388)  loss_box_reg: 0.0716 (0.0788)  loss_objectness: 0.0016 (0.0025)  loss_rpn_box_reg: 0.0034 (0.0044)  time: 0.6025  data: 0.0269  max mem: 8495\n",
      "Epoch: [2]  [220/372]  eta: 0:01:32  lr: 0.005000  loss: 0.3242 (0.3263)  loss_classifier: 0.2318 (0.2402)  loss_box_reg: 0.0781 (0.0793)  loss_objectness: 0.0016 (0.0025)  loss_rpn_box_reg: 0.0035 (0.0044)  time: 0.6009  data: 0.0262  max mem: 8495\n",
      "Epoch: [2]  [230/372]  eta: 0:01:26  lr: 0.005000  loss: 0.3059 (0.3249)  loss_classifier: 0.2257 (0.2390)  loss_box_reg: 0.0781 (0.0791)  loss_objectness: 0.0014 (0.0024)  loss_rpn_box_reg: 0.0032 (0.0043)  time: 0.5996  data: 0.0259  max mem: 8495\n",
      "Epoch: [2]  [240/372]  eta: 0:01:20  lr: 0.005000  loss: 0.3059 (0.3259)  loss_classifier: 0.2129 (0.2396)  loss_box_reg: 0.0822 (0.0795)  loss_objectness: 0.0016 (0.0024)  loss_rpn_box_reg: 0.0037 (0.0044)  time: 0.6000  data: 0.0256  max mem: 8495\n",
      "Epoch: [2]  [250/372]  eta: 0:01:14  lr: 0.005000  loss: 0.2958 (0.3246)  loss_classifier: 0.2090 (0.2387)  loss_box_reg: 0.0740 (0.0792)  loss_objectness: 0.0032 (0.0025)  loss_rpn_box_reg: 0.0031 (0.0043)  time: 0.6028  data: 0.0263  max mem: 8495\n",
      "Epoch: [2]  [260/372]  eta: 0:01:07  lr: 0.005000  loss: 0.2795 (0.3229)  loss_classifier: 0.1966 (0.2373)  loss_box_reg: 0.0702 (0.0789)  loss_objectness: 0.0022 (0.0025)  loss_rpn_box_reg: 0.0029 (0.0043)  time: 0.6035  data: 0.0266  max mem: 8495\n",
      "Epoch: [2]  [270/372]  eta: 0:01:01  lr: 0.005000  loss: 0.2822 (0.3223)  loss_classifier: 0.2172 (0.2370)  loss_box_reg: 0.0696 (0.0785)  loss_objectness: 0.0021 (0.0025)  loss_rpn_box_reg: 0.0029 (0.0043)  time: 0.6034  data: 0.0279  max mem: 8495\n",
      "Epoch: [2]  [280/372]  eta: 0:00:55  lr: 0.005000  loss: 0.3061 (0.3233)  loss_classifier: 0.2192 (0.2375)  loss_box_reg: 0.0783 (0.0790)  loss_objectness: 0.0015 (0.0024)  loss_rpn_box_reg: 0.0029 (0.0044)  time: 0.6046  data: 0.0285  max mem: 8495\n",
      "Epoch: [2]  [290/372]  eta: 0:00:49  lr: 0.005000  loss: 0.3075 (0.3230)  loss_classifier: 0.2206 (0.2373)  loss_box_reg: 0.0816 (0.0789)  loss_objectness: 0.0015 (0.0024)  loss_rpn_box_reg: 0.0034 (0.0044)  time: 0.6034  data: 0.0269  max mem: 8495\n",
      "Epoch: [2]  [300/372]  eta: 0:00:43  lr: 0.005000  loss: 0.3085 (0.3222)  loss_classifier: 0.2308 (0.2367)  loss_box_reg: 0.0761 (0.0787)  loss_objectness: 0.0020 (0.0024)  loss_rpn_box_reg: 0.0034 (0.0043)  time: 0.6024  data: 0.0258  max mem: 8495\n",
      "Epoch: [2]  [310/372]  eta: 0:00:37  lr: 0.005000  loss: 0.3100 (0.3215)  loss_classifier: 0.2308 (0.2360)  loss_box_reg: 0.0761 (0.0787)  loss_objectness: 0.0020 (0.0024)  loss_rpn_box_reg: 0.0032 (0.0043)  time: 0.6039  data: 0.0259  max mem: 8495\n",
      "Epoch: [2]  [320/372]  eta: 0:00:31  lr: 0.005000  loss: 0.3079 (0.3210)  loss_classifier: 0.2231 (0.2356)  loss_box_reg: 0.0754 (0.0787)  loss_objectness: 0.0016 (0.0024)  loss_rpn_box_reg: 0.0036 (0.0044)  time: 0.6032  data: 0.0260  max mem: 8495\n",
      "Epoch: [2]  [330/372]  eta: 0:00:25  lr: 0.005000  loss: 0.3046 (0.3202)  loss_classifier: 0.2180 (0.2349)  loss_box_reg: 0.0716 (0.0784)  loss_objectness: 0.0016 (0.0025)  loss_rpn_box_reg: 0.0040 (0.0044)  time: 0.6007  data: 0.0254  max mem: 8495\n",
      "Epoch: [2]  [340/372]  eta: 0:00:19  lr: 0.005000  loss: 0.3046 (0.3192)  loss_classifier: 0.2180 (0.2342)  loss_box_reg: 0.0685 (0.0782)  loss_objectness: 0.0015 (0.0024)  loss_rpn_box_reg: 0.0043 (0.0044)  time: 0.6009  data: 0.0253  max mem: 8495\n",
      "Epoch: [2]  [350/372]  eta: 0:00:13  lr: 0.005000  loss: 0.2659 (0.3185)  loss_classifier: 0.1933 (0.2336)  loss_box_reg: 0.0643 (0.0780)  loss_objectness: 0.0012 (0.0024)  loss_rpn_box_reg: 0.0036 (0.0044)  time: 0.6014  data: 0.0253  max mem: 8495\n",
      "Epoch: [2]  [360/372]  eta: 0:00:07  lr: 0.005000  loss: 0.2908 (0.3183)  loss_classifier: 0.2112 (0.2335)  loss_box_reg: 0.0722 (0.0780)  loss_objectness: 0.0014 (0.0025)  loss_rpn_box_reg: 0.0034 (0.0044)  time: 0.6015  data: 0.0250  max mem: 8495\n",
      "Epoch: [2]  [370/372]  eta: 0:00:01  lr: 0.005000  loss: 0.3054 (0.3185)  loss_classifier: 0.2180 (0.2334)  loss_box_reg: 0.0763 (0.0782)  loss_objectness: 0.0017 (0.0025)  loss_rpn_box_reg: 0.0035 (0.0044)  time: 0.6003  data: 0.0247  max mem: 8495\n",
      "Epoch: [2]  [371/372]  eta: 0:00:00  lr: 0.005000  loss: 0.3054 (0.3187)  loss_classifier: 0.2180 (0.2336)  loss_box_reg: 0.0858 (0.0783)  loss_objectness: 0.0017 (0.0025)  loss_rpn_box_reg: 0.0037 (0.0044)  time: 0.5923  data: 0.0247  max mem: 8495\n",
      "Epoch: [2] Total time: 0:03:45 (0.6054 s / it)\n",
      "creating index...\n",
      "index created!\n",
      "Test:  [ 0/80]  eta: 0:01:00  model_time: 0.2720 (0.2720)  evaluator_time: 0.0240 (0.0240)  time: 0.7595  data: 0.4455  max mem: 8495\n",
      "Test:  [79/80]  eta: 0:00:00  model_time: 0.2484 (0.2483)  evaluator_time: 0.0186 (0.0226)  time: 0.3017  data: 0.0239  max mem: 8495\n",
      "Test: Total time: 0:00:25 (0.3167 s / it)\n",
      "Averaged stats: model_time: 0.2484 (0.2483)  evaluator_time: 0.0186 (0.0226)\n",
      "Accumulating evaluation results...\n",
      "DONE (t=0.73s).\n",
      "IoU metric: bbox\n",
      " Average Precision  (AP) @[ IoU=0.50:0.95 | area=   all | maxDets=100 ] = 0.086\n",
      " Average Precision  (AP) @[ IoU=0.50      | area=   all | maxDets=100 ] = 0.124\n",
      " Average Precision  (AP) @[ IoU=0.75      | area=   all | maxDets=100 ] = 0.103\n",
      " Average Precision  (AP) @[ IoU=0.50:0.95 | area= small | maxDets=100 ] = 0.085\n",
      " Average Precision  (AP) @[ IoU=0.50:0.95 | area=medium | maxDets=100 ] = 0.075\n",
      " Average Precision  (AP) @[ IoU=0.50:0.95 | area= large | maxDets=100 ] = 0.101\n",
      " Average Recall     (AR) @[ IoU=0.50:0.95 | area=   all | maxDets=  1 ] = 0.295\n",
      " Average Recall     (AR) @[ IoU=0.50:0.95 | area=   all | maxDets= 10 ] = 0.387\n",
      " Average Recall     (AR) @[ IoU=0.50:0.95 | area=   all | maxDets=100 ] = 0.387\n",
      " Average Recall     (AR) @[ IoU=0.50:0.95 | area= small | maxDets=100 ] = 0.213\n",
      " Average Recall     (AR) @[ IoU=0.50:0.95 | area=medium | maxDets=100 ] = 0.273\n",
      " Average Recall     (AR) @[ IoU=0.50:0.95 | area= large | maxDets=100 ] = 0.416\n",
      "Epoch: [3]  [  0/372]  eta: 0:12:06  lr: 0.000500  loss: 0.2545 (0.2545)  loss_classifier: 0.1899 (0.1899)  loss_box_reg: 0.0611 (0.0611)  loss_objectness: 0.0014 (0.0014)  loss_rpn_box_reg: 0.0021 (0.0021)  time: 1.9529  data: 1.3500  max mem: 8495\n",
      "Epoch: [3]  [ 10/372]  eta: 0:04:23  lr: 0.000500  loss: 0.2654 (0.2766)  loss_classifier: 0.1911 (0.1971)  loss_box_reg: 0.0662 (0.0742)  loss_objectness: 0.0014 (0.0016)  loss_rpn_box_reg: 0.0029 (0.0036)  time: 0.7278  data: 0.1462  max mem: 8495\n",
      "Epoch: [3]  [ 20/372]  eta: 0:03:55  lr: 0.000500  loss: 0.2803 (0.2959)  loss_classifier: 0.2101 (0.2151)  loss_box_reg: 0.0667 (0.0752)  loss_objectness: 0.0014 (0.0021)  loss_rpn_box_reg: 0.0032 (0.0036)  time: 0.6036  data: 0.0256  max mem: 8495\n",
      "Epoch: [3]  [ 30/372]  eta: 0:03:41  lr: 0.000500  loss: 0.2648 (0.2831)  loss_classifier: 0.2024 (0.2080)  loss_box_reg: 0.0627 (0.0700)  loss_objectness: 0.0010 (0.0018)  loss_rpn_box_reg: 0.0023 (0.0033)  time: 0.6026  data: 0.0266  max mem: 8495\n",
      "Epoch: [3]  [ 40/372]  eta: 0:03:31  lr: 0.000500  loss: 0.2525 (0.2862)  loss_classifier: 0.1899 (0.2110)  loss_box_reg: 0.0577 (0.0700)  loss_objectness: 0.0009 (0.0017)  loss_rpn_box_reg: 0.0025 (0.0035)  time: 0.6021  data: 0.0267  max mem: 8495\n",
      "Epoch: [3]  [ 50/372]  eta: 0:03:22  lr: 0.000500  loss: 0.2780 (0.2864)  loss_classifier: 0.2121 (0.2127)  loss_box_reg: 0.0588 (0.0688)  loss_objectness: 0.0013 (0.0017)  loss_rpn_box_reg: 0.0025 (0.0033)  time: 0.6002  data: 0.0255  max mem: 8495\n",
      "Epoch: [3]  [ 60/372]  eta: 0:03:14  lr: 0.000500  loss: 0.2631 (0.2833)  loss_classifier: 0.1955 (0.2108)  loss_box_reg: 0.0577 (0.0674)  loss_objectness: 0.0013 (0.0016)  loss_rpn_box_reg: 0.0028 (0.0035)  time: 0.6004  data: 0.0252  max mem: 8495\n",
      "Epoch: [3]  [ 70/372]  eta: 0:03:07  lr: 0.000500  loss: 0.2473 (0.2803)  loss_classifier: 0.1883 (0.2092)  loss_box_reg: 0.0563 (0.0661)  loss_objectness: 0.0015 (0.0017)  loss_rpn_box_reg: 0.0026 (0.0034)  time: 0.6027  data: 0.0262  max mem: 8495\n",
      "Epoch: [3]  [ 80/372]  eta: 0:03:00  lr: 0.000500  loss: 0.2612 (0.2817)  loss_classifier: 0.1948 (0.2099)  loss_box_reg: 0.0581 (0.0661)  loss_objectness: 0.0019 (0.0018)  loss_rpn_box_reg: 0.0027 (0.0038)  time: 0.6030  data: 0.0270  max mem: 8495\n",
      "Epoch: [3]  [ 90/372]  eta: 0:02:54  lr: 0.000500  loss: 0.2669 (0.2817)  loss_classifier: 0.1961 (0.2099)  loss_box_reg: 0.0652 (0.0661)  loss_objectness: 0.0014 (0.0018)  loss_rpn_box_reg: 0.0034 (0.0038)  time: 0.6020  data: 0.0261  max mem: 8495\n",
      "Epoch: [3]  [100/372]  eta: 0:02:47  lr: 0.000500  loss: 0.2624 (0.2795)  loss_classifier: 0.1949 (0.2088)  loss_box_reg: 0.0621 (0.0652)  loss_objectness: 0.0010 (0.0017)  loss_rpn_box_reg: 0.0032 (0.0038)  time: 0.6031  data: 0.0264  max mem: 8495\n",
      "Epoch: [3]  [110/372]  eta: 0:02:41  lr: 0.000500  loss: 0.2545 (0.2794)  loss_classifier: 0.1841 (0.2086)  loss_box_reg: 0.0594 (0.0654)  loss_objectness: 0.0010 (0.0017)  loss_rpn_box_reg: 0.0031 (0.0037)  time: 0.6034  data: 0.0269  max mem: 8495\n",
      "Epoch: [3]  [120/372]  eta: 0:02:34  lr: 0.000500  loss: 0.2644 (0.2807)  loss_classifier: 0.2086 (0.2103)  loss_box_reg: 0.0604 (0.0651)  loss_objectness: 0.0009 (0.0016)  loss_rpn_box_reg: 0.0030 (0.0037)  time: 0.6017  data: 0.0263  max mem: 8495\n",
      "Epoch: [3]  [130/372]  eta: 0:02:28  lr: 0.000500  loss: 0.2755 (0.2804)  loss_classifier: 0.2153 (0.2102)  loss_box_reg: 0.0624 (0.0648)  loss_objectness: 0.0009 (0.0016)  loss_rpn_box_reg: 0.0030 (0.0037)  time: 0.6033  data: 0.0270  max mem: 8495\n",
      "Epoch: [3]  [140/372]  eta: 0:02:22  lr: 0.000500  loss: 0.2638 (0.2785)  loss_classifier: 0.2050 (0.2089)  loss_box_reg: 0.0598 (0.0644)  loss_objectness: 0.0015 (0.0016)  loss_rpn_box_reg: 0.0030 (0.0037)  time: 0.6038  data: 0.0276  max mem: 8495\n",
      "Epoch: [3]  [150/372]  eta: 0:02:15  lr: 0.000500  loss: 0.2447 (0.2769)  loss_classifier: 0.1926 (0.2080)  loss_box_reg: 0.0468 (0.0636)  loss_objectness: 0.0015 (0.0017)  loss_rpn_box_reg: 0.0029 (0.0036)  time: 0.6019  data: 0.0267  max mem: 8495\n",
      "Epoch: [3]  [160/372]  eta: 0:02:09  lr: 0.000500  loss: 0.2447 (0.2760)  loss_classifier: 0.1926 (0.2076)  loss_box_reg: 0.0544 (0.0631)  loss_objectness: 0.0010 (0.0017)  loss_rpn_box_reg: 0.0024 (0.0035)  time: 0.6020  data: 0.0257  max mem: 8495\n",
      "Epoch: [3]  [170/372]  eta: 0:02:03  lr: 0.000500  loss: 0.2544 (0.2755)  loss_classifier: 0.1981 (0.2072)  loss_box_reg: 0.0557 (0.0631)  loss_objectness: 0.0010 (0.0017)  loss_rpn_box_reg: 0.0025 (0.0035)  time: 0.6018  data: 0.0252  max mem: 8495\n",
      "Epoch: [3]  [180/372]  eta: 0:01:57  lr: 0.000500  loss: 0.2567 (0.2748)  loss_classifier: 0.1928 (0.2068)  loss_box_reg: 0.0567 (0.0629)  loss_objectness: 0.0010 (0.0016)  loss_rpn_box_reg: 0.0030 (0.0035)  time: 0.6047  data: 0.0274  max mem: 8495\n",
      "Epoch: [3]  [190/372]  eta: 0:01:50  lr: 0.000500  loss: 0.2598 (0.2759)  loss_classifier: 0.1928 (0.2076)  loss_box_reg: 0.0604 (0.0631)  loss_objectness: 0.0010 (0.0016)  loss_rpn_box_reg: 0.0027 (0.0034)  time: 0.6050  data: 0.0284  max mem: 8495\n",
      "Epoch: [3]  [200/372]  eta: 0:01:44  lr: 0.000500  loss: 0.2714 (0.2763)  loss_classifier: 0.2085 (0.2079)  loss_box_reg: 0.0588 (0.0633)  loss_objectness: 0.0014 (0.0017)  loss_rpn_box_reg: 0.0030 (0.0034)  time: 0.6017  data: 0.0263  max mem: 8495\n",
      "Epoch: [3]  [210/372]  eta: 0:01:38  lr: 0.000500  loss: 0.2687 (0.2754)  loss_classifier: 0.2002 (0.2073)  loss_box_reg: 0.0584 (0.0630)  loss_objectness: 0.0007 (0.0016)  loss_rpn_box_reg: 0.0031 (0.0034)  time: 0.6021  data: 0.0261  max mem: 8495\n",
      "Epoch: [3]  [220/372]  eta: 0:01:32  lr: 0.000500  loss: 0.2625 (0.2747)  loss_classifier: 0.2002 (0.2069)  loss_box_reg: 0.0575 (0.0627)  loss_objectness: 0.0005 (0.0016)  loss_rpn_box_reg: 0.0026 (0.0034)  time: 0.6025  data: 0.0271  max mem: 8495\n",
      "Epoch: [3]  [230/372]  eta: 0:01:26  lr: 0.000500  loss: 0.2608 (0.2750)  loss_classifier: 0.1975 (0.2073)  loss_box_reg: 0.0570 (0.0627)  loss_objectness: 0.0006 (0.0016)  loss_rpn_box_reg: 0.0023 (0.0034)  time: 0.6024  data: 0.0264  max mem: 8495\n",
      "Epoch: [3]  [240/372]  eta: 0:01:20  lr: 0.000500  loss: 0.2428 (0.2737)  loss_classifier: 0.1868 (0.2062)  loss_box_reg: 0.0549 (0.0624)  loss_objectness: 0.0012 (0.0016)  loss_rpn_box_reg: 0.0028 (0.0034)  time: 0.6019  data: 0.0253  max mem: 8495\n",
      "Epoch: [3]  [250/372]  eta: 0:01:14  lr: 0.000500  loss: 0.2585 (0.2738)  loss_classifier: 0.1868 (0.2066)  loss_box_reg: 0.0554 (0.0622)  loss_objectness: 0.0010 (0.0016)  loss_rpn_box_reg: 0.0027 (0.0034)  time: 0.6012  data: 0.0254  max mem: 8495\n",
      "Epoch: [3]  [260/372]  eta: 0:01:08  lr: 0.000500  loss: 0.2740 (0.2729)  loss_classifier: 0.2022 (0.2059)  loss_box_reg: 0.0578 (0.0620)  loss_objectness: 0.0009 (0.0016)  loss_rpn_box_reg: 0.0027 (0.0034)  time: 0.6016  data: 0.0256  max mem: 8495\n",
      "Epoch: [3]  [270/372]  eta: 0:01:01  lr: 0.000500  loss: 0.2518 (0.2720)  loss_classifier: 0.1883 (0.2050)  loss_box_reg: 0.0573 (0.0619)  loss_objectness: 0.0012 (0.0016)  loss_rpn_box_reg: 0.0032 (0.0034)  time: 0.6019  data: 0.0255  max mem: 8495\n",
      "Epoch: [3]  [280/372]  eta: 0:00:55  lr: 0.000500  loss: 0.2518 (0.2717)  loss_classifier: 0.1873 (0.2047)  loss_box_reg: 0.0554 (0.0619)  loss_objectness: 0.0011 (0.0016)  loss_rpn_box_reg: 0.0032 (0.0034)  time: 0.6043  data: 0.0272  max mem: 8495\n",
      "Epoch: [3]  [290/372]  eta: 0:00:49  lr: 0.000500  loss: 0.2370 (0.2707)  loss_classifier: 0.1810 (0.2040)  loss_box_reg: 0.0477 (0.0617)  loss_objectness: 0.0012 (0.0016)  loss_rpn_box_reg: 0.0027 (0.0034)  time: 0.6064  data: 0.0294  max mem: 8495\n",
      "Epoch: [3]  [300/372]  eta: 0:00:43  lr: 0.000500  loss: 0.2621 (0.2714)  loss_classifier: 0.2023 (0.2043)  loss_box_reg: 0.0610 (0.0620)  loss_objectness: 0.0013 (0.0016)  loss_rpn_box_reg: 0.0027 (0.0034)  time: 0.6041  data: 0.0278  max mem: 8495\n",
      "Epoch: [3]  [310/372]  eta: 0:00:37  lr: 0.000500  loss: 0.2323 (0.2696)  loss_classifier: 0.1761 (0.2029)  loss_box_reg: 0.0571 (0.0616)  loss_objectness: 0.0016 (0.0016)  loss_rpn_box_reg: 0.0035 (0.0035)  time: 0.6021  data: 0.0261  max mem: 8495\n",
      "Epoch: [3]  [320/372]  eta: 0:00:31  lr: 0.000500  loss: 0.2293 (0.2690)  loss_classifier: 0.1687 (0.2023)  loss_box_reg: 0.0571 (0.0617)  loss_objectness: 0.0008 (0.0016)  loss_rpn_box_reg: 0.0030 (0.0035)  time: 0.6004  data: 0.0255  max mem: 8495\n",
      "Epoch: [3]  [330/372]  eta: 0:00:25  lr: 0.000500  loss: 0.2327 (0.2681)  loss_classifier: 0.1633 (0.2014)  loss_box_reg: 0.0615 (0.0615)  loss_objectness: 0.0010 (0.0016)  loss_rpn_box_reg: 0.0030 (0.0035)  time: 0.5994  data: 0.0254  max mem: 8495\n",
      "Epoch: [3]  [340/372]  eta: 0:00:19  lr: 0.000500  loss: 0.2540 (0.2685)  loss_classifier: 0.1932 (0.2017)  loss_box_reg: 0.0588 (0.0616)  loss_objectness: 0.0011 (0.0016)  loss_rpn_box_reg: 0.0033 (0.0035)  time: 0.6012  data: 0.0268  max mem: 8495\n",
      "Epoch: [3]  [350/372]  eta: 0:00:13  lr: 0.000500  loss: 0.2719 (0.2688)  loss_classifier: 0.2017 (0.2022)  loss_box_reg: 0.0556 (0.0615)  loss_objectness: 0.0012 (0.0016)  loss_rpn_box_reg: 0.0022 (0.0035)  time: 0.6018  data: 0.0272  max mem: 8495\n",
      "Epoch: [3]  [360/372]  eta: 0:00:07  lr: 0.000500  loss: 0.2491 (0.2682)  loss_classifier: 0.1968 (0.2018)  loss_box_reg: 0.0505 (0.0613)  loss_objectness: 0.0011 (0.0016)  loss_rpn_box_reg: 0.0026 (0.0035)  time: 0.6031  data: 0.0266  max mem: 8495\n",
      "Epoch: [3]  [370/372]  eta: 0:00:01  lr: 0.000500  loss: 0.2720 (0.2687)  loss_classifier: 0.2081 (0.2023)  loss_box_reg: 0.0537 (0.0613)  loss_objectness: 0.0011 (0.0016)  loss_rpn_box_reg: 0.0029 (0.0035)  time: 0.6010  data: 0.0254  max mem: 8495\n",
      "Epoch: [3]  [371/372]  eta: 0:00:00  lr: 0.000500  loss: 0.2795 (0.2687)  loss_classifier: 0.2102 (0.2023)  loss_box_reg: 0.0563 (0.0613)  loss_objectness: 0.0010 (0.0016)  loss_rpn_box_reg: 0.0029 (0.0035)  time: 0.5928  data: 0.0252  max mem: 8495\n",
      "Epoch: [3] Total time: 0:03:45 (0.6058 s / it)\n",
      "creating index...\n",
      "index created!\n",
      "Test:  [ 0/80]  eta: 0:00:59  model_time: 0.2767 (0.2767)  evaluator_time: 0.0232 (0.0232)  time: 0.7459  data: 0.4298  max mem: 8495\n",
      "Test:  [79/80]  eta: 0:00:00  model_time: 0.2481 (0.2479)  evaluator_time: 0.0189 (0.0239)  time: 0.3115  data: 0.0254  max mem: 8495\n",
      "Test: Total time: 0:00:25 (0.3170 s / it)\n",
      "Averaged stats: model_time: 0.2481 (0.2479)  evaluator_time: 0.0189 (0.0239)\n",
      "Accumulating evaluation results...\n",
      "DONE (t=0.77s).\n",
      "IoU metric: bbox\n",
      " Average Precision  (AP) @[ IoU=0.50:0.95 | area=   all | maxDets=100 ] = 0.115\n",
      " Average Precision  (AP) @[ IoU=0.50      | area=   all | maxDets=100 ] = 0.159\n",
      " Average Precision  (AP) @[ IoU=0.75      | area=   all | maxDets=100 ] = 0.135\n",
      " Average Precision  (AP) @[ IoU=0.50:0.95 | area= small | maxDets=100 ] = 0.134\n",
      " Average Precision  (AP) @[ IoU=0.50:0.95 | area=medium | maxDets=100 ] = 0.096\n",
      " Average Precision  (AP) @[ IoU=0.50:0.95 | area= large | maxDets=100 ] = 0.136\n",
      " Average Recall     (AR) @[ IoU=0.50:0.95 | area=   all | maxDets=  1 ] = 0.365\n",
      " Average Recall     (AR) @[ IoU=0.50:0.95 | area=   all | maxDets= 10 ] = 0.474\n",
      " Average Recall     (AR) @[ IoU=0.50:0.95 | area=   all | maxDets=100 ] = 0.474\n",
      " Average Recall     (AR) @[ IoU=0.50:0.95 | area= small | maxDets=100 ] = 0.327\n",
      " Average Recall     (AR) @[ IoU=0.50:0.95 | area=medium | maxDets=100 ] = 0.380\n",
      " Average Recall     (AR) @[ IoU=0.50:0.95 | area= large | maxDets=100 ] = 0.508\n",
      "Epoch: [4]  [  0/372]  eta: 0:12:51  lr: 0.000500  loss: 0.2007 (0.2007)  loss_classifier: 0.1454 (0.1454)  loss_box_reg: 0.0521 (0.0521)  loss_objectness: 0.0005 (0.0005)  loss_rpn_box_reg: 0.0026 (0.0026)  time: 2.0738  data: 1.4803  max mem: 8495\n",
      "Epoch: [4]  [ 10/372]  eta: 0:04:27  lr: 0.000500  loss: 0.2808 (0.2678)  loss_classifier: 0.2149 (0.2042)  loss_box_reg: 0.0604 (0.0590)  loss_objectness: 0.0015 (0.0015)  loss_rpn_box_reg: 0.0031 (0.0030)  time: 0.7390  data: 0.1593  max mem: 8495\n",
      "Epoch: [4]  [ 20/372]  eta: 0:03:56  lr: 0.000500  loss: 0.2693 (0.2655)  loss_classifier: 0.2020 (0.2013)  loss_box_reg: 0.0567 (0.0587)  loss_objectness: 0.0015 (0.0025)  loss_rpn_box_reg: 0.0029 (0.0031)  time: 0.6032  data: 0.0264  max mem: 8495\n",
      "Epoch: [4]  [ 30/372]  eta: 0:03:42  lr: 0.000500  loss: 0.2375 (0.2672)  loss_classifier: 0.1936 (0.2017)  loss_box_reg: 0.0517 (0.0603)  loss_objectness: 0.0009 (0.0021)  loss_rpn_box_reg: 0.0029 (0.0030)  time: 0.6019  data: 0.0263  max mem: 8495\n",
      "Epoch: [4]  [ 40/372]  eta: 0:03:31  lr: 0.000500  loss: 0.2679 (0.2679)  loss_classifier: 0.2052 (0.2024)  loss_box_reg: 0.0573 (0.0607)  loss_objectness: 0.0012 (0.0019)  loss_rpn_box_reg: 0.0021 (0.0029)  time: 0.6017  data: 0.0262  max mem: 8495\n",
      "Epoch: [4]  [ 50/372]  eta: 0:03:23  lr: 0.000500  loss: 0.2892 (0.2731)  loss_classifier: 0.2052 (0.2051)  loss_box_reg: 0.0594 (0.0629)  loss_objectness: 0.0013 (0.0019)  loss_rpn_box_reg: 0.0025 (0.0032)  time: 0.6003  data: 0.0251  max mem: 8495\n",
      "Epoch: [4]  [ 60/372]  eta: 0:03:15  lr: 0.000500  loss: 0.2635 (0.2690)  loss_classifier: 0.1848 (0.2017)  loss_box_reg: 0.0686 (0.0623)  loss_objectness: 0.0011 (0.0018)  loss_rpn_box_reg: 0.0031 (0.0032)  time: 0.6010  data: 0.0251  max mem: 8495\n",
      "Epoch: [4]  [ 70/372]  eta: 0:03:08  lr: 0.000500  loss: 0.2307 (0.2662)  loss_classifier: 0.1749 (0.2002)  loss_box_reg: 0.0557 (0.0613)  loss_objectness: 0.0008 (0.0017)  loss_rpn_box_reg: 0.0025 (0.0030)  time: 0.6014  data: 0.0255  max mem: 8495\n",
      "Epoch: [4]  [ 80/372]  eta: 0:03:01  lr: 0.000500  loss: 0.2557 (0.2669)  loss_classifier: 0.1941 (0.2005)  loss_box_reg: 0.0557 (0.0615)  loss_objectness: 0.0009 (0.0018)  loss_rpn_box_reg: 0.0024 (0.0031)  time: 0.6014  data: 0.0258  max mem: 8495\n",
      "Epoch: [4]  [ 90/372]  eta: 0:02:54  lr: 0.000500  loss: 0.2592 (0.2665)  loss_classifier: 0.1996 (0.2010)  loss_box_reg: 0.0545 (0.0607)  loss_objectness: 0.0012 (0.0017)  loss_rpn_box_reg: 0.0026 (0.0030)  time: 0.6026  data: 0.0264  max mem: 8495\n",
      "Epoch: [4]  [100/372]  eta: 0:02:47  lr: 0.000500  loss: 0.2532 (0.2634)  loss_classifier: 0.1974 (0.1990)  loss_box_reg: 0.0477 (0.0597)  loss_objectness: 0.0007 (0.0016)  loss_rpn_box_reg: 0.0026 (0.0030)  time: 0.6021  data: 0.0261  max mem: 8495\n",
      "Epoch: [4]  [110/372]  eta: 0:02:41  lr: 0.000500  loss: 0.2291 (0.2618)  loss_classifier: 0.1782 (0.1982)  loss_box_reg: 0.0477 (0.0590)  loss_objectness: 0.0009 (0.0016)  loss_rpn_box_reg: 0.0025 (0.0030)  time: 0.6035  data: 0.0272  max mem: 8495\n",
      "Epoch: [4]  [120/372]  eta: 0:02:34  lr: 0.000500  loss: 0.2291 (0.2598)  loss_classifier: 0.1738 (0.1966)  loss_box_reg: 0.0530 (0.0587)  loss_objectness: 0.0009 (0.0016)  loss_rpn_box_reg: 0.0028 (0.0030)  time: 0.6029  data: 0.0277  max mem: 8495\n",
      "Epoch: [4]  [130/372]  eta: 0:02:28  lr: 0.000500  loss: 0.2548 (0.2630)  loss_classifier: 0.1904 (0.1989)  loss_box_reg: 0.0602 (0.0595)  loss_objectness: 0.0007 (0.0015)  loss_rpn_box_reg: 0.0033 (0.0031)  time: 0.6000  data: 0.0263  max mem: 8495\n",
      "Epoch: [4]  [140/372]  eta: 0:02:22  lr: 0.000500  loss: 0.2603 (0.2630)  loss_classifier: 0.2033 (0.1993)  loss_box_reg: 0.0607 (0.0591)  loss_objectness: 0.0006 (0.0015)  loss_rpn_box_reg: 0.0033 (0.0031)  time: 0.5999  data: 0.0256  max mem: 8495\n",
      "Epoch: [4]  [150/372]  eta: 0:02:15  lr: 0.000500  loss: 0.2526 (0.2630)  loss_classifier: 0.1897 (0.1992)  loss_box_reg: 0.0576 (0.0591)  loss_objectness: 0.0006 (0.0015)  loss_rpn_box_reg: 0.0031 (0.0031)  time: 0.6004  data: 0.0259  max mem: 8495\n",
      "Epoch: [4]  [160/372]  eta: 0:02:09  lr: 0.000500  loss: 0.2618 (0.2639)  loss_classifier: 0.1897 (0.2001)  loss_box_reg: 0.0605 (0.0592)  loss_objectness: 0.0009 (0.0014)  loss_rpn_box_reg: 0.0030 (0.0032)  time: 0.6005  data: 0.0264  max mem: 8495\n",
      "Epoch: [4]  [170/372]  eta: 0:02:03  lr: 0.000500  loss: 0.2598 (0.2638)  loss_classifier: 0.1968 (0.1999)  loss_box_reg: 0.0597 (0.0593)  loss_objectness: 0.0009 (0.0014)  loss_rpn_box_reg: 0.0027 (0.0032)  time: 0.5993  data: 0.0256  max mem: 8495\n",
      "Epoch: [4]  [180/372]  eta: 0:01:57  lr: 0.000500  loss: 0.2462 (0.2630)  loss_classifier: 0.1844 (0.1994)  loss_box_reg: 0.0500 (0.0590)  loss_objectness: 0.0011 (0.0014)  loss_rpn_box_reg: 0.0027 (0.0032)  time: 0.5995  data: 0.0254  max mem: 8495\n",
      "Epoch: [4]  [190/372]  eta: 0:01:50  lr: 0.000500  loss: 0.2194 (0.2614)  loss_classifier: 0.1740 (0.1982)  loss_box_reg: 0.0431 (0.0587)  loss_objectness: 0.0013 (0.0014)  loss_rpn_box_reg: 0.0025 (0.0031)  time: 0.5999  data: 0.0254  max mem: 8495\n",
      "Epoch: [4]  [200/372]  eta: 0:01:44  lr: 0.000500  loss: 0.2402 (0.2622)  loss_classifier: 0.1847 (0.1985)  loss_box_reg: 0.0560 (0.0591)  loss_objectness: 0.0009 (0.0014)  loss_rpn_box_reg: 0.0027 (0.0032)  time: 0.5989  data: 0.0250  max mem: 8495\n",
      "Epoch: [4]  [210/372]  eta: 0:01:38  lr: 0.000500  loss: 0.2676 (0.2619)  loss_classifier: 0.1991 (0.1981)  loss_box_reg: 0.0560 (0.0591)  loss_objectness: 0.0011 (0.0014)  loss_rpn_box_reg: 0.0033 (0.0033)  time: 0.6000  data: 0.0255  max mem: 8495\n",
      "Epoch: [4]  [220/372]  eta: 0:01:32  lr: 0.000500  loss: 0.2641 (0.2622)  loss_classifier: 0.1952 (0.1982)  loss_box_reg: 0.0555 (0.0594)  loss_objectness: 0.0013 (0.0014)  loss_rpn_box_reg: 0.0035 (0.0033)  time: 0.6011  data: 0.0258  max mem: 8495\n",
      "Epoch: [4]  [230/372]  eta: 0:01:26  lr: 0.000500  loss: 0.2713 (0.2629)  loss_classifier: 0.2052 (0.1987)  loss_box_reg: 0.0618 (0.0594)  loss_objectness: 0.0010 (0.0014)  loss_rpn_box_reg: 0.0031 (0.0033)  time: 0.6001  data: 0.0256  max mem: 8495\n",
      "Epoch: [4]  [240/372]  eta: 0:01:20  lr: 0.000500  loss: 0.2484 (0.2624)  loss_classifier: 0.1944 (0.1985)  loss_box_reg: 0.0522 (0.0592)  loss_objectness: 0.0008 (0.0014)  loss_rpn_box_reg: 0.0027 (0.0033)  time: 0.6012  data: 0.0263  max mem: 8495\n",
      "Epoch: [4]  [250/372]  eta: 0:01:14  lr: 0.000500  loss: 0.2374 (0.2625)  loss_classifier: 0.1849 (0.1986)  loss_box_reg: 0.0507 (0.0591)  loss_objectness: 0.0009 (0.0014)  loss_rpn_box_reg: 0.0028 (0.0034)  time: 0.6019  data: 0.0262  max mem: 8495\n",
      "Epoch: [4]  [260/372]  eta: 0:01:07  lr: 0.000500  loss: 0.2410 (0.2624)  loss_classifier: 0.1887 (0.1986)  loss_box_reg: 0.0524 (0.0591)  loss_objectness: 0.0012 (0.0014)  loss_rpn_box_reg: 0.0028 (0.0033)  time: 0.6011  data: 0.0253  max mem: 8495\n",
      "Epoch: [4]  [270/372]  eta: 0:01:01  lr: 0.000500  loss: 0.2515 (0.2621)  loss_classifier: 0.1908 (0.1982)  loss_box_reg: 0.0532 (0.0591)  loss_objectness: 0.0007 (0.0014)  loss_rpn_box_reg: 0.0027 (0.0034)  time: 0.6011  data: 0.0253  max mem: 8495\n",
      "Epoch: [4]  [280/372]  eta: 0:00:55  lr: 0.000500  loss: 0.2625 (0.2619)  loss_classifier: 0.1947 (0.1982)  loss_box_reg: 0.0550 (0.0590)  loss_objectness: 0.0007 (0.0014)  loss_rpn_box_reg: 0.0024 (0.0033)  time: 0.6022  data: 0.0259  max mem: 8495\n",
      "Epoch: [4]  [290/372]  eta: 0:00:49  lr: 0.000500  loss: 0.2464 (0.2610)  loss_classifier: 0.1879 (0.1975)  loss_box_reg: 0.0522 (0.0587)  loss_objectness: 0.0013 (0.0015)  loss_rpn_box_reg: 0.0024 (0.0033)  time: 0.6021  data: 0.0263  max mem: 8495\n",
      "Epoch: [4]  [300/372]  eta: 0:00:43  lr: 0.000500  loss: 0.2250 (0.2601)  loss_classifier: 0.1771 (0.1967)  loss_box_reg: 0.0518 (0.0586)  loss_objectness: 0.0013 (0.0015)  loss_rpn_box_reg: 0.0029 (0.0033)  time: 0.6027  data: 0.0260  max mem: 8495\n",
      "Epoch: [4]  [310/372]  eta: 0:00:37  lr: 0.000500  loss: 0.2132 (0.2593)  loss_classifier: 0.1666 (0.1960)  loss_box_reg: 0.0493 (0.0585)  loss_objectness: 0.0008 (0.0014)  loss_rpn_box_reg: 0.0029 (0.0034)  time: 0.6027  data: 0.0259  max mem: 8495\n",
      "Epoch: [4]  [320/372]  eta: 0:00:31  lr: 0.000500  loss: 0.2400 (0.2590)  loss_classifier: 0.1678 (0.1959)  loss_box_reg: 0.0489 (0.0583)  loss_objectness: 0.0006 (0.0014)  loss_rpn_box_reg: 0.0025 (0.0034)  time: 0.6005  data: 0.0260  max mem: 8495\n",
      "Epoch: [4]  [330/372]  eta: 0:00:25  lr: 0.000500  loss: 0.2348 (0.2585)  loss_classifier: 0.1767 (0.1954)  loss_box_reg: 0.0497 (0.0583)  loss_objectness: 0.0006 (0.0014)  loss_rpn_box_reg: 0.0023 (0.0034)  time: 0.6009  data: 0.0262  max mem: 8495\n",
      "Epoch: [4]  [340/372]  eta: 0:00:19  lr: 0.000500  loss: 0.2317 (0.2579)  loss_classifier: 0.1713 (0.1949)  loss_box_reg: 0.0546 (0.0582)  loss_objectness: 0.0007 (0.0014)  loss_rpn_box_reg: 0.0025 (0.0034)  time: 0.6009  data: 0.0260  max mem: 8495\n",
      "Epoch: [4]  [350/372]  eta: 0:00:13  lr: 0.000500  loss: 0.2321 (0.2582)  loss_classifier: 0.1775 (0.1951)  loss_box_reg: 0.0524 (0.0583)  loss_objectness: 0.0006 (0.0014)  loss_rpn_box_reg: 0.0032 (0.0034)  time: 0.5986  data: 0.0251  max mem: 8495\n",
      "Epoch: [4]  [360/372]  eta: 0:00:07  lr: 0.000500  loss: 0.2344 (0.2578)  loss_classifier: 0.1775 (0.1948)  loss_box_reg: 0.0488 (0.0582)  loss_objectness: 0.0008 (0.0014)  loss_rpn_box_reg: 0.0029 (0.0034)  time: 0.5982  data: 0.0248  max mem: 8495\n",
      "Epoch: [4]  [370/372]  eta: 0:00:01  lr: 0.000500  loss: 0.2367 (0.2583)  loss_classifier: 0.1843 (0.1951)  loss_box_reg: 0.0540 (0.0584)  loss_objectness: 0.0015 (0.0014)  loss_rpn_box_reg: 0.0027 (0.0034)  time: 0.5986  data: 0.0251  max mem: 8495\n",
      "Epoch: [4]  [371/372]  eta: 0:00:00  lr: 0.000500  loss: 0.2430 (0.2583)  loss_classifier: 0.1868 (0.1951)  loss_box_reg: 0.0551 (0.0584)  loss_objectness: 0.0015 (0.0014)  loss_rpn_box_reg: 0.0027 (0.0034)  time: 0.5906  data: 0.0249  max mem: 8495\n",
      "Epoch: [4] Total time: 0:03:44 (0.6047 s / it)\n",
      "creating index...\n",
      "index created!\n",
      "Test:  [ 0/80]  eta: 0:01:04  model_time: 0.2695 (0.2695)  evaluator_time: 0.0245 (0.0245)  time: 0.8058  data: 0.4958  max mem: 8495\n",
      "Test:  [79/80]  eta: 0:00:00  model_time: 0.2478 (0.2476)  evaluator_time: 0.0196 (0.0234)  time: 0.3046  data: 0.0250  max mem: 8495\n",
      "Test: Total time: 0:00:25 (0.3167 s / it)\n",
      "Averaged stats: model_time: 0.2478 (0.2476)  evaluator_time: 0.0196 (0.0234)\n",
      "Accumulating evaluation results...\n",
      "DONE (t=0.84s).\n",
      "IoU metric: bbox\n",
      " Average Precision  (AP) @[ IoU=0.50:0.95 | area=   all | maxDets=100 ] = 0.122\n",
      " Average Precision  (AP) @[ IoU=0.50      | area=   all | maxDets=100 ] = 0.170\n",
      " Average Precision  (AP) @[ IoU=0.75      | area=   all | maxDets=100 ] = 0.144\n",
      " Average Precision  (AP) @[ IoU=0.50:0.95 | area= small | maxDets=100 ] = 0.120\n",
      " Average Precision  (AP) @[ IoU=0.50:0.95 | area=medium | maxDets=100 ] = 0.115\n",
      " Average Precision  (AP) @[ IoU=0.50:0.95 | area= large | maxDets=100 ] = 0.144\n",
      " Average Recall     (AR) @[ IoU=0.50:0.95 | area=   all | maxDets=  1 ] = 0.396\n",
      " Average Recall     (AR) @[ IoU=0.50:0.95 | area=   all | maxDets= 10 ] = 0.511\n",
      " Average Recall     (AR) @[ IoU=0.50:0.95 | area=   all | maxDets=100 ] = 0.511\n",
      " Average Recall     (AR) @[ IoU=0.50:0.95 | area= small | maxDets=100 ] = 0.335\n",
      " Average Recall     (AR) @[ IoU=0.50:0.95 | area=medium | maxDets=100 ] = 0.431\n",
      " Average Recall     (AR) @[ IoU=0.50:0.95 | area= large | maxDets=100 ] = 0.546\n",
      "Epoch: [5]  [  0/372]  eta: 0:12:25  lr: 0.000500  loss: 0.3077 (0.3077)  loss_classifier: 0.2457 (0.2457)  loss_box_reg: 0.0579 (0.0579)  loss_objectness: 0.0006 (0.0006)  loss_rpn_box_reg: 0.0034 (0.0034)  time: 2.0032  data: 1.4088  max mem: 8495\n",
      "Epoch: [5]  [ 10/372]  eta: 0:04:26  lr: 0.000500  loss: 0.2486 (0.2500)  loss_classifier: 0.1754 (0.1913)  loss_box_reg: 0.0524 (0.0541)  loss_objectness: 0.0009 (0.0012)  loss_rpn_box_reg: 0.0027 (0.0034)  time: 0.7350  data: 0.1545  max mem: 8495\n",
      "Epoch: [5]  [ 20/372]  eta: 0:03:56  lr: 0.000500  loss: 0.2460 (0.2472)  loss_classifier: 0.1754 (0.1897)  loss_box_reg: 0.0511 (0.0533)  loss_objectness: 0.0009 (0.0014)  loss_rpn_box_reg: 0.0022 (0.0028)  time: 0.6052  data: 0.0280  max mem: 8495\n",
      "Epoch: [5]  [ 30/372]  eta: 0:03:42  lr: 0.000500  loss: 0.2445 (0.2482)  loss_classifier: 0.1830 (0.1886)  loss_box_reg: 0.0516 (0.0554)  loss_objectness: 0.0010 (0.0013)  loss_rpn_box_reg: 0.0020 (0.0029)  time: 0.6032  data: 0.0272  max mem: 8495\n",
      "Epoch: [5]  [ 40/372]  eta: 0:03:31  lr: 0.000500  loss: 0.2301 (0.2463)  loss_classifier: 0.1653 (0.1872)  loss_box_reg: 0.0538 (0.0550)  loss_objectness: 0.0010 (0.0013)  loss_rpn_box_reg: 0.0020 (0.0027)  time: 0.6034  data: 0.0265  max mem: 8495\n",
      "Epoch: [5]  [ 50/372]  eta: 0:03:23  lr: 0.000500  loss: 0.2014 (0.2418)  loss_classifier: 0.1614 (0.1840)  loss_box_reg: 0.0452 (0.0538)  loss_objectness: 0.0006 (0.0012)  loss_rpn_box_reg: 0.0020 (0.0027)  time: 0.6028  data: 0.0260  max mem: 8495\n",
      "Epoch: [5]  [ 60/372]  eta: 0:03:15  lr: 0.000500  loss: 0.2365 (0.2461)  loss_classifier: 0.1776 (0.1866)  loss_box_reg: 0.0515 (0.0553)  loss_objectness: 0.0012 (0.0013)  loss_rpn_box_reg: 0.0027 (0.0029)  time: 0.6029  data: 0.0268  max mem: 8495\n",
      "Epoch: [5]  [ 70/372]  eta: 0:03:08  lr: 0.000500  loss: 0.2640 (0.2460)  loss_classifier: 0.1892 (0.1860)  loss_box_reg: 0.0564 (0.0555)  loss_objectness: 0.0013 (0.0013)  loss_rpn_box_reg: 0.0033 (0.0032)  time: 0.6032  data: 0.0277  max mem: 8495\n",
      "Epoch: [5]  [ 80/372]  eta: 0:03:01  lr: 0.000500  loss: 0.2382 (0.2452)  loss_classifier: 0.1772 (0.1851)  loss_box_reg: 0.0576 (0.0556)  loss_objectness: 0.0012 (0.0013)  loss_rpn_box_reg: 0.0030 (0.0031)  time: 0.6030  data: 0.0277  max mem: 8495\n",
      "Epoch: [5]  [ 90/372]  eta: 0:02:54  lr: 0.000500  loss: 0.2353 (0.2462)  loss_classifier: 0.1707 (0.1852)  loss_box_reg: 0.0586 (0.0563)  loss_objectness: 0.0013 (0.0014)  loss_rpn_box_reg: 0.0033 (0.0033)  time: 0.6030  data: 0.0273  max mem: 8495\n",
      "Epoch: [5]  [100/372]  eta: 0:02:48  lr: 0.000500  loss: 0.2320 (0.2485)  loss_classifier: 0.1844 (0.1872)  loss_box_reg: 0.0500 (0.0567)  loss_objectness: 0.0014 (0.0014)  loss_rpn_box_reg: 0.0029 (0.0032)  time: 0.6050  data: 0.0276  max mem: 8495\n",
      "Epoch: [5]  [110/372]  eta: 0:02:41  lr: 0.000500  loss: 0.2257 (0.2491)  loss_classifier: 0.1846 (0.1877)  loss_box_reg: 0.0463 (0.0568)  loss_objectness: 0.0010 (0.0014)  loss_rpn_box_reg: 0.0025 (0.0032)  time: 0.6056  data: 0.0275  max mem: 8495\n",
      "Epoch: [5]  [120/372]  eta: 0:02:35  lr: 0.000500  loss: 0.2152 (0.2482)  loss_classifier: 0.1572 (0.1871)  loss_box_reg: 0.0468 (0.0567)  loss_objectness: 0.0004 (0.0013)  loss_rpn_box_reg: 0.0030 (0.0032)  time: 0.6045  data: 0.0280  max mem: 8495\n",
      "Epoch: [5]  [130/372]  eta: 0:02:28  lr: 0.000500  loss: 0.2255 (0.2479)  loss_classifier: 0.1674 (0.1868)  loss_box_reg: 0.0473 (0.0565)  loss_objectness: 0.0005 (0.0013)  loss_rpn_box_reg: 0.0028 (0.0032)  time: 0.6052  data: 0.0280  max mem: 8495\n",
      "Epoch: [5]  [140/372]  eta: 0:02:22  lr: 0.000500  loss: 0.2472 (0.2496)  loss_classifier: 0.1963 (0.1884)  loss_box_reg: 0.0504 (0.0567)  loss_objectness: 0.0007 (0.0013)  loss_rpn_box_reg: 0.0028 (0.0032)  time: 0.6059  data: 0.0271  max mem: 8495\n",
      "Epoch: [5]  [150/372]  eta: 0:02:16  lr: 0.000500  loss: 0.2472 (0.2493)  loss_classifier: 0.1830 (0.1881)  loss_box_reg: 0.0563 (0.0568)  loss_objectness: 0.0007 (0.0013)  loss_rpn_box_reg: 0.0026 (0.0032)  time: 0.6028  data: 0.0264  max mem: 8495\n",
      "Epoch: [5]  [160/372]  eta: 0:02:09  lr: 0.000500  loss: 0.2329 (0.2495)  loss_classifier: 0.1803 (0.1884)  loss_box_reg: 0.0542 (0.0566)  loss_objectness: 0.0009 (0.0013)  loss_rpn_box_reg: 0.0024 (0.0032)  time: 0.6017  data: 0.0256  max mem: 8495\n",
      "Epoch: [5]  [170/372]  eta: 0:02:03  lr: 0.000500  loss: 0.2537 (0.2495)  loss_classifier: 0.1842 (0.1881)  loss_box_reg: 0.0604 (0.0569)  loss_objectness: 0.0009 (0.0013)  loss_rpn_box_reg: 0.0026 (0.0031)  time: 0.6014  data: 0.0256  max mem: 8495\n",
      "Epoch: [5]  [180/372]  eta: 0:01:57  lr: 0.000500  loss: 0.2410 (0.2489)  loss_classifier: 0.1842 (0.1876)  loss_box_reg: 0.0597 (0.0568)  loss_objectness: 0.0010 (0.0013)  loss_rpn_box_reg: 0.0028 (0.0032)  time: 0.6005  data: 0.0255  max mem: 8495\n",
      "Epoch: [5]  [190/372]  eta: 0:01:51  lr: 0.000500  loss: 0.2256 (0.2479)  loss_classifier: 0.1684 (0.1870)  loss_box_reg: 0.0461 (0.0564)  loss_objectness: 0.0010 (0.0013)  loss_rpn_box_reg: 0.0028 (0.0032)  time: 0.6015  data: 0.0259  max mem: 8495\n",
      "Epoch: [5]  [200/372]  eta: 0:01:44  lr: 0.000500  loss: 0.2350 (0.2496)  loss_classifier: 0.1839 (0.1884)  loss_box_reg: 0.0508 (0.0567)  loss_objectness: 0.0009 (0.0013)  loss_rpn_box_reg: 0.0031 (0.0032)  time: 0.6014  data: 0.0264  max mem: 8495\n",
      "Epoch: [5]  [210/372]  eta: 0:01:38  lr: 0.000500  loss: 0.2321 (0.2483)  loss_classifier: 0.1714 (0.1873)  loss_box_reg: 0.0520 (0.0564)  loss_objectness: 0.0007 (0.0013)  loss_rpn_box_reg: 0.0032 (0.0032)  time: 0.6026  data: 0.0272  max mem: 8495\n",
      "Epoch: [5]  [220/372]  eta: 0:01:32  lr: 0.000500  loss: 0.2239 (0.2488)  loss_classifier: 0.1676 (0.1878)  loss_box_reg: 0.0495 (0.0564)  loss_objectness: 0.0006 (0.0013)  loss_rpn_box_reg: 0.0026 (0.0033)  time: 0.6045  data: 0.0281  max mem: 8495\n",
      "Epoch: [5]  [230/372]  eta: 0:01:26  lr: 0.000500  loss: 0.2606 (0.2490)  loss_classifier: 0.1840 (0.1883)  loss_box_reg: 0.0495 (0.0563)  loss_objectness: 0.0006 (0.0013)  loss_rpn_box_reg: 0.0025 (0.0032)  time: 0.6061  data: 0.0293  max mem: 8495\n",
      "Epoch: [5]  [240/372]  eta: 0:01:20  lr: 0.000500  loss: 0.2696 (0.2500)  loss_classifier: 0.2122 (0.1891)  loss_box_reg: 0.0545 (0.0564)  loss_objectness: 0.0007 (0.0013)  loss_rpn_box_reg: 0.0027 (0.0032)  time: 0.6050  data: 0.0281  max mem: 8495\n",
      "Epoch: [5]  [250/372]  eta: 0:01:14  lr: 0.000500  loss: 0.2696 (0.2508)  loss_classifier: 0.2122 (0.1898)  loss_box_reg: 0.0550 (0.0565)  loss_objectness: 0.0008 (0.0013)  loss_rpn_box_reg: 0.0026 (0.0032)  time: 0.6034  data: 0.0268  max mem: 8495\n",
      "Epoch: [5]  [260/372]  eta: 0:01:08  lr: 0.000500  loss: 0.2417 (0.2505)  loss_classifier: 0.1789 (0.1895)  loss_box_reg: 0.0542 (0.0566)  loss_objectness: 0.0006 (0.0013)  loss_rpn_box_reg: 0.0027 (0.0032)  time: 0.6033  data: 0.0276  max mem: 8495\n",
      "Epoch: [5]  [270/372]  eta: 0:01:02  lr: 0.000500  loss: 0.2453 (0.2513)  loss_classifier: 0.1805 (0.1901)  loss_box_reg: 0.0537 (0.0567)  loss_objectness: 0.0006 (0.0013)  loss_rpn_box_reg: 0.0027 (0.0032)  time: 0.6020  data: 0.0263  max mem: 8495\n",
      "Epoch: [5]  [280/372]  eta: 0:00:55  lr: 0.000500  loss: 0.2640 (0.2513)  loss_classifier: 0.2001 (0.1901)  loss_box_reg: 0.0537 (0.0567)  loss_objectness: 0.0009 (0.0013)  loss_rpn_box_reg: 0.0027 (0.0032)  time: 0.6019  data: 0.0256  max mem: 8495\n",
      "Epoch: [5]  [290/372]  eta: 0:00:49  lr: 0.000500  loss: 0.2362 (0.2509)  loss_classifier: 0.1748 (0.1897)  loss_box_reg: 0.0563 (0.0567)  loss_objectness: 0.0014 (0.0013)  loss_rpn_box_reg: 0.0028 (0.0032)  time: 0.6028  data: 0.0267  max mem: 8495\n",
      "Epoch: [5]  [300/372]  eta: 0:00:43  lr: 0.000500  loss: 0.2362 (0.2513)  loss_classifier: 0.1748 (0.1898)  loss_box_reg: 0.0600 (0.0569)  loss_objectness: 0.0011 (0.0013)  loss_rpn_box_reg: 0.0036 (0.0032)  time: 0.6039  data: 0.0280  max mem: 8495\n",
      "Epoch: [5]  [310/372]  eta: 0:00:37  lr: 0.000500  loss: 0.2278 (0.2516)  loss_classifier: 0.1759 (0.1899)  loss_box_reg: 0.0593 (0.0572)  loss_objectness: 0.0010 (0.0013)  loss_rpn_box_reg: 0.0036 (0.0032)  time: 0.6039  data: 0.0281  max mem: 8495\n",
      "Epoch: [5]  [320/372]  eta: 0:00:31  lr: 0.000500  loss: 0.2454 (0.2518)  loss_classifier: 0.1742 (0.1899)  loss_box_reg: 0.0528 (0.0573)  loss_objectness: 0.0006 (0.0013)  loss_rpn_box_reg: 0.0031 (0.0032)  time: 0.6049  data: 0.0287  max mem: 8495\n",
      "Epoch: [5]  [330/372]  eta: 0:00:25  lr: 0.000500  loss: 0.2454 (0.2525)  loss_classifier: 0.1788 (0.1904)  loss_box_reg: 0.0571 (0.0574)  loss_objectness: 0.0006 (0.0014)  loss_rpn_box_reg: 0.0029 (0.0033)  time: 0.6040  data: 0.0282  max mem: 8495\n",
      "Epoch: [5]  [340/372]  eta: 0:00:19  lr: 0.000500  loss: 0.2450 (0.2529)  loss_classifier: 0.1887 (0.1907)  loss_box_reg: 0.0543 (0.0576)  loss_objectness: 0.0008 (0.0013)  loss_rpn_box_reg: 0.0027 (0.0033)  time: 0.6038  data: 0.0271  max mem: 8495\n",
      "Epoch: [5]  [350/372]  eta: 0:00:13  lr: 0.000500  loss: 0.2450 (0.2524)  loss_classifier: 0.1887 (0.1903)  loss_box_reg: 0.0521 (0.0574)  loss_objectness: 0.0007 (0.0013)  loss_rpn_box_reg: 0.0020 (0.0033)  time: 0.6058  data: 0.0270  max mem: 8495\n",
      "Epoch: [5]  [360/372]  eta: 0:00:07  lr: 0.000500  loss: 0.2282 (0.2519)  loss_classifier: 0.1679 (0.1899)  loss_box_reg: 0.0469 (0.0573)  loss_objectness: 0.0006 (0.0014)  loss_rpn_box_reg: 0.0023 (0.0033)  time: 0.6030  data: 0.0260  max mem: 8495\n",
      "Epoch: [5]  [370/372]  eta: 0:00:01  lr: 0.000500  loss: 0.2422 (0.2519)  loss_classifier: 0.1811 (0.1899)  loss_box_reg: 0.0537 (0.0574)  loss_objectness: 0.0004 (0.0014)  loss_rpn_box_reg: 0.0028 (0.0033)  time: 0.6000  data: 0.0253  max mem: 8495\n",
      "Epoch: [5]  [371/372]  eta: 0:00:00  lr: 0.000500  loss: 0.2422 (0.2516)  loss_classifier: 0.1811 (0.1897)  loss_box_reg: 0.0537 (0.0573)  loss_objectness: 0.0004 (0.0014)  loss_rpn_box_reg: 0.0028 (0.0033)  time: 0.5923  data: 0.0255  max mem: 8495\n",
      "Epoch: [5] Total time: 0:03:45 (0.6070 s / it)\n",
      "creating index...\n",
      "index created!\n",
      "Test:  [ 0/80]  eta: 0:01:04  model_time: 0.2704 (0.2704)  evaluator_time: 0.0260 (0.0260)  time: 0.8044  data: 0.4913  max mem: 8495\n",
      "Test:  [79/80]  eta: 0:00:00  model_time: 0.2481 (0.2478)  evaluator_time: 0.0205 (0.0249)  time: 0.3033  data: 0.0239  max mem: 8495\n",
      "Test: Total time: 0:00:25 (0.3192 s / it)\n",
      "Averaged stats: model_time: 0.2481 (0.2478)  evaluator_time: 0.0205 (0.0249)\n",
      "Accumulating evaluation results...\n",
      "DONE (t=0.83s).\n",
      "IoU metric: bbox\n",
      " Average Precision  (AP) @[ IoU=0.50:0.95 | area=   all | maxDets=100 ] = 0.136\n",
      " Average Precision  (AP) @[ IoU=0.50      | area=   all | maxDets=100 ] = 0.189\n",
      " Average Precision  (AP) @[ IoU=0.75      | area=   all | maxDets=100 ] = 0.157\n",
      " Average Precision  (AP) @[ IoU=0.50:0.95 | area= small | maxDets=100 ] = 0.125\n",
      " Average Precision  (AP) @[ IoU=0.50:0.95 | area=medium | maxDets=100 ] = 0.134\n",
      " Average Precision  (AP) @[ IoU=0.50:0.95 | area= large | maxDets=100 ] = 0.157\n",
      " Average Recall     (AR) @[ IoU=0.50:0.95 | area=   all | maxDets=  1 ] = 0.418\n",
      " Average Recall     (AR) @[ IoU=0.50:0.95 | area=   all | maxDets= 10 ] = 0.538\n",
      " Average Recall     (AR) @[ IoU=0.50:0.95 | area=   all | maxDets=100 ] = 0.538\n",
      " Average Recall     (AR) @[ IoU=0.50:0.95 | area= small | maxDets=100 ] = 0.337\n",
      " Average Recall     (AR) @[ IoU=0.50:0.95 | area=medium | maxDets=100 ] = 0.459\n",
      " Average Recall     (AR) @[ IoU=0.50:0.95 | area= large | maxDets=100 ] = 0.573\n",
      "Epoch: [6]  [  0/372]  eta: 0:11:53  lr: 0.000050  loss: 0.2277 (0.2277)  loss_classifier: 0.1653 (0.1653)  loss_box_reg: 0.0589 (0.0589)  loss_objectness: 0.0014 (0.0014)  loss_rpn_box_reg: 0.0020 (0.0020)  time: 1.9171  data: 1.3324  max mem: 8495\n",
      "Epoch: [6]  [ 10/372]  eta: 0:04:21  lr: 0.000050  loss: 0.2348 (0.2504)  loss_classifier: 0.1811 (0.1922)  loss_box_reg: 0.0512 (0.0544)  loss_objectness: 0.0010 (0.0011)  loss_rpn_box_reg: 0.0024 (0.0027)  time: 0.7227  data: 0.1452  max mem: 8495\n",
      "Epoch: [6]  [ 20/372]  eta: 0:03:54  lr: 0.000050  loss: 0.2710 (0.2596)  loss_classifier: 0.2051 (0.1968)  loss_box_reg: 0.0515 (0.0587)  loss_objectness: 0.0007 (0.0011)  loss_rpn_box_reg: 0.0024 (0.0030)  time: 0.6029  data: 0.0259  max mem: 8495\n",
      "Epoch: [6]  [ 30/372]  eta: 0:03:40  lr: 0.000050  loss: 0.2712 (0.2536)  loss_classifier: 0.1903 (0.1902)  loss_box_reg: 0.0590 (0.0587)  loss_objectness: 0.0007 (0.0016)  loss_rpn_box_reg: 0.0033 (0.0031)  time: 0.6020  data: 0.0251  max mem: 8495\n",
      "Epoch: [6]  [ 40/372]  eta: 0:03:30  lr: 0.000050  loss: 0.2479 (0.2565)  loss_classifier: 0.1880 (0.1917)  loss_box_reg: 0.0606 (0.0600)  loss_objectness: 0.0012 (0.0016)  loss_rpn_box_reg: 0.0032 (0.0032)  time: 0.6031  data: 0.0267  max mem: 8495\n",
      "Epoch: [6]  [ 50/372]  eta: 0:03:22  lr: 0.000050  loss: 0.2488 (0.2586)  loss_classifier: 0.1903 (0.1933)  loss_box_reg: 0.0640 (0.0604)  loss_objectness: 0.0012 (0.0016)  loss_rpn_box_reg: 0.0034 (0.0033)  time: 0.6055  data: 0.0287  max mem: 8495\n",
      "Epoch: [6]  [ 60/372]  eta: 0:03:15  lr: 0.000050  loss: 0.2481 (0.2558)  loss_classifier: 0.1846 (0.1919)  loss_box_reg: 0.0497 (0.0591)  loss_objectness: 0.0007 (0.0015)  loss_rpn_box_reg: 0.0026 (0.0032)  time: 0.6050  data: 0.0289  max mem: 8495\n",
      "Epoch: [6]  [ 70/372]  eta: 0:03:07  lr: 0.000050  loss: 0.2251 (0.2513)  loss_classifier: 0.1640 (0.1880)  loss_box_reg: 0.0493 (0.0586)  loss_objectness: 0.0008 (0.0014)  loss_rpn_box_reg: 0.0026 (0.0033)  time: 0.6018  data: 0.0271  max mem: 8495\n",
      "Epoch: [6]  [ 80/372]  eta: 0:03:00  lr: 0.000050  loss: 0.2251 (0.2500)  loss_classifier: 0.1639 (0.1874)  loss_box_reg: 0.0531 (0.0580)  loss_objectness: 0.0008 (0.0014)  loss_rpn_box_reg: 0.0026 (0.0032)  time: 0.6000  data: 0.0257  max mem: 8495\n",
      "Epoch: [6]  [ 90/372]  eta: 0:02:54  lr: 0.000050  loss: 0.2290 (0.2490)  loss_classifier: 0.1639 (0.1867)  loss_box_reg: 0.0531 (0.0576)  loss_objectness: 0.0009 (0.0014)  loss_rpn_box_reg: 0.0023 (0.0032)  time: 0.6009  data: 0.0257  max mem: 8495\n",
      "Epoch: [6]  [100/372]  eta: 0:02:47  lr: 0.000050  loss: 0.2479 (0.2504)  loss_classifier: 0.1908 (0.1879)  loss_box_reg: 0.0508 (0.0576)  loss_objectness: 0.0009 (0.0015)  loss_rpn_box_reg: 0.0027 (0.0034)  time: 0.6014  data: 0.0263  max mem: 8495\n",
      "Epoch: [6]  [110/372]  eta: 0:02:40  lr: 0.000050  loss: 0.2479 (0.2499)  loss_classifier: 0.1908 (0.1874)  loss_box_reg: 0.0540 (0.0574)  loss_objectness: 0.0008 (0.0015)  loss_rpn_box_reg: 0.0033 (0.0036)  time: 0.6011  data: 0.0267  max mem: 8495\n",
      "Epoch: [6]  [120/372]  eta: 0:02:34  lr: 0.000050  loss: 0.2182 (0.2477)  loss_classifier: 0.1719 (0.1858)  loss_box_reg: 0.0496 (0.0568)  loss_objectness: 0.0008 (0.0014)  loss_rpn_box_reg: 0.0032 (0.0036)  time: 0.6013  data: 0.0258  max mem: 8495\n",
      "Epoch: [6]  [130/372]  eta: 0:02:28  lr: 0.000050  loss: 0.2065 (0.2456)  loss_classifier: 0.1590 (0.1844)  loss_box_reg: 0.0410 (0.0563)  loss_objectness: 0.0008 (0.0014)  loss_rpn_box_reg: 0.0021 (0.0035)  time: 0.6017  data: 0.0262  max mem: 8495\n",
      "Epoch: [6]  [140/372]  eta: 0:02:21  lr: 0.000050  loss: 0.2229 (0.2449)  loss_classifier: 0.1660 (0.1842)  loss_box_reg: 0.0494 (0.0560)  loss_objectness: 0.0010 (0.0014)  loss_rpn_box_reg: 0.0022 (0.0034)  time: 0.6027  data: 0.0265  max mem: 8495\n",
      "Epoch: [6]  [150/372]  eta: 0:02:15  lr: 0.000050  loss: 0.2195 (0.2444)  loss_classifier: 0.1660 (0.1835)  loss_box_reg: 0.0525 (0.0561)  loss_objectness: 0.0011 (0.0014)  loss_rpn_box_reg: 0.0024 (0.0034)  time: 0.6018  data: 0.0257  max mem: 8495\n",
      "Epoch: [6]  [160/372]  eta: 0:02:09  lr: 0.000050  loss: 0.2352 (0.2446)  loss_classifier: 0.1833 (0.1839)  loss_box_reg: 0.0492 (0.0559)  loss_objectness: 0.0011 (0.0014)  loss_rpn_box_reg: 0.0027 (0.0034)  time: 0.6012  data: 0.0258  max mem: 8495\n",
      "Epoch: [6]  [170/372]  eta: 0:02:03  lr: 0.000050  loss: 0.2357 (0.2444)  loss_classifier: 0.1882 (0.1840)  loss_box_reg: 0.0475 (0.0557)  loss_objectness: 0.0006 (0.0013)  loss_rpn_box_reg: 0.0028 (0.0033)  time: 0.6009  data: 0.0257  max mem: 8495\n",
      "Epoch: [6]  [180/372]  eta: 0:01:56  lr: 0.000050  loss: 0.2280 (0.2447)  loss_classifier: 0.1715 (0.1844)  loss_box_reg: 0.0460 (0.0556)  loss_objectness: 0.0006 (0.0013)  loss_rpn_box_reg: 0.0031 (0.0034)  time: 0.6009  data: 0.0259  max mem: 8495\n",
      "Epoch: [6]  [190/372]  eta: 0:01:50  lr: 0.000050  loss: 0.2358 (0.2437)  loss_classifier: 0.1813 (0.1838)  loss_box_reg: 0.0460 (0.0551)  loss_objectness: 0.0008 (0.0013)  loss_rpn_box_reg: 0.0029 (0.0034)  time: 0.6020  data: 0.0261  max mem: 8495\n",
      "Epoch: [6]  [200/372]  eta: 0:01:44  lr: 0.000050  loss: 0.2401 (0.2443)  loss_classifier: 0.1850 (0.1842)  loss_box_reg: 0.0493 (0.0554)  loss_objectness: 0.0010 (0.0013)  loss_rpn_box_reg: 0.0026 (0.0034)  time: 0.6011  data: 0.0260  max mem: 8495\n",
      "Epoch: [6]  [210/372]  eta: 0:01:38  lr: 0.000050  loss: 0.2570 (0.2452)  loss_classifier: 0.1941 (0.1850)  loss_box_reg: 0.0615 (0.0555)  loss_objectness: 0.0011 (0.0013)  loss_rpn_box_reg: 0.0030 (0.0034)  time: 0.5997  data: 0.0258  max mem: 8495\n",
      "Epoch: [6]  [220/372]  eta: 0:01:32  lr: 0.000050  loss: 0.2266 (0.2442)  loss_classifier: 0.1759 (0.1840)  loss_box_reg: 0.0494 (0.0554)  loss_objectness: 0.0010 (0.0013)  loss_rpn_box_reg: 0.0028 (0.0034)  time: 0.6006  data: 0.0255  max mem: 8495\n",
      "Epoch: [6]  [230/372]  eta: 0:01:26  lr: 0.000050  loss: 0.2060 (0.2437)  loss_classifier: 0.1669 (0.1837)  loss_box_reg: 0.0494 (0.0553)  loss_objectness: 0.0008 (0.0013)  loss_rpn_box_reg: 0.0024 (0.0034)  time: 0.6008  data: 0.0256  max mem: 8495\n",
      "Epoch: [6]  [240/372]  eta: 0:01:20  lr: 0.000050  loss: 0.2395 (0.2443)  loss_classifier: 0.1779 (0.1841)  loss_box_reg: 0.0519 (0.0555)  loss_objectness: 0.0006 (0.0013)  loss_rpn_box_reg: 0.0022 (0.0034)  time: 0.6008  data: 0.0263  max mem: 8495\n",
      "Epoch: [6]  [250/372]  eta: 0:01:14  lr: 0.000050  loss: 0.2222 (0.2441)  loss_classifier: 0.1661 (0.1841)  loss_box_reg: 0.0506 (0.0554)  loss_objectness: 0.0005 (0.0013)  loss_rpn_box_reg: 0.0023 (0.0033)  time: 0.6023  data: 0.0263  max mem: 8495\n",
      "Epoch: [6]  [260/372]  eta: 0:01:07  lr: 0.000050  loss: 0.2285 (0.2448)  loss_classifier: 0.1737 (0.1848)  loss_box_reg: 0.0490 (0.0555)  loss_objectness: 0.0007 (0.0013)  loss_rpn_box_reg: 0.0025 (0.0033)  time: 0.6023  data: 0.0255  max mem: 8495\n",
      "Epoch: [6]  [270/372]  eta: 0:01:01  lr: 0.000050  loss: 0.2285 (0.2444)  loss_classifier: 0.1652 (0.1843)  loss_box_reg: 0.0507 (0.0554)  loss_objectness: 0.0011 (0.0013)  loss_rpn_box_reg: 0.0027 (0.0033)  time: 0.6016  data: 0.0257  max mem: 8495\n",
      "Epoch: [6]  [280/372]  eta: 0:00:55  lr: 0.000050  loss: 0.2152 (0.2450)  loss_classifier: 0.1652 (0.1850)  loss_box_reg: 0.0473 (0.0554)  loss_objectness: 0.0010 (0.0013)  loss_rpn_box_reg: 0.0027 (0.0033)  time: 0.6008  data: 0.0260  max mem: 8495\n",
      "Epoch: [6]  [290/372]  eta: 0:00:49  lr: 0.000050  loss: 0.2461 (0.2451)  loss_classifier: 0.1883 (0.1850)  loss_box_reg: 0.0478 (0.0555)  loss_objectness: 0.0010 (0.0013)  loss_rpn_box_reg: 0.0023 (0.0033)  time: 0.6017  data: 0.0263  max mem: 8495\n",
      "Epoch: [6]  [300/372]  eta: 0:00:43  lr: 0.000050  loss: 0.2357 (0.2454)  loss_classifier: 0.1751 (0.1853)  loss_box_reg: 0.0512 (0.0555)  loss_objectness: 0.0010 (0.0013)  loss_rpn_box_reg: 0.0023 (0.0033)  time: 0.6024  data: 0.0267  max mem: 8495\n",
      "Epoch: [6]  [310/372]  eta: 0:00:37  lr: 0.000050  loss: 0.2324 (0.2454)  loss_classifier: 0.1741 (0.1852)  loss_box_reg: 0.0531 (0.0556)  loss_objectness: 0.0007 (0.0013)  loss_rpn_box_reg: 0.0024 (0.0033)  time: 0.6005  data: 0.0262  max mem: 8495\n",
      "Epoch: [6]  [320/372]  eta: 0:00:31  lr: 0.000050  loss: 0.2324 (0.2446)  loss_classifier: 0.1792 (0.1847)  loss_box_reg: 0.0493 (0.0553)  loss_objectness: 0.0006 (0.0013)  loss_rpn_box_reg: 0.0024 (0.0033)  time: 0.5991  data: 0.0253  max mem: 8495\n",
      "Epoch: [6]  [330/372]  eta: 0:00:25  lr: 0.000050  loss: 0.2408 (0.2455)  loss_classifier: 0.1839 (0.1855)  loss_box_reg: 0.0493 (0.0554)  loss_objectness: 0.0010 (0.0013)  loss_rpn_box_reg: 0.0025 (0.0033)  time: 0.6008  data: 0.0257  max mem: 8495\n",
      "Epoch: [6]  [340/372]  eta: 0:00:19  lr: 0.000050  loss: 0.2415 (0.2453)  loss_classifier: 0.1839 (0.1853)  loss_box_reg: 0.0544 (0.0555)  loss_objectness: 0.0013 (0.0013)  loss_rpn_box_reg: 0.0031 (0.0033)  time: 0.6016  data: 0.0266  max mem: 8495\n",
      "Epoch: [6]  [350/372]  eta: 0:00:13  lr: 0.000050  loss: 0.2227 (0.2449)  loss_classifier: 0.1705 (0.1848)  loss_box_reg: 0.0565 (0.0555)  loss_objectness: 0.0010 (0.0013)  loss_rpn_box_reg: 0.0031 (0.0033)  time: 0.6023  data: 0.0267  max mem: 8495\n",
      "Epoch: [6]  [360/372]  eta: 0:00:07  lr: 0.000050  loss: 0.2340 (0.2453)  loss_classifier: 0.1815 (0.1852)  loss_box_reg: 0.0511 (0.0555)  loss_objectness: 0.0009 (0.0013)  loss_rpn_box_reg: 0.0029 (0.0033)  time: 0.6028  data: 0.0264  max mem: 8495\n",
      "Epoch: [6]  [370/372]  eta: 0:00:01  lr: 0.000050  loss: 0.2270 (0.2448)  loss_classifier: 0.1735 (0.1849)  loss_box_reg: 0.0497 (0.0554)  loss_objectness: 0.0009 (0.0013)  loss_rpn_box_reg: 0.0024 (0.0032)  time: 0.6017  data: 0.0267  max mem: 8495\n",
      "Epoch: [6]  [371/372]  eta: 0:00:00  lr: 0.000050  loss: 0.2278 (0.2449)  loss_classifier: 0.1735 (0.1850)  loss_box_reg: 0.0497 (0.0554)  loss_objectness: 0.0007 (0.0013)  loss_rpn_box_reg: 0.0024 (0.0032)  time: 0.5930  data: 0.0264  max mem: 8495\n",
      "Epoch: [6] Total time: 0:03:45 (0.6050 s / it)\n",
      "creating index...\n",
      "index created!\n",
      "Test:  [ 0/80]  eta: 0:01:06  model_time: 0.2757 (0.2757)  evaluator_time: 0.0260 (0.0260)  time: 0.8274  data: 0.5097  max mem: 8495\n",
      "Test:  [79/80]  eta: 0:00:00  model_time: 0.2481 (0.2481)  evaluator_time: 0.0207 (0.0250)  time: 0.3054  data: 0.0248  max mem: 8495\n",
      "Test: Total time: 0:00:25 (0.3195 s / it)\n",
      "Averaged stats: model_time: 0.2481 (0.2481)  evaluator_time: 0.0207 (0.0250)\n",
      "Accumulating evaluation results...\n",
      "DONE (t=0.85s).\n",
      "IoU metric: bbox\n",
      " Average Precision  (AP) @[ IoU=0.50:0.95 | area=   all | maxDets=100 ] = 0.133\n",
      " Average Precision  (AP) @[ IoU=0.50      | area=   all | maxDets=100 ] = 0.187\n",
      " Average Precision  (AP) @[ IoU=0.75      | area=   all | maxDets=100 ] = 0.155\n",
      " Average Precision  (AP) @[ IoU=0.50:0.95 | area= small | maxDets=100 ] = 0.133\n",
      " Average Precision  (AP) @[ IoU=0.50:0.95 | area=medium | maxDets=100 ] = 0.134\n",
      " Average Precision  (AP) @[ IoU=0.50:0.95 | area= large | maxDets=100 ] = 0.155\n",
      " Average Recall     (AR) @[ IoU=0.50:0.95 | area=   all | maxDets=  1 ] = 0.417\n",
      " Average Recall     (AR) @[ IoU=0.50:0.95 | area=   all | maxDets= 10 ] = 0.540\n",
      " Average Recall     (AR) @[ IoU=0.50:0.95 | area=   all | maxDets=100 ] = 0.540\n",
      " Average Recall     (AR) @[ IoU=0.50:0.95 | area= small | maxDets=100 ] = 0.346\n",
      " Average Recall     (AR) @[ IoU=0.50:0.95 | area=medium | maxDets=100 ] = 0.458\n",
      " Average Recall     (AR) @[ IoU=0.50:0.95 | area= large | maxDets=100 ] = 0.576\n",
      "Epoch: [7]  [  0/372]  eta: 0:11:59  lr: 0.000050  loss: 0.2884 (0.2884)  loss_classifier: 0.2301 (0.2301)  loss_box_reg: 0.0541 (0.0541)  loss_objectness: 0.0010 (0.0010)  loss_rpn_box_reg: 0.0033 (0.0033)  time: 1.9344  data: 1.3495  max mem: 8495\n",
      "Epoch: [7]  [ 10/372]  eta: 0:04:22  lr: 0.000050  loss: 0.2255 (0.2276)  loss_classifier: 0.1799 (0.1775)  loss_box_reg: 0.0498 (0.0464)  loss_objectness: 0.0010 (0.0010)  loss_rpn_box_reg: 0.0028 (0.0026)  time: 0.7247  data: 0.1471  max mem: 8495\n",
      "Epoch: [7]  [ 20/372]  eta: 0:03:54  lr: 0.000050  loss: 0.2255 (0.2273)  loss_classifier: 0.1799 (0.1729)  loss_box_reg: 0.0498 (0.0501)  loss_objectness: 0.0007 (0.0012)  loss_rpn_box_reg: 0.0030 (0.0031)  time: 0.6033  data: 0.0265  max mem: 8495\n",
      "Epoch: [7]  [ 30/372]  eta: 0:03:41  lr: 0.000050  loss: 0.2418 (0.2351)  loss_classifier: 0.1804 (0.1778)  loss_box_reg: 0.0478 (0.0528)  loss_objectness: 0.0007 (0.0013)  loss_rpn_box_reg: 0.0030 (0.0031)  time: 0.6030  data: 0.0264  max mem: 8495\n",
      "Epoch: [7]  [ 40/372]  eta: 0:03:31  lr: 0.000050  loss: 0.2340 (0.2341)  loss_classifier: 0.1774 (0.1777)  loss_box_reg: 0.0482 (0.0522)  loss_objectness: 0.0006 (0.0011)  loss_rpn_box_reg: 0.0026 (0.0031)  time: 0.6029  data: 0.0266  max mem: 8495\n",
      "Epoch: [7]  [ 50/372]  eta: 0:03:22  lr: 0.000050  loss: 0.2340 (0.2356)  loss_classifier: 0.1774 (0.1787)  loss_box_reg: 0.0499 (0.0527)  loss_objectness: 0.0008 (0.0012)  loss_rpn_box_reg: 0.0027 (0.0030)  time: 0.6016  data: 0.0258  max mem: 8495\n",
      "Epoch: [7]  [ 60/372]  eta: 0:03:14  lr: 0.000050  loss: 0.2332 (0.2381)  loss_classifier: 0.1745 (0.1809)  loss_box_reg: 0.0480 (0.0530)  loss_objectness: 0.0011 (0.0012)  loss_rpn_box_reg: 0.0031 (0.0030)  time: 0.6007  data: 0.0251  max mem: 8495\n",
      "Epoch: [7]  [ 70/372]  eta: 0:03:07  lr: 0.000050  loss: 0.2480 (0.2424)  loss_classifier: 0.1771 (0.1837)  loss_box_reg: 0.0585 (0.0541)  loss_objectness: 0.0011 (0.0015)  loss_rpn_box_reg: 0.0033 (0.0032)  time: 0.6013  data: 0.0252  max mem: 8495\n",
      "Epoch: [7]  [ 80/372]  eta: 0:03:00  lr: 0.000050  loss: 0.2472 (0.2433)  loss_classifier: 0.1898 (0.1844)  loss_box_reg: 0.0565 (0.0543)  loss_objectness: 0.0010 (0.0014)  loss_rpn_box_reg: 0.0031 (0.0031)  time: 0.6013  data: 0.0252  max mem: 8495\n",
      "Epoch: [7]  [ 90/372]  eta: 0:02:54  lr: 0.000050  loss: 0.2301 (0.2419)  loss_classifier: 0.1708 (0.1830)  loss_box_reg: 0.0498 (0.0544)  loss_objectness: 0.0006 (0.0014)  loss_rpn_box_reg: 0.0027 (0.0031)  time: 0.6031  data: 0.0272  max mem: 8495\n",
      "Epoch: [7]  [100/372]  eta: 0:02:47  lr: 0.000050  loss: 0.2301 (0.2448)  loss_classifier: 0.1748 (0.1852)  loss_box_reg: 0.0553 (0.0551)  loss_objectness: 0.0006 (0.0014)  loss_rpn_box_reg: 0.0021 (0.0031)  time: 0.6048  data: 0.0282  max mem: 8495\n",
      "Epoch: [7]  [110/372]  eta: 0:02:41  lr: 0.000050  loss: 0.2610 (0.2444)  loss_classifier: 0.1960 (0.1850)  loss_box_reg: 0.0566 (0.0550)  loss_objectness: 0.0008 (0.0014)  loss_rpn_box_reg: 0.0028 (0.0030)  time: 0.6032  data: 0.0271  max mem: 8495\n",
      "Epoch: [7]  [120/372]  eta: 0:02:34  lr: 0.000050  loss: 0.2163 (0.2438)  loss_classifier: 0.1728 (0.1845)  loss_box_reg: 0.0529 (0.0549)  loss_objectness: 0.0006 (0.0013)  loss_rpn_box_reg: 0.0027 (0.0030)  time: 0.6017  data: 0.0263  max mem: 8495\n",
      "Epoch: [7]  [130/372]  eta: 0:02:28  lr: 0.000050  loss: 0.2132 (0.2427)  loss_classifier: 0.1600 (0.1835)  loss_box_reg: 0.0475 (0.0548)  loss_objectness: 0.0006 (0.0013)  loss_rpn_box_reg: 0.0025 (0.0030)  time: 0.6031  data: 0.0268  max mem: 8495\n",
      "Epoch: [7]  [140/372]  eta: 0:02:21  lr: 0.000050  loss: 0.2226 (0.2432)  loss_classifier: 0.1580 (0.1841)  loss_box_reg: 0.0497 (0.0548)  loss_objectness: 0.0009 (0.0013)  loss_rpn_box_reg: 0.0025 (0.0030)  time: 0.6035  data: 0.0269  max mem: 8495\n",
      "Epoch: [7]  [150/372]  eta: 0:02:15  lr: 0.000050  loss: 0.2545 (0.2448)  loss_classifier: 0.1973 (0.1852)  loss_box_reg: 0.0536 (0.0552)  loss_objectness: 0.0010 (0.0013)  loss_rpn_box_reg: 0.0030 (0.0031)  time: 0.6028  data: 0.0266  max mem: 8495\n",
      "Epoch: [7]  [160/372]  eta: 0:02:09  lr: 0.000050  loss: 0.2602 (0.2443)  loss_classifier: 0.2057 (0.1853)  loss_box_reg: 0.0502 (0.0547)  loss_objectness: 0.0006 (0.0013)  loss_rpn_box_reg: 0.0027 (0.0031)  time: 0.6055  data: 0.0274  max mem: 8495\n",
      "Epoch: [7]  [170/372]  eta: 0:02:03  lr: 0.000050  loss: 0.2346 (0.2441)  loss_classifier: 0.1881 (0.1853)  loss_box_reg: 0.0467 (0.0545)  loss_objectness: 0.0004 (0.0013)  loss_rpn_box_reg: 0.0027 (0.0031)  time: 0.6068  data: 0.0282  max mem: 8495\n",
      "Epoch: [7]  [180/372]  eta: 0:01:57  lr: 0.000050  loss: 0.2499 (0.2452)  loss_classifier: 0.1931 (0.1862)  loss_box_reg: 0.0536 (0.0546)  loss_objectness: 0.0005 (0.0013)  loss_rpn_box_reg: 0.0031 (0.0031)  time: 0.6042  data: 0.0278  max mem: 8495\n",
      "Epoch: [7]  [190/372]  eta: 0:01:51  lr: 0.000050  loss: 0.2591 (0.2455)  loss_classifier: 0.1945 (0.1863)  loss_box_reg: 0.0545 (0.0548)  loss_objectness: 0.0006 (0.0012)  loss_rpn_box_reg: 0.0021 (0.0031)  time: 0.6026  data: 0.0263  max mem: 8495\n",
      "Epoch: [7]  [200/372]  eta: 0:01:44  lr: 0.000050  loss: 0.2344 (0.2452)  loss_classifier: 0.1813 (0.1861)  loss_box_reg: 0.0569 (0.0548)  loss_objectness: 0.0007 (0.0012)  loss_rpn_box_reg: 0.0021 (0.0031)  time: 0.6041  data: 0.0263  max mem: 8495\n",
      "Epoch: [7]  [210/372]  eta: 0:01:38  lr: 0.000050  loss: 0.2474 (0.2448)  loss_classifier: 0.1813 (0.1856)  loss_box_reg: 0.0557 (0.0548)  loss_objectness: 0.0011 (0.0012)  loss_rpn_box_reg: 0.0028 (0.0031)  time: 0.6048  data: 0.0266  max mem: 8495\n",
      "Epoch: [7]  [220/372]  eta: 0:01:32  lr: 0.000050  loss: 0.2164 (0.2438)  loss_classifier: 0.1636 (0.1848)  loss_box_reg: 0.0499 (0.0546)  loss_objectness: 0.0006 (0.0012)  loss_rpn_box_reg: 0.0029 (0.0031)  time: 0.6030  data: 0.0264  max mem: 8495\n",
      "Epoch: [7]  [230/372]  eta: 0:01:26  lr: 0.000050  loss: 0.2209 (0.2442)  loss_classifier: 0.1636 (0.1849)  loss_box_reg: 0.0499 (0.0548)  loss_objectness: 0.0006 (0.0013)  loss_rpn_box_reg: 0.0030 (0.0032)  time: 0.6015  data: 0.0266  max mem: 8495\n",
      "Epoch: [7]  [240/372]  eta: 0:01:20  lr: 0.000050  loss: 0.2293 (0.2433)  loss_classifier: 0.1790 (0.1844)  loss_box_reg: 0.0500 (0.0545)  loss_objectness: 0.0007 (0.0012)  loss_rpn_box_reg: 0.0022 (0.0032)  time: 0.6040  data: 0.0284  max mem: 8495\n",
      "Epoch: [7]  [250/372]  eta: 0:01:14  lr: 0.000050  loss: 0.2342 (0.2435)  loss_classifier: 0.1868 (0.1845)  loss_box_reg: 0.0492 (0.0545)  loss_objectness: 0.0006 (0.0012)  loss_rpn_box_reg: 0.0024 (0.0032)  time: 0.6057  data: 0.0289  max mem: 8495\n",
      "Epoch: [7]  [260/372]  eta: 0:01:08  lr: 0.000050  loss: 0.2178 (0.2430)  loss_classifier: 0.1670 (0.1843)  loss_box_reg: 0.0477 (0.0543)  loss_objectness: 0.0006 (0.0012)  loss_rpn_box_reg: 0.0026 (0.0031)  time: 0.6042  data: 0.0273  max mem: 8495\n",
      "Epoch: [7]  [270/372]  eta: 0:01:02  lr: 0.000050  loss: 0.2400 (0.2435)  loss_classifier: 0.1717 (0.1845)  loss_box_reg: 0.0494 (0.0546)  loss_objectness: 0.0008 (0.0012)  loss_rpn_box_reg: 0.0028 (0.0032)  time: 0.6029  data: 0.0268  max mem: 8495\n",
      "Epoch: [7]  [280/372]  eta: 0:00:55  lr: 0.000050  loss: 0.2586 (0.2437)  loss_classifier: 0.1951 (0.1845)  loss_box_reg: 0.0540 (0.0548)  loss_objectness: 0.0012 (0.0012)  loss_rpn_box_reg: 0.0035 (0.0032)  time: 0.6012  data: 0.0261  max mem: 8495\n",
      "Epoch: [7]  [290/372]  eta: 0:00:49  lr: 0.000050  loss: 0.2496 (0.2428)  loss_classifier: 0.1909 (0.1838)  loss_box_reg: 0.0536 (0.0546)  loss_objectness: 0.0012 (0.0012)  loss_rpn_box_reg: 0.0030 (0.0032)  time: 0.6015  data: 0.0266  max mem: 8495\n",
      "Epoch: [7]  [300/372]  eta: 0:00:43  lr: 0.000050  loss: 0.2471 (0.2439)  loss_classifier: 0.1941 (0.1845)  loss_box_reg: 0.0502 (0.0550)  loss_objectness: 0.0007 (0.0012)  loss_rpn_box_reg: 0.0030 (0.0032)  time: 0.6034  data: 0.0276  max mem: 8495\n",
      "Epoch: [7]  [310/372]  eta: 0:00:37  lr: 0.000050  loss: 0.2775 (0.2447)  loss_classifier: 0.2009 (0.1850)  loss_box_reg: 0.0619 (0.0553)  loss_objectness: 0.0007 (0.0012)  loss_rpn_box_reg: 0.0030 (0.0032)  time: 0.6053  data: 0.0273  max mem: 8495\n",
      "Epoch: [7]  [320/372]  eta: 0:00:31  lr: 0.000050  loss: 0.2545 (0.2450)  loss_classifier: 0.1945 (0.1853)  loss_box_reg: 0.0561 (0.0553)  loss_objectness: 0.0007 (0.0012)  loss_rpn_box_reg: 0.0030 (0.0033)  time: 0.6049  data: 0.0267  max mem: 8495\n",
      "Epoch: [7]  [330/372]  eta: 0:00:25  lr: 0.000050  loss: 0.2244 (0.2442)  loss_classifier: 0.1707 (0.1846)  loss_box_reg: 0.0473 (0.0551)  loss_objectness: 0.0004 (0.0012)  loss_rpn_box_reg: 0.0023 (0.0033)  time: 0.6037  data: 0.0273  max mem: 8495\n",
      "Epoch: [7]  [340/372]  eta: 0:00:19  lr: 0.000050  loss: 0.2245 (0.2442)  loss_classifier: 0.1792 (0.1848)  loss_box_reg: 0.0441 (0.0550)  loss_objectness: 0.0003 (0.0012)  loss_rpn_box_reg: 0.0023 (0.0032)  time: 0.6020  data: 0.0269  max mem: 8495\n",
      "Epoch: [7]  [350/372]  eta: 0:00:13  lr: 0.000050  loss: 0.2316 (0.2434)  loss_classifier: 0.1609 (0.1840)  loss_box_reg: 0.0495 (0.0550)  loss_objectness: 0.0006 (0.0012)  loss_rpn_box_reg: 0.0020 (0.0032)  time: 0.6010  data: 0.0254  max mem: 8495\n",
      "Epoch: [7]  [360/372]  eta: 0:00:07  lr: 0.000050  loss: 0.2104 (0.2427)  loss_classifier: 0.1603 (0.1835)  loss_box_reg: 0.0489 (0.0549)  loss_objectness: 0.0006 (0.0012)  loss_rpn_box_reg: 0.0022 (0.0032)  time: 0.6020  data: 0.0255  max mem: 8495\n",
      "Epoch: [7]  [370/372]  eta: 0:00:01  lr: 0.000050  loss: 0.2373 (0.2433)  loss_classifier: 0.1809 (0.1839)  loss_box_reg: 0.0493 (0.0550)  loss_objectness: 0.0010 (0.0012)  loss_rpn_box_reg: 0.0026 (0.0032)  time: 0.6004  data: 0.0254  max mem: 8495\n",
      "Epoch: [7]  [371/372]  eta: 0:00:00  lr: 0.000050  loss: 0.2373 (0.2432)  loss_classifier: 0.1809 (0.1838)  loss_box_reg: 0.0493 (0.0549)  loss_objectness: 0.0010 (0.0012)  loss_rpn_box_reg: 0.0026 (0.0032)  time: 0.5918  data: 0.0250  max mem: 8495\n",
      "Epoch: [7] Total time: 0:03:45 (0.6064 s / it)\n",
      "creating index...\n",
      "index created!\n",
      "Test:  [ 0/80]  eta: 0:01:06  model_time: 0.2828 (0.2828)  evaluator_time: 0.0251 (0.0251)  time: 0.8257  data: 0.4988  max mem: 8495\n",
      "Test:  [79/80]  eta: 0:00:00  model_time: 0.2489 (0.2487)  evaluator_time: 0.0210 (0.0253)  time: 0.3055  data: 0.0245  max mem: 8495\n",
      "Test: Total time: 0:00:25 (0.3209 s / it)\n",
      "Averaged stats: model_time: 0.2489 (0.2487)  evaluator_time: 0.0210 (0.0253)\n",
      "Accumulating evaluation results...\n",
      "DONE (t=0.85s).\n",
      "IoU metric: bbox\n",
      " Average Precision  (AP) @[ IoU=0.50:0.95 | area=   all | maxDets=100 ] = 0.134\n",
      " Average Precision  (AP) @[ IoU=0.50      | area=   all | maxDets=100 ] = 0.189\n",
      " Average Precision  (AP) @[ IoU=0.75      | area=   all | maxDets=100 ] = 0.159\n",
      " Average Precision  (AP) @[ IoU=0.50:0.95 | area= small | maxDets=100 ] = 0.134\n",
      " Average Precision  (AP) @[ IoU=0.50:0.95 | area=medium | maxDets=100 ] = 0.132\n",
      " Average Precision  (AP) @[ IoU=0.50:0.95 | area= large | maxDets=100 ] = 0.157\n",
      " Average Recall     (AR) @[ IoU=0.50:0.95 | area=   all | maxDets=  1 ] = 0.420\n",
      " Average Recall     (AR) @[ IoU=0.50:0.95 | area=   all | maxDets= 10 ] = 0.544\n",
      " Average Recall     (AR) @[ IoU=0.50:0.95 | area=   all | maxDets=100 ] = 0.544\n",
      " Average Recall     (AR) @[ IoU=0.50:0.95 | area= small | maxDets=100 ] = 0.351\n",
      " Average Recall     (AR) @[ IoU=0.50:0.95 | area=medium | maxDets=100 ] = 0.462\n",
      " Average Recall     (AR) @[ IoU=0.50:0.95 | area= large | maxDets=100 ] = 0.581\n",
      "Epoch: [8]  [  0/372]  eta: 0:13:03  lr: 0.000050  loss: 0.1982 (0.1982)  loss_classifier: 0.1550 (0.1550)  loss_box_reg: 0.0407 (0.0407)  loss_objectness: 0.0007 (0.0007)  loss_rpn_box_reg: 0.0018 (0.0018)  time: 2.1058  data: 1.5183  max mem: 8495\n",
      "Epoch: [8]  [ 10/372]  eta: 0:04:27  lr: 0.000050  loss: 0.2411 (0.2436)  loss_classifier: 0.1819 (0.1886)  loss_box_reg: 0.0459 (0.0516)  loss_objectness: 0.0006 (0.0007)  loss_rpn_box_reg: 0.0022 (0.0027)  time: 0.7401  data: 0.1609  max mem: 8495\n",
      "Epoch: [8]  [ 20/372]  eta: 0:03:57  lr: 0.000050  loss: 0.2438 (0.2515)  loss_classifier: 0.1819 (0.1918)  loss_box_reg: 0.0565 (0.0560)  loss_objectness: 0.0005 (0.0008)  loss_rpn_box_reg: 0.0027 (0.0030)  time: 0.6034  data: 0.0273  max mem: 8495\n",
      "Epoch: [8]  [ 30/372]  eta: 0:03:42  lr: 0.000050  loss: 0.2438 (0.2527)  loss_classifier: 0.1816 (0.1906)  loss_box_reg: 0.0590 (0.0581)  loss_objectness: 0.0006 (0.0009)  loss_rpn_box_reg: 0.0029 (0.0031)  time: 0.6024  data: 0.0275  max mem: 8495\n",
      "Epoch: [8]  [ 40/372]  eta: 0:03:32  lr: 0.000050  loss: 0.2413 (0.2465)  loss_classifier: 0.1771 (0.1865)  loss_box_reg: 0.0492 (0.0561)  loss_objectness: 0.0006 (0.0009)  loss_rpn_box_reg: 0.0025 (0.0030)  time: 0.6014  data: 0.0255  max mem: 8495\n",
      "Epoch: [8]  [ 50/372]  eta: 0:03:23  lr: 0.000050  loss: 0.2413 (0.2496)  loss_classifier: 0.1983 (0.1901)  loss_box_reg: 0.0498 (0.0558)  loss_objectness: 0.0006 (0.0009)  loss_rpn_box_reg: 0.0022 (0.0029)  time: 0.6023  data: 0.0264  max mem: 8495\n",
      "Epoch: [8]  [ 60/372]  eta: 0:03:15  lr: 0.000050  loss: 0.2534 (0.2491)  loss_classifier: 0.1929 (0.1891)  loss_box_reg: 0.0525 (0.0563)  loss_objectness: 0.0006 (0.0009)  loss_rpn_box_reg: 0.0021 (0.0028)  time: 0.6025  data: 0.0265  max mem: 8495\n",
      "Epoch: [8]  [ 70/372]  eta: 0:03:08  lr: 0.000050  loss: 0.2254 (0.2451)  loss_classifier: 0.1742 (0.1865)  loss_box_reg: 0.0507 (0.0550)  loss_objectness: 0.0005 (0.0008)  loss_rpn_box_reg: 0.0023 (0.0028)  time: 0.6017  data: 0.0260  max mem: 8495\n",
      "Epoch: [8]  [ 80/372]  eta: 0:03:01  lr: 0.000050  loss: 0.2211 (0.2456)  loss_classifier: 0.1742 (0.1869)  loss_box_reg: 0.0462 (0.0551)  loss_objectness: 0.0006 (0.0008)  loss_rpn_box_reg: 0.0025 (0.0028)  time: 0.6008  data: 0.0258  max mem: 8495\n",
      "Epoch: [8]  [ 90/372]  eta: 0:02:54  lr: 0.000050  loss: 0.2211 (0.2452)  loss_classifier: 0.1732 (0.1862)  loss_box_reg: 0.0580 (0.0550)  loss_objectness: 0.0009 (0.0009)  loss_rpn_box_reg: 0.0027 (0.0030)  time: 0.6004  data: 0.0256  max mem: 8495\n",
      "Epoch: [8]  [100/372]  eta: 0:02:47  lr: 0.000050  loss: 0.2186 (0.2433)  loss_classifier: 0.1691 (0.1841)  loss_box_reg: 0.0529 (0.0551)  loss_objectness: 0.0014 (0.0011)  loss_rpn_box_reg: 0.0027 (0.0032)  time: 0.6010  data: 0.0256  max mem: 8495\n",
      "Epoch: [8]  [110/372]  eta: 0:02:41  lr: 0.000050  loss: 0.2307 (0.2438)  loss_classifier: 0.1646 (0.1844)  loss_box_reg: 0.0531 (0.0551)  loss_objectness: 0.0013 (0.0012)  loss_rpn_box_reg: 0.0020 (0.0031)  time: 0.6012  data: 0.0255  max mem: 8495\n",
      "Epoch: [8]  [120/372]  eta: 0:02:34  lr: 0.000050  loss: 0.2307 (0.2420)  loss_classifier: 0.1646 (0.1830)  loss_box_reg: 0.0536 (0.0548)  loss_objectness: 0.0007 (0.0011)  loss_rpn_box_reg: 0.0024 (0.0031)  time: 0.6016  data: 0.0260  max mem: 8495\n",
      "Epoch: [8]  [130/372]  eta: 0:02:28  lr: 0.000050  loss: 0.2261 (0.2425)  loss_classifier: 0.1674 (0.1830)  loss_box_reg: 0.0536 (0.0552)  loss_objectness: 0.0007 (0.0012)  loss_rpn_box_reg: 0.0024 (0.0031)  time: 0.6016  data: 0.0261  max mem: 8495\n",
      "Epoch: [8]  [140/372]  eta: 0:02:22  lr: 0.000050  loss: 0.2325 (0.2422)  loss_classifier: 0.1751 (0.1825)  loss_box_reg: 0.0569 (0.0553)  loss_objectness: 0.0008 (0.0012)  loss_rpn_box_reg: 0.0021 (0.0032)  time: 0.6004  data: 0.0255  max mem: 8495\n",
      "Epoch: [8]  [150/372]  eta: 0:02:15  lr: 0.000050  loss: 0.2587 (0.2441)  loss_classifier: 0.1871 (0.1841)  loss_box_reg: 0.0521 (0.0557)  loss_objectness: 0.0007 (0.0012)  loss_rpn_box_reg: 0.0020 (0.0032)  time: 0.6018  data: 0.0261  max mem: 8495\n",
      "Epoch: [8]  [160/372]  eta: 0:02:09  lr: 0.000050  loss: 0.2634 (0.2441)  loss_classifier: 0.2098 (0.1838)  loss_box_reg: 0.0521 (0.0559)  loss_objectness: 0.0006 (0.0012)  loss_rpn_box_reg: 0.0027 (0.0032)  time: 0.6034  data: 0.0278  max mem: 8495\n",
      "Epoch: [8]  [170/372]  eta: 0:02:03  lr: 0.000050  loss: 0.2664 (0.2444)  loss_classifier: 0.2057 (0.1843)  loss_box_reg: 0.0549 (0.0557)  loss_objectness: 0.0010 (0.0012)  loss_rpn_box_reg: 0.0025 (0.0032)  time: 0.6024  data: 0.0272  max mem: 8495\n",
      "Epoch: [8]  [180/372]  eta: 0:01:57  lr: 0.000050  loss: 0.2392 (0.2424)  loss_classifier: 0.1775 (0.1829)  loss_box_reg: 0.0517 (0.0552)  loss_objectness: 0.0007 (0.0012)  loss_rpn_box_reg: 0.0021 (0.0031)  time: 0.6045  data: 0.0266  max mem: 8495\n",
      "Epoch: [8]  [190/372]  eta: 0:01:50  lr: 0.000050  loss: 0.2335 (0.2430)  loss_classifier: 0.1716 (0.1835)  loss_box_reg: 0.0508 (0.0552)  loss_objectness: 0.0006 (0.0012)  loss_rpn_box_reg: 0.0021 (0.0031)  time: 0.6031  data: 0.0264  max mem: 8495\n",
      "Epoch: [8]  [200/372]  eta: 0:01:44  lr: 0.000050  loss: 0.2447 (0.2428)  loss_classifier: 0.1784 (0.1837)  loss_box_reg: 0.0510 (0.0548)  loss_objectness: 0.0005 (0.0012)  loss_rpn_box_reg: 0.0022 (0.0031)  time: 0.5998  data: 0.0256  max mem: 8495\n",
      "Epoch: [8]  [210/372]  eta: 0:01:38  lr: 0.000050  loss: 0.2558 (0.2436)  loss_classifier: 0.1966 (0.1845)  loss_box_reg: 0.0510 (0.0548)  loss_objectness: 0.0008 (0.0012)  loss_rpn_box_reg: 0.0021 (0.0030)  time: 0.6012  data: 0.0260  max mem: 8495\n",
      "Epoch: [8]  [220/372]  eta: 0:01:32  lr: 0.000050  loss: 0.2481 (0.2438)  loss_classifier: 0.1933 (0.1846)  loss_box_reg: 0.0522 (0.0549)  loss_objectness: 0.0010 (0.0012)  loss_rpn_box_reg: 0.0023 (0.0030)  time: 0.6011  data: 0.0258  max mem: 8495\n",
      "Epoch: [8]  [230/372]  eta: 0:01:26  lr: 0.000050  loss: 0.2402 (0.2441)  loss_classifier: 0.1780 (0.1847)  loss_box_reg: 0.0527 (0.0551)  loss_objectness: 0.0009 (0.0012)  loss_rpn_box_reg: 0.0036 (0.0031)  time: 0.6001  data: 0.0255  max mem: 8495\n",
      "Epoch: [8]  [240/372]  eta: 0:01:20  lr: 0.000050  loss: 0.2035 (0.2435)  loss_classifier: 0.1611 (0.1842)  loss_box_reg: 0.0509 (0.0550)  loss_objectness: 0.0007 (0.0012)  loss_rpn_box_reg: 0.0038 (0.0031)  time: 0.6000  data: 0.0255  max mem: 8495\n",
      "Epoch: [8]  [250/372]  eta: 0:01:14  lr: 0.000050  loss: 0.2278 (0.2427)  loss_classifier: 0.1615 (0.1835)  loss_box_reg: 0.0460 (0.0548)  loss_objectness: 0.0006 (0.0012)  loss_rpn_box_reg: 0.0036 (0.0032)  time: 0.6007  data: 0.0257  max mem: 8495\n",
      "Epoch: [8]  [260/372]  eta: 0:01:08  lr: 0.000050  loss: 0.2315 (0.2432)  loss_classifier: 0.1753 (0.1839)  loss_box_reg: 0.0514 (0.0549)  loss_objectness: 0.0011 (0.0012)  loss_rpn_box_reg: 0.0035 (0.0032)  time: 0.6010  data: 0.0256  max mem: 8495\n",
      "Epoch: [8]  [270/372]  eta: 0:01:01  lr: 0.000050  loss: 0.2574 (0.2434)  loss_classifier: 0.1985 (0.1843)  loss_box_reg: 0.0514 (0.0547)  loss_objectness: 0.0009 (0.0012)  loss_rpn_box_reg: 0.0023 (0.0032)  time: 0.6012  data: 0.0254  max mem: 8495\n",
      "Epoch: [8]  [280/372]  eta: 0:00:55  lr: 0.000050  loss: 0.2509 (0.2435)  loss_classifier: 0.1930 (0.1842)  loss_box_reg: 0.0542 (0.0549)  loss_objectness: 0.0007 (0.0012)  loss_rpn_box_reg: 0.0023 (0.0032)  time: 0.6023  data: 0.0264  max mem: 8495\n",
      "Epoch: [8]  [290/372]  eta: 0:00:49  lr: 0.000050  loss: 0.2509 (0.2439)  loss_classifier: 0.1945 (0.1846)  loss_box_reg: 0.0556 (0.0549)  loss_objectness: 0.0007 (0.0012)  loss_rpn_box_reg: 0.0023 (0.0032)  time: 0.6012  data: 0.0259  max mem: 8495\n",
      "Epoch: [8]  [300/372]  eta: 0:00:43  lr: 0.000050  loss: 0.2124 (0.2424)  loss_classifier: 0.1604 (0.1835)  loss_box_reg: 0.0471 (0.0545)  loss_objectness: 0.0006 (0.0012)  loss_rpn_box_reg: 0.0027 (0.0032)  time: 0.6012  data: 0.0256  max mem: 8495\n",
      "Epoch: [8]  [310/372]  eta: 0:00:37  lr: 0.000050  loss: 0.2090 (0.2417)  loss_classifier: 0.1584 (0.1828)  loss_box_reg: 0.0483 (0.0545)  loss_objectness: 0.0006 (0.0012)  loss_rpn_box_reg: 0.0028 (0.0032)  time: 0.6015  data: 0.0261  max mem: 8495\n",
      "Epoch: [8]  [320/372]  eta: 0:00:31  lr: 0.000050  loss: 0.2333 (0.2422)  loss_classifier: 0.1772 (0.1831)  loss_box_reg: 0.0516 (0.0547)  loss_objectness: 0.0006 (0.0012)  loss_rpn_box_reg: 0.0026 (0.0032)  time: 0.6008  data: 0.0258  max mem: 8495\n",
      "Epoch: [8]  [330/372]  eta: 0:00:25  lr: 0.000050  loss: 0.2440 (0.2417)  loss_classifier: 0.1848 (0.1827)  loss_box_reg: 0.0526 (0.0546)  loss_objectness: 0.0008 (0.0012)  loss_rpn_box_reg: 0.0020 (0.0032)  time: 0.6002  data: 0.0255  max mem: 8495\n",
      "Epoch: [8]  [340/372]  eta: 0:00:19  lr: 0.000050  loss: 0.2118 (0.2416)  loss_classifier: 0.1561 (0.1827)  loss_box_reg: 0.0526 (0.0545)  loss_objectness: 0.0008 (0.0012)  loss_rpn_box_reg: 0.0023 (0.0032)  time: 0.5998  data: 0.0253  max mem: 8495\n",
      "Epoch: [8]  [350/372]  eta: 0:00:13  lr: 0.000050  loss: 0.2407 (0.2419)  loss_classifier: 0.1876 (0.1830)  loss_box_reg: 0.0526 (0.0546)  loss_objectness: 0.0006 (0.0012)  loss_rpn_box_reg: 0.0025 (0.0032)  time: 0.6014  data: 0.0258  max mem: 8495\n",
      "Epoch: [8]  [360/372]  eta: 0:00:07  lr: 0.000050  loss: 0.2394 (0.2423)  loss_classifier: 0.1826 (0.1830)  loss_box_reg: 0.0564 (0.0548)  loss_objectness: 0.0007 (0.0012)  loss_rpn_box_reg: 0.0037 (0.0032)  time: 0.6027  data: 0.0264  max mem: 8495\n",
      "Epoch: [8]  [370/372]  eta: 0:00:01  lr: 0.000050  loss: 0.2283 (0.2424)  loss_classifier: 0.1714 (0.1831)  loss_box_reg: 0.0536 (0.0549)  loss_objectness: 0.0008 (0.0012)  loss_rpn_box_reg: 0.0029 (0.0032)  time: 0.6012  data: 0.0261  max mem: 8495\n",
      "Epoch: [8]  [371/372]  eta: 0:00:00  lr: 0.000050  loss: 0.2283 (0.2422)  loss_classifier: 0.1714 (0.1830)  loss_box_reg: 0.0536 (0.0548)  loss_objectness: 0.0010 (0.0012)  loss_rpn_box_reg: 0.0029 (0.0032)  time: 0.5930  data: 0.0259  max mem: 8495\n",
      "Epoch: [8] Total time: 0:03:45 (0.6053 s / it)\n",
      "creating index...\n",
      "index created!\n",
      "Test:  [ 0/80]  eta: 0:01:01  model_time: 0.2826 (0.2826)  evaluator_time: 0.0265 (0.0265)  time: 0.7673  data: 0.4421  max mem: 8495\n",
      "Test:  [79/80]  eta: 0:00:00  model_time: 0.2480 (0.2485)  evaluator_time: 0.0207 (0.0251)  time: 0.3046  data: 0.0244  max mem: 8495\n",
      "Test: Total time: 0:00:25 (0.3192 s / it)\n",
      "Averaged stats: model_time: 0.2480 (0.2485)  evaluator_time: 0.0207 (0.0251)\n",
      "Accumulating evaluation results...\n",
      "DONE (t=0.86s).\n",
      "IoU metric: bbox\n",
      " Average Precision  (AP) @[ IoU=0.50:0.95 | area=   all | maxDets=100 ] = 0.136\n",
      " Average Precision  (AP) @[ IoU=0.50      | area=   all | maxDets=100 ] = 0.190\n",
      " Average Precision  (AP) @[ IoU=0.75      | area=   all | maxDets=100 ] = 0.160\n",
      " Average Precision  (AP) @[ IoU=0.50:0.95 | area= small | maxDets=100 ] = 0.138\n",
      " Average Precision  (AP) @[ IoU=0.50:0.95 | area=medium | maxDets=100 ] = 0.131\n",
      " Average Precision  (AP) @[ IoU=0.50:0.95 | area= large | maxDets=100 ] = 0.160\n",
      " Average Recall     (AR) @[ IoU=0.50:0.95 | area=   all | maxDets=  1 ] = 0.424\n",
      " Average Recall     (AR) @[ IoU=0.50:0.95 | area=   all | maxDets= 10 ] = 0.548\n",
      " Average Recall     (AR) @[ IoU=0.50:0.95 | area=   all | maxDets=100 ] = 0.548\n",
      " Average Recall     (AR) @[ IoU=0.50:0.95 | area= small | maxDets=100 ] = 0.361\n",
      " Average Recall     (AR) @[ IoU=0.50:0.95 | area=medium | maxDets=100 ] = 0.459\n",
      " Average Recall     (AR) @[ IoU=0.50:0.95 | area= large | maxDets=100 ] = 0.586\n",
      "Epoch: [9]  [  0/372]  eta: 0:12:38  lr: 0.000005  loss: 0.2201 (0.2201)  loss_classifier: 0.1691 (0.1691)  loss_box_reg: 0.0427 (0.0427)  loss_objectness: 0.0026 (0.0026)  loss_rpn_box_reg: 0.0057 (0.0057)  time: 2.0400  data: 1.4500  max mem: 8495\n",
      "Epoch: [9]  [ 10/372]  eta: 0:04:23  lr: 0.000005  loss: 0.2410 (0.2483)  loss_classifier: 0.1854 (0.1898)  loss_box_reg: 0.0526 (0.0542)  loss_objectness: 0.0009 (0.0011)  loss_rpn_box_reg: 0.0021 (0.0030)  time: 0.7292  data: 0.1509  max mem: 8495\n",
      "Epoch: [9]  [ 20/372]  eta: 0:03:55  lr: 0.000005  loss: 0.2396 (0.2413)  loss_classifier: 0.1714 (0.1817)  loss_box_reg: 0.0526 (0.0549)  loss_objectness: 0.0011 (0.0014)  loss_rpn_box_reg: 0.0022 (0.0032)  time: 0.6007  data: 0.0241  max mem: 8495\n",
      "Epoch: [9]  [ 30/372]  eta: 0:03:41  lr: 0.000005  loss: 0.2150 (0.2427)  loss_classifier: 0.1612 (0.1847)  loss_box_reg: 0.0508 (0.0535)  loss_objectness: 0.0012 (0.0013)  loss_rpn_box_reg: 0.0029 (0.0031)  time: 0.6025  data: 0.0271  max mem: 8495\n",
      "Epoch: [9]  [ 40/372]  eta: 0:03:31  lr: 0.000005  loss: 0.2059 (0.2401)  loss_classifier: 0.1578 (0.1828)  loss_box_reg: 0.0452 (0.0529)  loss_objectness: 0.0009 (0.0014)  loss_rpn_box_reg: 0.0028 (0.0031)  time: 0.6031  data: 0.0273  max mem: 8495\n",
      "Epoch: [9]  [ 50/372]  eta: 0:03:22  lr: 0.000005  loss: 0.2535 (0.2465)  loss_classifier: 0.1832 (0.1874)  loss_box_reg: 0.0540 (0.0548)  loss_objectness: 0.0008 (0.0013)  loss_rpn_box_reg: 0.0023 (0.0030)  time: 0.6025  data: 0.0265  max mem: 8495\n",
      "Epoch: [9]  [ 60/372]  eta: 0:03:15  lr: 0.000005  loss: 0.2657 (0.2483)  loss_classifier: 0.1995 (0.1882)  loss_box_reg: 0.0592 (0.0555)  loss_objectness: 0.0006 (0.0013)  loss_rpn_box_reg: 0.0028 (0.0033)  time: 0.6010  data: 0.0258  max mem: 8495\n",
      "Epoch: [9]  [ 70/372]  eta: 0:03:07  lr: 0.000005  loss: 0.2277 (0.2421)  loss_classifier: 0.1734 (0.1828)  loss_box_reg: 0.0521 (0.0544)  loss_objectness: 0.0008 (0.0014)  loss_rpn_box_reg: 0.0030 (0.0035)  time: 0.6013  data: 0.0257  max mem: 8495\n",
      "Epoch: [9]  [ 80/372]  eta: 0:03:00  lr: 0.000005  loss: 0.2060 (0.2401)  loss_classifier: 0.1408 (0.1815)  loss_box_reg: 0.0485 (0.0537)  loss_objectness: 0.0007 (0.0013)  loss_rpn_box_reg: 0.0030 (0.0035)  time: 0.6015  data: 0.0253  max mem: 8495\n",
      "Epoch: [9]  [ 90/372]  eta: 0:02:54  lr: 0.000005  loss: 0.2342 (0.2411)  loss_classifier: 0.1823 (0.1822)  loss_box_reg: 0.0522 (0.0541)  loss_objectness: 0.0007 (0.0013)  loss_rpn_box_reg: 0.0028 (0.0035)  time: 0.6016  data: 0.0254  max mem: 8495\n",
      "Epoch: [9]  [100/372]  eta: 0:02:47  lr: 0.000005  loss: 0.2524 (0.2446)  loss_classifier: 0.1842 (0.1848)  loss_box_reg: 0.0572 (0.0550)  loss_objectness: 0.0009 (0.0013)  loss_rpn_box_reg: 0.0028 (0.0034)  time: 0.6003  data: 0.0249  max mem: 8495\n",
      "Epoch: [9]  [110/372]  eta: 0:02:40  lr: 0.000005  loss: 0.2145 (0.2420)  loss_classifier: 0.1607 (0.1830)  loss_box_reg: 0.0489 (0.0543)  loss_objectness: 0.0009 (0.0013)  loss_rpn_box_reg: 0.0024 (0.0034)  time: 0.6013  data: 0.0251  max mem: 8495\n",
      "Epoch: [9]  [120/372]  eta: 0:02:34  lr: 0.000005  loss: 0.1968 (0.2417)  loss_classifier: 0.1545 (0.1830)  loss_box_reg: 0.0440 (0.0542)  loss_objectness: 0.0007 (0.0013)  loss_rpn_box_reg: 0.0024 (0.0033)  time: 0.6031  data: 0.0259  max mem: 8495\n",
      "Epoch: [9]  [130/372]  eta: 0:02:28  lr: 0.000005  loss: 0.2459 (0.2427)  loss_classifier: 0.1837 (0.1838)  loss_box_reg: 0.0513 (0.0545)  loss_objectness: 0.0003 (0.0012)  loss_rpn_box_reg: 0.0018 (0.0033)  time: 0.6029  data: 0.0262  max mem: 8495\n",
      "Epoch: [9]  [140/372]  eta: 0:02:21  lr: 0.000005  loss: 0.2512 (0.2442)  loss_classifier: 0.2041 (0.1845)  loss_box_reg: 0.0556 (0.0550)  loss_objectness: 0.0008 (0.0014)  loss_rpn_box_reg: 0.0028 (0.0034)  time: 0.6017  data: 0.0257  max mem: 8495\n",
      "Epoch: [9]  [150/372]  eta: 0:02:15  lr: 0.000005  loss: 0.2391 (0.2428)  loss_classifier: 0.1835 (0.1839)  loss_box_reg: 0.0515 (0.0543)  loss_objectness: 0.0011 (0.0013)  loss_rpn_box_reg: 0.0027 (0.0033)  time: 0.6020  data: 0.0255  max mem: 8495\n",
      "Epoch: [9]  [160/372]  eta: 0:02:09  lr: 0.000005  loss: 0.2258 (0.2423)  loss_classifier: 0.1761 (0.1835)  loss_box_reg: 0.0466 (0.0542)  loss_objectness: 0.0007 (0.0013)  loss_rpn_box_reg: 0.0025 (0.0033)  time: 0.6034  data: 0.0264  max mem: 8495\n",
      "Epoch: [9]  [170/372]  eta: 0:02:03  lr: 0.000005  loss: 0.2258 (0.2417)  loss_classifier: 0.1733 (0.1832)  loss_box_reg: 0.0485 (0.0539)  loss_objectness: 0.0008 (0.0013)  loss_rpn_box_reg: 0.0027 (0.0032)  time: 0.6023  data: 0.0271  max mem: 8495\n",
      "Epoch: [9]  [180/372]  eta: 0:01:57  lr: 0.000005  loss: 0.2068 (0.2397)  loss_classifier: 0.1551 (0.1817)  loss_box_reg: 0.0455 (0.0534)  loss_objectness: 0.0008 (0.0013)  loss_rpn_box_reg: 0.0022 (0.0033)  time: 0.6015  data: 0.0270  max mem: 8495\n",
      "Epoch: [9]  [190/372]  eta: 0:01:50  lr: 0.000005  loss: 0.2068 (0.2394)  loss_classifier: 0.1551 (0.1816)  loss_box_reg: 0.0440 (0.0532)  loss_objectness: 0.0005 (0.0013)  loss_rpn_box_reg: 0.0020 (0.0033)  time: 0.6010  data: 0.0262  max mem: 8495\n",
      "Epoch: [9]  [200/372]  eta: 0:01:44  lr: 0.000005  loss: 0.2129 (0.2389)  loss_classifier: 0.1711 (0.1813)  loss_box_reg: 0.0448 (0.0531)  loss_objectness: 0.0007 (0.0013)  loss_rpn_box_reg: 0.0020 (0.0032)  time: 0.6012  data: 0.0251  max mem: 8495\n",
      "Epoch: [9]  [210/372]  eta: 0:01:38  lr: 0.000005  loss: 0.2129 (0.2381)  loss_classifier: 0.1565 (0.1806)  loss_box_reg: 0.0473 (0.0529)  loss_objectness: 0.0009 (0.0013)  loss_rpn_box_reg: 0.0024 (0.0032)  time: 0.6017  data: 0.0252  max mem: 8495\n",
      "Epoch: [9]  [220/372]  eta: 0:01:32  lr: 0.000005  loss: 0.2250 (0.2392)  loss_classifier: 0.1725 (0.1814)  loss_box_reg: 0.0535 (0.0532)  loss_objectness: 0.0009 (0.0013)  loss_rpn_box_reg: 0.0034 (0.0033)  time: 0.6011  data: 0.0256  max mem: 8495\n",
      "Epoch: [9]  [230/372]  eta: 0:01:26  lr: 0.000005  loss: 0.2541 (0.2402)  loss_classifier: 0.1932 (0.1822)  loss_box_reg: 0.0562 (0.0535)  loss_objectness: 0.0008 (0.0014)  loss_rpn_box_reg: 0.0028 (0.0032)  time: 0.6015  data: 0.0256  max mem: 8495\n",
      "Epoch: [9]  [240/372]  eta: 0:01:20  lr: 0.000005  loss: 0.2245 (0.2393)  loss_classifier: 0.1756 (0.1815)  loss_box_reg: 0.0507 (0.0532)  loss_objectness: 0.0008 (0.0014)  loss_rpn_box_reg: 0.0026 (0.0032)  time: 0.6008  data: 0.0252  max mem: 8495\n",
      "Epoch: [9]  [250/372]  eta: 0:01:14  lr: 0.000005  loss: 0.2245 (0.2394)  loss_classifier: 0.1737 (0.1815)  loss_box_reg: 0.0441 (0.0533)  loss_objectness: 0.0008 (0.0013)  loss_rpn_box_reg: 0.0026 (0.0032)  time: 0.6013  data: 0.0256  max mem: 8495\n",
      "Epoch: [9]  [260/372]  eta: 0:01:08  lr: 0.000005  loss: 0.2340 (0.2405)  loss_classifier: 0.1803 (0.1823)  loss_box_reg: 0.0522 (0.0536)  loss_objectness: 0.0006 (0.0013)  loss_rpn_box_reg: 0.0022 (0.0032)  time: 0.6026  data: 0.0258  max mem: 8495\n",
      "Epoch: [9]  [270/372]  eta: 0:01:01  lr: 0.000005  loss: 0.2340 (0.2406)  loss_classifier: 0.1874 (0.1825)  loss_box_reg: 0.0477 (0.0536)  loss_objectness: 0.0007 (0.0013)  loss_rpn_box_reg: 0.0027 (0.0032)  time: 0.6013  data: 0.0256  max mem: 8495\n",
      "Epoch: [9]  [280/372]  eta: 0:00:55  lr: 0.000005  loss: 0.2457 (0.2409)  loss_classifier: 0.1871 (0.1827)  loss_box_reg: 0.0522 (0.0537)  loss_objectness: 0.0008 (0.0013)  loss_rpn_box_reg: 0.0027 (0.0032)  time: 0.6018  data: 0.0267  max mem: 8495\n",
      "Epoch: [9]  [290/372]  eta: 0:00:49  lr: 0.000005  loss: 0.2550 (0.2416)  loss_classifier: 0.1772 (0.1831)  loss_box_reg: 0.0538 (0.0539)  loss_objectness: 0.0009 (0.0013)  loss_rpn_box_reg: 0.0022 (0.0032)  time: 0.6040  data: 0.0279  max mem: 8495\n",
      "Epoch: [9]  [300/372]  eta: 0:00:43  lr: 0.000005  loss: 0.2554 (0.2420)  loss_classifier: 0.1772 (0.1831)  loss_box_reg: 0.0559 (0.0543)  loss_objectness: 0.0010 (0.0013)  loss_rpn_box_reg: 0.0027 (0.0032)  time: 0.6038  data: 0.0279  max mem: 8495\n",
      "Epoch: [9]  [310/372]  eta: 0:00:37  lr: 0.000005  loss: 0.2392 (0.2420)  loss_classifier: 0.1777 (0.1830)  loss_box_reg: 0.0539 (0.0544)  loss_objectness: 0.0012 (0.0014)  loss_rpn_box_reg: 0.0032 (0.0032)  time: 0.6036  data: 0.0276  max mem: 8495\n",
      "Epoch: [9]  [320/372]  eta: 0:00:31  lr: 0.000005  loss: 0.2367 (0.2414)  loss_classifier: 0.1728 (0.1824)  loss_box_reg: 0.0505 (0.0544)  loss_objectness: 0.0012 (0.0014)  loss_rpn_box_reg: 0.0031 (0.0032)  time: 0.6040  data: 0.0274  max mem: 8495\n",
      "Epoch: [9]  [330/372]  eta: 0:00:25  lr: 0.000005  loss: 0.2282 (0.2415)  loss_classifier: 0.1706 (0.1826)  loss_box_reg: 0.0560 (0.0544)  loss_objectness: 0.0009 (0.0014)  loss_rpn_box_reg: 0.0022 (0.0032)  time: 0.6036  data: 0.0269  max mem: 8495\n",
      "Epoch: [9]  [340/372]  eta: 0:00:19  lr: 0.000005  loss: 0.2407 (0.2416)  loss_classifier: 0.1887 (0.1826)  loss_box_reg: 0.0524 (0.0544)  loss_objectness: 0.0008 (0.0013)  loss_rpn_box_reg: 0.0025 (0.0032)  time: 0.6017  data: 0.0264  max mem: 8495\n",
      "Epoch: [9]  [350/372]  eta: 0:00:13  lr: 0.000005  loss: 0.2407 (0.2417)  loss_classifier: 0.1680 (0.1826)  loss_box_reg: 0.0524 (0.0545)  loss_objectness: 0.0009 (0.0013)  loss_rpn_box_reg: 0.0030 (0.0032)  time: 0.6010  data: 0.0263  max mem: 8495\n",
      "Epoch: [9]  [360/372]  eta: 0:00:07  lr: 0.000005  loss: 0.2200 (0.2409)  loss_classifier: 0.1657 (0.1820)  loss_box_reg: 0.0498 (0.0543)  loss_objectness: 0.0005 (0.0013)  loss_rpn_box_reg: 0.0028 (0.0032)  time: 0.6018  data: 0.0265  max mem: 8495\n",
      "Epoch: [9]  [370/372]  eta: 0:00:01  lr: 0.000005  loss: 0.2200 (0.2413)  loss_classifier: 0.1688 (0.1822)  loss_box_reg: 0.0534 (0.0546)  loss_objectness: 0.0004 (0.0013)  loss_rpn_box_reg: 0.0023 (0.0032)  time: 0.5999  data: 0.0262  max mem: 8495\n",
      "Epoch: [9]  [371/372]  eta: 0:00:00  lr: 0.000005  loss: 0.2165 (0.2412)  loss_classifier: 0.1657 (0.1821)  loss_box_reg: 0.0498 (0.0545)  loss_objectness: 0.0004 (0.0013)  loss_rpn_box_reg: 0.0023 (0.0032)  time: 0.5918  data: 0.0259  max mem: 8495\n",
      "Epoch: [9] Total time: 0:03:45 (0.6055 s / it)\n",
      "creating index...\n",
      "index created!\n",
      "Test:  [ 0/80]  eta: 0:01:01  model_time: 0.2727 (0.2727)  evaluator_time: 0.0251 (0.0251)  time: 0.7723  data: 0.4566  max mem: 8495\n",
      "Test:  [79/80]  eta: 0:00:00  model_time: 0.2486 (0.2481)  evaluator_time: 0.0199 (0.0225)  time: 0.3045  data: 0.0239  max mem: 8495\n",
      "Test: Total time: 0:00:25 (0.3180 s / it)\n",
      "Averaged stats: model_time: 0.2486 (0.2481)  evaluator_time: 0.0199 (0.0225)\n",
      "Accumulating evaluation results...\n",
      "DONE (t=0.85s).\n",
      "IoU metric: bbox\n",
      " Average Precision  (AP) @[ IoU=0.50:0.95 | area=   all | maxDets=100 ] = 0.136\n",
      " Average Precision  (AP) @[ IoU=0.50      | area=   all | maxDets=100 ] = 0.191\n",
      " Average Precision  (AP) @[ IoU=0.75      | area=   all | maxDets=100 ] = 0.160\n",
      " Average Precision  (AP) @[ IoU=0.50:0.95 | area= small | maxDets=100 ] = 0.136\n",
      " Average Precision  (AP) @[ IoU=0.50:0.95 | area=medium | maxDets=100 ] = 0.131\n",
      " Average Precision  (AP) @[ IoU=0.50:0.95 | area= large | maxDets=100 ] = 0.161\n",
      " Average Recall     (AR) @[ IoU=0.50:0.95 | area=   all | maxDets=  1 ] = 0.426\n",
      " Average Recall     (AR) @[ IoU=0.50:0.95 | area=   all | maxDets= 10 ] = 0.549\n",
      " Average Recall     (AR) @[ IoU=0.50:0.95 | area=   all | maxDets=100 ] = 0.549\n",
      " Average Recall     (AR) @[ IoU=0.50:0.95 | area= small | maxDets=100 ] = 0.353\n",
      " Average Recall     (AR) @[ IoU=0.50:0.95 | area=medium | maxDets=100 ] = 0.458\n",
      " Average Recall     (AR) @[ IoU=0.50:0.95 | area= large | maxDets=100 ] = 0.587\n",
      "That's it!\n"
     ]
    }
   ],
   "source": [
    "from engine import train_one_epoch, evaluate\n",
    "\n",
    "# train on the GPU or on the CPU, if a GPU is not available\n",
    "\n",
    "\n",
    "# split the dataset in train and test set\n",
    "#torch.manual_seed(1)\n",
    "#indices = torch.randperm(len(dataset)).tolist()\n",
    "\n",
    "num_classes = 38\n",
    "# use our dataset and defined transformations\n",
    "dataset = AircraftsDataset(files_dir, 640, 640, transforms= get_transform(train=True), pickle_file = train_pickle)\n",
    "dataset_test = AircraftsDataset(test_dir, 640, 640, transforms= get_transform(train=False), pickle_file = test_pickle)\n",
    "\n",
    "#test_split = 0.2\n",
    "#tsize = int(len(dataset)*test_split)\n",
    "#dataset = torch.utils.data.Subset(dataset, indices[:-tsize])\n",
    "#dataset_test = torch.utils.data.Subset(dataset_test, indices[-tsize:])\n",
    "\n",
    "# define training and validation data loaders\n",
    "data_loader = torch.utils.data.DataLoader(\n",
    "    dataset,\n",
    "    batch_size=10,\n",
    "    shuffle=True,\n",
    "    num_workers=4,\n",
    "    collate_fn=utils.collate_fn\n",
    ")\n",
    "\n",
    "data_loader_test = torch.utils.data.DataLoader(\n",
    "    dataset_test,\n",
    "    batch_size=10,\n",
    "    shuffle=False,\n",
    "    num_workers=4,\n",
    "    collate_fn=utils.collate_fn\n",
    ")\n",
    "\n",
    "# get the model using our helper function\n",
    "model = get_model_instance_segmentation(num_classes)\n",
    "\n",
    "# move model to the right device\n",
    "model.to(device)\n",
    "\n",
    "# construct an optimizer\n",
    "params = [p for p in model.parameters() if p.requires_grad]\n",
    "optimizer = torch.optim.SGD(\n",
    "    params,\n",
    "    lr=0.005,\n",
    "    momentum=0.9,\n",
    "    weight_decay=0.0005\n",
    ")\n",
    "\n",
    "# and a learning rate scheduler\n",
    "lr_scheduler = torch.optim.lr_scheduler.StepLR(\n",
    "    optimizer,\n",
    "    step_size=3,\n",
    "    gamma=0.1\n",
    ")\n",
    "\n",
    "# let's train it just for 2 epochs\n",
    "num_epochs = 10\n",
    "\n",
    "for epoch in range(num_epochs):\n",
    "    # train for one epoch, printing every 10 iterations\n",
    "    train_one_epoch(model, optimizer, data_loader, device, epoch, print_freq=10)\n",
    "    # update the learning rate\n",
    "    lr_scheduler.step()\n",
    "    # evaluate on the test dataset\n",
    "    evaluate(model, data_loader_test, device=device)\n",
    "\n",
    "print(\"That's it!\")"
   ]
  },
  {
   "cell_type": "code",
   "execution_count": 11,
   "metadata": {
    "tags": []
   },
   "outputs": [],
   "source": [
    "torch.save(model, 'model_object_detection_v2.pth')"
   ]
  },
  {
   "cell_type": "code",
   "execution_count": 8,
   "metadata": {
    "tags": []
   },
   "outputs": [],
   "source": [
    "model = torch.load('model_object_detection_v2.pth')"
   ]
  },
  {
   "cell_type": "markdown",
   "metadata": {
    "id": "pa-hMCEk_Qgj"
   },
   "source": [
    "# Decode predictions"
   ]
  },
  {
   "cell_type": "markdown",
   "metadata": {
    "id": "4etXMpp6_Qgj"
   },
   "source": [
    "Our model predicts a lot of bounding boxes per image, to take out the overlapping ones, We will use **Non Max Suppression** if you want to brush up on that, check [this](https://towardsdatascience.com/non-maximum-suppression-nms-93ce178e177c) out.\n",
    "\n",
    "Torchvision provides us a utility to apply nms to our predictions, lets build a function `apply_nms` using that."
   ]
  },
  {
   "cell_type": "code",
   "execution_count": 9,
   "metadata": {
    "id": "8wf3tuey_Qgj"
   },
   "outputs": [],
   "source": [
    "# the function takes the original prediction and the iou threshold.\n",
    "\n",
    "def apply_nms(orig_prediction, iou_thresh=0.3):\n",
    "\n",
    "    # torchvision returns the indices of the bboxes to keep\n",
    "    keep = torchvision.ops.nms(orig_prediction['boxes'], orig_prediction['scores'], iou_thresh)\n",
    "\n",
    "    final_prediction = orig_prediction\n",
    "    final_prediction['boxes'] = final_prediction['boxes'][keep]\n",
    "    final_prediction['scores'] = final_prediction['scores'][keep]\n",
    "    final_prediction['labels'] = final_prediction['labels'][keep]\n",
    "\n",
    "    return final_prediction\n",
    "\n",
    "# function to convert a torchtensor back to PIL image\n",
    "def torch_to_pil(img):\n",
    "    return torchtrans.ToPILImage()(img).convert('RGB')"
   ]
  },
  {
   "cell_type": "markdown",
   "metadata": {
    "id": "LeAWRF2p_Qgj"
   },
   "source": [
    "# Testing our Model"
   ]
  },
  {
   "cell_type": "markdown",
   "metadata": {
    "id": "EiTKTJ1I_Qgj"
   },
   "source": [
    "Lets take an image from our test dataset and see, how our model does.\n",
    "\n",
    "We will first see, how many bounding boxes does our model predict compared to actual"
   ]
  },
  {
   "cell_type": "code",
   "execution_count": 37,
   "metadata": {
    "tags": []
   },
   "outputs": [
    {
     "name": "stdout",
     "output_type": "stream",
     "text": [
      "length of dataset =  797 \n",
      "\n"
     ]
    }
   ],
   "source": [
    "dataset_test = AircraftsDataset(val_dir, 640, 640, pickle_file=val_pickle)\n",
    "print('length of dataset = ', len(dataset_test), '\\n')"
   ]
  },
  {
   "cell_type": "code",
   "execution_count": 39,
   "metadata": {
    "tags": []
   },
   "outputs": [],
   "source": [
    "img, target = dataset_test[1]"
   ]
  },
  {
   "cell_type": "code",
   "execution_count": 41,
   "metadata": {
    "tags": []
   },
   "outputs": [],
   "source": [
    "def eval_transform(image):\n",
    "    transform = A.Compose([\n",
    "    ToTensorV2(p=1.0)\n",
    "    ], bbox_params={'format': 'pascal_voc', 'label_fields': ['labels']})\n",
    "\n",
    "    return transform(image=image)  # Pass 'image' as a keyword argument"
   ]
  },
  {
   "cell_type": "code",
   "execution_count": null,
   "metadata": {
    "tags": []
   },
   "outputs": [],
   "source": []
  },
  {
   "cell_type": "code",
   "execution_count": 42,
   "metadata": {
    "tags": []
   },
   "outputs": [
    {
     "ename": "ValueError",
     "evalue": "Your 'label_fields' are not valid - them must have same names as params in dict",
     "output_type": "error",
     "traceback": [
      "\u001b[0;31m---------------------------------------------------------------------------\u001b[0m",
      "\u001b[0;31mValueError\u001b[0m                                Traceback (most recent call last)",
      "Cell \u001b[0;32mIn[42], line 14\u001b[0m\n\u001b[1;32m     12\u001b[0m model\u001b[38;5;241m.\u001b[39meval()\n\u001b[1;32m     13\u001b[0m \u001b[38;5;28;01mwith\u001b[39;00m torch\u001b[38;5;241m.\u001b[39mno_grad():\n\u001b[0;32m---> 14\u001b[0m     x \u001b[38;5;241m=\u001b[39m \u001b[43meval_transform\u001b[49m\u001b[43m(\u001b[49m\u001b[43mimage\u001b[49m\u001b[43m)\u001b[49m\n\u001b[1;32m     15\u001b[0m     \u001b[38;5;66;03m# convert RGBA -> RGB and move to device\u001b[39;00m\n\u001b[1;32m     16\u001b[0m     predictions \u001b[38;5;241m=\u001b[39m model([image, ])\n",
      "Cell \u001b[0;32mIn[41], line 6\u001b[0m, in \u001b[0;36meval_transform\u001b[0;34m(image)\u001b[0m\n\u001b[1;32m      1\u001b[0m \u001b[38;5;28;01mdef\u001b[39;00m \u001b[38;5;21meval_transform\u001b[39m(image):\n\u001b[1;32m      2\u001b[0m     transform \u001b[38;5;241m=\u001b[39m A\u001b[38;5;241m.\u001b[39mCompose([\n\u001b[1;32m      3\u001b[0m     ToTensorV2(p\u001b[38;5;241m=\u001b[39m\u001b[38;5;241m1.0\u001b[39m)\n\u001b[1;32m      4\u001b[0m     ], bbox_params\u001b[38;5;241m=\u001b[39m{\u001b[38;5;124m'\u001b[39m\u001b[38;5;124mformat\u001b[39m\u001b[38;5;124m'\u001b[39m: \u001b[38;5;124m'\u001b[39m\u001b[38;5;124mpascal_voc\u001b[39m\u001b[38;5;124m'\u001b[39m, \u001b[38;5;124m'\u001b[39m\u001b[38;5;124mlabel_fields\u001b[39m\u001b[38;5;124m'\u001b[39m: [\u001b[38;5;124m'\u001b[39m\u001b[38;5;124mlabels\u001b[39m\u001b[38;5;124m'\u001b[39m]})\n\u001b[0;32m----> 6\u001b[0m     \u001b[38;5;28;01mreturn\u001b[39;00m \u001b[43mtransform\u001b[49m\u001b[43m(\u001b[49m\u001b[43mimage\u001b[49m\u001b[38;5;241;43m=\u001b[39;49m\u001b[43mimage\u001b[49m\u001b[43m)\u001b[49m\n",
      "File \u001b[0;32m/opt/conda/envs/pytorch/lib/python3.10/site-packages/albumentations/core/composition.py:202\u001b[0m, in \u001b[0;36mCompose.__call__\u001b[0;34m(self, force_apply, *args, **data)\u001b[0m\n\u001b[1;32m    200\u001b[0m need_to_run \u001b[38;5;241m=\u001b[39m force_apply \u001b[38;5;129;01mor\u001b[39;00m random\u001b[38;5;241m.\u001b[39mrandom() \u001b[38;5;241m<\u001b[39m \u001b[38;5;28mself\u001b[39m\u001b[38;5;241m.\u001b[39mp\n\u001b[1;32m    201\u001b[0m \u001b[38;5;28;01mfor\u001b[39;00m p \u001b[38;5;129;01min\u001b[39;00m \u001b[38;5;28mself\u001b[39m\u001b[38;5;241m.\u001b[39mprocessors\u001b[38;5;241m.\u001b[39mvalues():\n\u001b[0;32m--> 202\u001b[0m     \u001b[43mp\u001b[49m\u001b[38;5;241;43m.\u001b[39;49m\u001b[43mensure_data_valid\u001b[49m\u001b[43m(\u001b[49m\u001b[43mdata\u001b[49m\u001b[43m)\u001b[49m\n\u001b[1;32m    203\u001b[0m transforms \u001b[38;5;241m=\u001b[39m \u001b[38;5;28mself\u001b[39m\u001b[38;5;241m.\u001b[39mtransforms \u001b[38;5;28;01mif\u001b[39;00m need_to_run \u001b[38;5;28;01melse\u001b[39;00m get_always_apply(\u001b[38;5;28mself\u001b[39m\u001b[38;5;241m.\u001b[39mtransforms)\n\u001b[1;32m    205\u001b[0m check_each_transform \u001b[38;5;241m=\u001b[39m \u001b[38;5;28many\u001b[39m(\n\u001b[1;32m    206\u001b[0m     \u001b[38;5;28mgetattr\u001b[39m(item\u001b[38;5;241m.\u001b[39mparams, \u001b[38;5;124m\"\u001b[39m\u001b[38;5;124mcheck_each_transform\u001b[39m\u001b[38;5;124m\"\u001b[39m, \u001b[38;5;28;01mFalse\u001b[39;00m) \u001b[38;5;28;01mfor\u001b[39;00m item \u001b[38;5;129;01min\u001b[39;00m \u001b[38;5;28mself\u001b[39m\u001b[38;5;241m.\u001b[39mprocessors\u001b[38;5;241m.\u001b[39mvalues()\n\u001b[1;32m    207\u001b[0m )\n",
      "File \u001b[0;32m/opt/conda/envs/pytorch/lib/python3.10/site-packages/albumentations/core/bbox_utils.py:117\u001b[0m, in \u001b[0;36mBboxProcessor.ensure_data_valid\u001b[0;34m(self, data)\u001b[0m\n\u001b[1;32m    115\u001b[0m \u001b[38;5;28;01mif\u001b[39;00m \u001b[38;5;28mself\u001b[39m\u001b[38;5;241m.\u001b[39mparams\u001b[38;5;241m.\u001b[39mlabel_fields:\n\u001b[1;32m    116\u001b[0m     \u001b[38;5;28;01mif\u001b[39;00m \u001b[38;5;129;01mnot\u001b[39;00m \u001b[38;5;28mall\u001b[39m(i \u001b[38;5;129;01min\u001b[39;00m data\u001b[38;5;241m.\u001b[39mkeys() \u001b[38;5;28;01mfor\u001b[39;00m i \u001b[38;5;129;01min\u001b[39;00m \u001b[38;5;28mself\u001b[39m\u001b[38;5;241m.\u001b[39mparams\u001b[38;5;241m.\u001b[39mlabel_fields):\n\u001b[0;32m--> 117\u001b[0m         \u001b[38;5;28;01mraise\u001b[39;00m \u001b[38;5;167;01mValueError\u001b[39;00m(\u001b[38;5;124m\"\u001b[39m\u001b[38;5;124mYour \u001b[39m\u001b[38;5;124m'\u001b[39m\u001b[38;5;124mlabel_fields\u001b[39m\u001b[38;5;124m'\u001b[39m\u001b[38;5;124m are not valid - them must have same names as params in dict\u001b[39m\u001b[38;5;124m\"\u001b[39m)\n",
      "\u001b[0;31mValueError\u001b[0m: Your 'label_fields' are not valid - them must have same names as params in dict"
     ]
    }
   ],
   "source": [
    "import matplotlib.pyplot as plt\n",
    "\n",
    "from torchvision.utils import draw_bounding_boxes\n",
    "from torchvision.io import read_image\n",
    "\n",
    "\n",
    "\n",
    "#image = read_image(\"/home/jupyter/images_gcs/det_modify/val/00afb4420bdce881ad216867c713c800.jpg\")\n",
    "image, target  = dataset_test[1]\n",
    "#eval_transform = eval_transform(image=image)\n",
    "\n",
    "model.eval()\n",
    "with torch.no_grad():\n",
    "    x = eval_transform(image)\n",
    "    # convert RGBA -> RGB and move to device\n",
    "    predictions = model([image, ])\n",
    "    pred = predictions[0]\n",
    "\n",
    "\n",
    "image = (255.0 * (image - image.min()) / (image.max() - image.min())).to(torch.uint8)\n",
    "image = image[:3, ...]\n",
    "pred_labels = [f\"class: {score:.3f}\" for label, score in zip(pred[\"labels\"], pred[\"scores\"])]\n",
    "pred_boxes = pred[\"boxes\"].long()\n",
    "output_image = draw_bounding_boxes(image, pred_boxes, pred_labels, colors=\"red\")\n",
    "\n",
    "output_image = draw_segmentation_masks(output_image, masks, alpha=0.5, colors=\"blue\")\n",
    "\n",
    "\n",
    "plt.figure(figsize=(12, 12))\n",
    "plt.imshow(output_image.permute(1, 2, 0))"
   ]
  },
  {
   "cell_type": "code",
   "execution_count": 15,
   "metadata": {
    "id": "-xM_Egw7_Qgj"
   },
   "outputs": [
    {
     "ename": "AttributeError",
     "evalue": "'numpy.ndarray' object has no attribute 'dim'",
     "output_type": "error",
     "traceback": [
      "\u001b[0;31m---------------------------------------------------------------------------\u001b[0m",
      "\u001b[0;31mAttributeError\u001b[0m                            Traceback (most recent call last)",
      "Cell \u001b[0;32mIn[15], line 6\u001b[0m\n\u001b[1;32m      4\u001b[0m model\u001b[38;5;241m.\u001b[39meval()\n\u001b[1;32m      5\u001b[0m \u001b[38;5;28;01mwith\u001b[39;00m torch\u001b[38;5;241m.\u001b[39mno_grad():\n\u001b[0;32m----> 6\u001b[0m     prediction \u001b[38;5;241m=\u001b[39m \u001b[43mmodel\u001b[49m\u001b[43m(\u001b[49m\u001b[43m[\u001b[49m\u001b[43mimg\u001b[49m\u001b[43m]\u001b[49m\u001b[43m)\u001b[49m[\u001b[38;5;241m0\u001b[39m]\n\u001b[1;32m      8\u001b[0m \u001b[38;5;28mprint\u001b[39m(\u001b[38;5;124m'\u001b[39m\u001b[38;5;124mpredicted #boxes: \u001b[39m\u001b[38;5;124m'\u001b[39m, \u001b[38;5;28mlen\u001b[39m(prediction[\u001b[38;5;124m'\u001b[39m\u001b[38;5;124mlabels\u001b[39m\u001b[38;5;124m'\u001b[39m]))\n\u001b[1;32m      9\u001b[0m \u001b[38;5;28mprint\u001b[39m(\u001b[38;5;124m'\u001b[39m\u001b[38;5;124mreal #boxes: \u001b[39m\u001b[38;5;124m'\u001b[39m, \u001b[38;5;28mlen\u001b[39m(target[\u001b[38;5;124m'\u001b[39m\u001b[38;5;124mlabels\u001b[39m\u001b[38;5;124m'\u001b[39m]))\n",
      "File \u001b[0;32m/opt/conda/envs/pytorch/lib/python3.10/site-packages/torch/nn/modules/module.py:1194\u001b[0m, in \u001b[0;36mModule._call_impl\u001b[0;34m(self, *input, **kwargs)\u001b[0m\n\u001b[1;32m   1190\u001b[0m \u001b[38;5;66;03m# If we don't have any hooks, we want to skip the rest of the logic in\u001b[39;00m\n\u001b[1;32m   1191\u001b[0m \u001b[38;5;66;03m# this function, and just call forward.\u001b[39;00m\n\u001b[1;32m   1192\u001b[0m \u001b[38;5;28;01mif\u001b[39;00m \u001b[38;5;129;01mnot\u001b[39;00m (\u001b[38;5;28mself\u001b[39m\u001b[38;5;241m.\u001b[39m_backward_hooks \u001b[38;5;129;01mor\u001b[39;00m \u001b[38;5;28mself\u001b[39m\u001b[38;5;241m.\u001b[39m_forward_hooks \u001b[38;5;129;01mor\u001b[39;00m \u001b[38;5;28mself\u001b[39m\u001b[38;5;241m.\u001b[39m_forward_pre_hooks \u001b[38;5;129;01mor\u001b[39;00m _global_backward_hooks\n\u001b[1;32m   1193\u001b[0m         \u001b[38;5;129;01mor\u001b[39;00m _global_forward_hooks \u001b[38;5;129;01mor\u001b[39;00m _global_forward_pre_hooks):\n\u001b[0;32m-> 1194\u001b[0m     \u001b[38;5;28;01mreturn\u001b[39;00m \u001b[43mforward_call\u001b[49m\u001b[43m(\u001b[49m\u001b[38;5;241;43m*\u001b[39;49m\u001b[38;5;28;43minput\u001b[39;49m\u001b[43m,\u001b[49m\u001b[43m \u001b[49m\u001b[38;5;241;43m*\u001b[39;49m\u001b[38;5;241;43m*\u001b[39;49m\u001b[43mkwargs\u001b[49m\u001b[43m)\u001b[49m\n\u001b[1;32m   1195\u001b[0m \u001b[38;5;66;03m# Do not call functions when jit is used\u001b[39;00m\n\u001b[1;32m   1196\u001b[0m full_backward_hooks, non_full_backward_hooks \u001b[38;5;241m=\u001b[39m [], []\n",
      "File \u001b[0;32m/opt/conda/envs/pytorch/lib/python3.10/site-packages/torchvision/models/detection/generalized_rcnn.py:83\u001b[0m, in \u001b[0;36mGeneralizedRCNN.forward\u001b[0;34m(self, images, targets)\u001b[0m\n\u001b[1;32m     77\u001b[0m     torch\u001b[38;5;241m.\u001b[39m_assert(\n\u001b[1;32m     78\u001b[0m         \u001b[38;5;28mlen\u001b[39m(val) \u001b[38;5;241m==\u001b[39m \u001b[38;5;241m2\u001b[39m,\n\u001b[1;32m     79\u001b[0m         \u001b[38;5;124mf\u001b[39m\u001b[38;5;124m\"\u001b[39m\u001b[38;5;124mexpecting the last two dimensions of the Tensor to be H and W instead got \u001b[39m\u001b[38;5;132;01m{\u001b[39;00mimg\u001b[38;5;241m.\u001b[39mshape[\u001b[38;5;241m-\u001b[39m\u001b[38;5;241m2\u001b[39m:]\u001b[38;5;132;01m}\u001b[39;00m\u001b[38;5;124m\"\u001b[39m,\n\u001b[1;32m     80\u001b[0m     )\n\u001b[1;32m     81\u001b[0m     original_image_sizes\u001b[38;5;241m.\u001b[39mappend((val[\u001b[38;5;241m0\u001b[39m], val[\u001b[38;5;241m1\u001b[39m]))\n\u001b[0;32m---> 83\u001b[0m images, targets \u001b[38;5;241m=\u001b[39m \u001b[38;5;28;43mself\u001b[39;49m\u001b[38;5;241;43m.\u001b[39;49m\u001b[43mtransform\u001b[49m\u001b[43m(\u001b[49m\u001b[43mimages\u001b[49m\u001b[43m,\u001b[49m\u001b[43m \u001b[49m\u001b[43mtargets\u001b[49m\u001b[43m)\u001b[49m\n\u001b[1;32m     85\u001b[0m \u001b[38;5;66;03m# Check for degenerate boxes\u001b[39;00m\n\u001b[1;32m     86\u001b[0m \u001b[38;5;66;03m# TODO: Move this to a function\u001b[39;00m\n\u001b[1;32m     87\u001b[0m \u001b[38;5;28;01mif\u001b[39;00m targets \u001b[38;5;129;01mis\u001b[39;00m \u001b[38;5;129;01mnot\u001b[39;00m \u001b[38;5;28;01mNone\u001b[39;00m:\n",
      "File \u001b[0;32m/opt/conda/envs/pytorch/lib/python3.10/site-packages/torch/nn/modules/module.py:1194\u001b[0m, in \u001b[0;36mModule._call_impl\u001b[0;34m(self, *input, **kwargs)\u001b[0m\n\u001b[1;32m   1190\u001b[0m \u001b[38;5;66;03m# If we don't have any hooks, we want to skip the rest of the logic in\u001b[39;00m\n\u001b[1;32m   1191\u001b[0m \u001b[38;5;66;03m# this function, and just call forward.\u001b[39;00m\n\u001b[1;32m   1192\u001b[0m \u001b[38;5;28;01mif\u001b[39;00m \u001b[38;5;129;01mnot\u001b[39;00m (\u001b[38;5;28mself\u001b[39m\u001b[38;5;241m.\u001b[39m_backward_hooks \u001b[38;5;129;01mor\u001b[39;00m \u001b[38;5;28mself\u001b[39m\u001b[38;5;241m.\u001b[39m_forward_hooks \u001b[38;5;129;01mor\u001b[39;00m \u001b[38;5;28mself\u001b[39m\u001b[38;5;241m.\u001b[39m_forward_pre_hooks \u001b[38;5;129;01mor\u001b[39;00m _global_backward_hooks\n\u001b[1;32m   1193\u001b[0m         \u001b[38;5;129;01mor\u001b[39;00m _global_forward_hooks \u001b[38;5;129;01mor\u001b[39;00m _global_forward_pre_hooks):\n\u001b[0;32m-> 1194\u001b[0m     \u001b[38;5;28;01mreturn\u001b[39;00m \u001b[43mforward_call\u001b[49m\u001b[43m(\u001b[49m\u001b[38;5;241;43m*\u001b[39;49m\u001b[38;5;28;43minput\u001b[39;49m\u001b[43m,\u001b[49m\u001b[43m \u001b[49m\u001b[38;5;241;43m*\u001b[39;49m\u001b[38;5;241;43m*\u001b[39;49m\u001b[43mkwargs\u001b[49m\u001b[43m)\u001b[49m\n\u001b[1;32m   1195\u001b[0m \u001b[38;5;66;03m# Do not call functions when jit is used\u001b[39;00m\n\u001b[1;32m   1196\u001b[0m full_backward_hooks, non_full_backward_hooks \u001b[38;5;241m=\u001b[39m [], []\n",
      "File \u001b[0;32m/opt/conda/envs/pytorch/lib/python3.10/site-packages/torchvision/models/detection/transform.py:127\u001b[0m, in \u001b[0;36mGeneralizedRCNNTransform.forward\u001b[0;34m(self, images, targets)\u001b[0m\n\u001b[1;32m    124\u001b[0m image \u001b[38;5;241m=\u001b[39m images[i]\n\u001b[1;32m    125\u001b[0m target_index \u001b[38;5;241m=\u001b[39m targets[i] \u001b[38;5;28;01mif\u001b[39;00m targets \u001b[38;5;129;01mis\u001b[39;00m \u001b[38;5;129;01mnot\u001b[39;00m \u001b[38;5;28;01mNone\u001b[39;00m \u001b[38;5;28;01melse\u001b[39;00m \u001b[38;5;28;01mNone\u001b[39;00m\n\u001b[0;32m--> 127\u001b[0m \u001b[38;5;28;01mif\u001b[39;00m \u001b[43mimage\u001b[49m\u001b[38;5;241;43m.\u001b[39;49m\u001b[43mdim\u001b[49m() \u001b[38;5;241m!=\u001b[39m \u001b[38;5;241m3\u001b[39m:\n\u001b[1;32m    128\u001b[0m     \u001b[38;5;28;01mraise\u001b[39;00m \u001b[38;5;167;01mValueError\u001b[39;00m(\u001b[38;5;124mf\u001b[39m\u001b[38;5;124m\"\u001b[39m\u001b[38;5;124mimages is expected to be a list of 3d tensors of shape [C, H, W], got \u001b[39m\u001b[38;5;132;01m{\u001b[39;00mimage\u001b[38;5;241m.\u001b[39mshape\u001b[38;5;132;01m}\u001b[39;00m\u001b[38;5;124m\"\u001b[39m)\n\u001b[1;32m    129\u001b[0m image \u001b[38;5;241m=\u001b[39m \u001b[38;5;28mself\u001b[39m\u001b[38;5;241m.\u001b[39mnormalize(image)\n",
      "\u001b[0;31mAttributeError\u001b[0m: 'numpy.ndarray' object has no attribute 'dim'"
     ]
    }
   ],
   "source": [
    "# pick one image from the test set\n",
    "img, target = dataset_test[5]\n",
    "# put the model in evaluation mode\n",
    "model.eval()\n",
    "with torch.no_grad():\n",
    "    prediction = model([img])[0]\n",
    "\n",
    "print('predicted #boxes: ', len(prediction['labels']))\n",
    "print('real #boxes: ', len(target['labels']))"
   ]
  },
  {
   "cell_type": "markdown",
   "metadata": {
    "id": "nnseLcww_Qgj"
   },
   "source": [
    "Whoa! Thats a lot of bboxes. Lets plot them and check what did it predict"
   ]
  },
  {
   "cell_type": "code",
   "execution_count": null,
   "metadata": {
    "id": "c-hthvYJ_Qgj"
   },
   "outputs": [],
   "source": [
    "print('EXPECTED OUTPUT')\n",
    "plot_img_bbox(torch_to_pil(img), target)"
   ]
  },
  {
   "cell_type": "code",
   "execution_count": null,
   "metadata": {
    "id": "cJ2ZC4kG_Qgj"
   },
   "outputs": [],
   "source": [
    "print('MODEL OUTPUT')\n",
    "plot_img_bbox(torch_to_pil(img), prediction)"
   ]
  },
  {
   "cell_type": "code",
   "execution_count": null,
   "metadata": {
    "id": "cpQ3Bk4x_Qgj"
   },
   "outputs": [],
   "source": [
    "nms_prediction = apply_nms(prediction, iou_thresh=0.2)\n",
    "print('NMS APPLIED MODEL OUTPUT')\n",
    "plot_img_bbox(torch_to_pil(img), nms_prediction)"
   ]
  },
  {
   "cell_type": "markdown",
   "metadata": {
    "id": "e1CjP9Tf_Qgj"
   },
   "source": [
    "Now lets take an image from the test set and try to predict on it"
   ]
  },
  {
   "cell_type": "code",
   "execution_count": null,
   "metadata": {
    "id": "tyJ_wz_x_Qgj"
   },
   "outputs": [],
   "source": [
    "test_dataset = FruitImagesDataset(test_dir, 480, 480, transforms= get_transform(train=True))\n",
    "# pick one image from the test set\n",
    "img, target = test_dataset[10]\n",
    "# put the model in evaluation mode\n",
    "model.eval()\n",
    "with torch.no_grad():\n",
    "    prediction = model([img.to(device)])[0]\n",
    "\n",
    "print('EXPECTED OUTPUT\\n')\n",
    "plot_img_bbox(torch_to_pil(img), target)\n",
    "print('MODEL OUTPUT\\n')\n",
    "nms_prediction = apply_nms(prediction, iou_thresh=0.01)\n",
    "\n",
    "plot_img_bbox(torch_to_pil(img), nms_prediction)"
   ]
  },
  {
   "cell_type": "markdown",
   "metadata": {
    "id": "l6EkFM7n_Qgj"
   },
   "source": [
    "The model does well on single object images.\n",
    "\n",
    "You can see that our model predicts the slices too and that means a failure ☹️ . But fear not, this is just a base line model here are some ideas we can improve it -\n",
    "1. Use a better model.\n",
    "   We have the option of changing the backbone of our model which at present is `resnet 50` and the fine tune it.\n",
    "   \n",
    "2. We can change the training configurations like size of the images, optimizers and learning rate schedule.\n",
    "3. We can add more augmentations.\n",
    "   We have used the Albumentations library which has an extensive library of data augmentation functions. Feel free to explore and try them out."
   ]
  },
  {
   "cell_type": "markdown",
   "metadata": {
    "id": "QDv9DOhm_Qgk"
   },
   "source": [
    "# Fin.\n",
    "\n",
    "That's it for the notebook.\n",
    "\n",
    "Please tell me if you have any suggestions to improve this kernel or if you find any errors. I will be glad to hear them.\n",
    "\n",
    "If you find the notebook useful, Consider upvoting this kernel :)"
   ]
  },
  {
   "cell_type": "code",
   "execution_count": null,
   "metadata": {
    "id": "b0305gnD_Qgk"
   },
   "outputs": [],
   "source": []
  }
 ],
 "metadata": {
  "colab": {
   "provenance": []
  },
  "environment": {
   "kernel": "conda-env-pytorch-pytorch",
   "name": "workbench-notebooks.m115",
   "type": "gcloud",
   "uri": "gcr.io/deeplearning-platform-release/workbench-notebooks:m115"
  },
  "kernelspec": {
   "display_name": "PyTorch 1-13 (Local)",
   "language": "python",
   "name": "conda-env-pytorch-pytorch"
  },
  "language_info": {
   "codemirror_mode": {
    "name": "ipython",
    "version": 3
   },
   "file_extension": ".py",
   "mimetype": "text/x-python",
   "name": "python",
   "nbconvert_exporter": "python",
   "pygments_lexer": "ipython3",
   "version": "3.10.13"
  }
 },
 "nbformat": 4,
 "nbformat_minor": 4
}
